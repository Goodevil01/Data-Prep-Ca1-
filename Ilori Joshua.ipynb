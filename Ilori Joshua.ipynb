{
 "cells": [
  {
   "cell_type": "code",
   "execution_count": 1,
   "id": "811d4b7e",
   "metadata": {
    "ExecuteTime": {
     "end_time": "2023-10-26T04:26:27.745103Z",
     "start_time": "2023-10-26T04:26:26.744023Z"
    }
   },
   "outputs": [],
   "source": [
    "import pandas as pd\n",
    "import numpy as np\n",
    "from numpy import count_nonzero\n",
    "import matplotlib.pyplot as plt\n",
    "import sklearn.preprocessing as preproc\n",
    "from sklearn.preprocessing import MinMaxScaler\n",
    "from sklearn.decomposition import PCA\n",
    "from scipy import sparse\n",
    "import matplotlib.pyplot as plt\n",
    "import seaborn as sns"
   ]
  },
  {
   "cell_type": "code",
   "execution_count": 2,
   "id": "3f448f8a",
   "metadata": {
    "ExecuteTime": {
     "end_time": "2023-10-26T04:26:29.358674Z",
     "start_time": "2023-10-26T04:26:27.746159Z"
    }
   },
   "outputs": [],
   "source": [
    "df = pd.read_csv(\"aps_failure_set.csv\")\n"
   ]
  },
  {
   "cell_type": "code",
   "execution_count": 3,
   "id": "15fc1e80",
   "metadata": {
    "ExecuteTime": {
     "end_time": "2023-10-26T04:26:29.372014Z",
     "start_time": "2023-10-26T04:26:29.360641Z"
    }
   },
   "outputs": [
    {
     "data": {
      "text/html": [
       "<div>\n",
       "<style scoped>\n",
       "    .dataframe tbody tr th:only-of-type {\n",
       "        vertical-align: middle;\n",
       "    }\n",
       "\n",
       "    .dataframe tbody tr th {\n",
       "        vertical-align: top;\n",
       "    }\n",
       "\n",
       "    .dataframe thead th {\n",
       "        text-align: right;\n",
       "    }\n",
       "</style>\n",
       "<table border=\"1\" class=\"dataframe\">\n",
       "  <thead>\n",
       "    <tr style=\"text-align: right;\">\n",
       "      <th></th>\n",
       "      <th>class</th>\n",
       "      <th>aa_000</th>\n",
       "      <th>ab_000</th>\n",
       "      <th>ac_000</th>\n",
       "      <th>ad_000</th>\n",
       "      <th>ae_000</th>\n",
       "      <th>af_000</th>\n",
       "      <th>ag_000</th>\n",
       "      <th>ag_001</th>\n",
       "      <th>ag_002</th>\n",
       "      <th>...</th>\n",
       "      <th>ee_002</th>\n",
       "      <th>ee_003</th>\n",
       "      <th>ee_004</th>\n",
       "      <th>ee_005</th>\n",
       "      <th>ee_006</th>\n",
       "      <th>ee_007</th>\n",
       "      <th>ee_008</th>\n",
       "      <th>ee_009</th>\n",
       "      <th>ef_000</th>\n",
       "      <th>eg_000</th>\n",
       "    </tr>\n",
       "  </thead>\n",
       "  <tbody>\n",
       "    <tr>\n",
       "      <th>0</th>\n",
       "      <td>neg</td>\n",
       "      <td>76698</td>\n",
       "      <td>na</td>\n",
       "      <td>2130706438</td>\n",
       "      <td>280</td>\n",
       "      <td>0</td>\n",
       "      <td>0</td>\n",
       "      <td>0</td>\n",
       "      <td>0</td>\n",
       "      <td>0</td>\n",
       "      <td>...</td>\n",
       "      <td>1240520</td>\n",
       "      <td>493384</td>\n",
       "      <td>721044</td>\n",
       "      <td>469792</td>\n",
       "      <td>339156</td>\n",
       "      <td>157956</td>\n",
       "      <td>73224</td>\n",
       "      <td>0</td>\n",
       "      <td>0</td>\n",
       "      <td>0</td>\n",
       "    </tr>\n",
       "    <tr>\n",
       "      <th>1</th>\n",
       "      <td>neg</td>\n",
       "      <td>33058</td>\n",
       "      <td>na</td>\n",
       "      <td>0</td>\n",
       "      <td>na</td>\n",
       "      <td>0</td>\n",
       "      <td>0</td>\n",
       "      <td>0</td>\n",
       "      <td>0</td>\n",
       "      <td>0</td>\n",
       "      <td>...</td>\n",
       "      <td>421400</td>\n",
       "      <td>178064</td>\n",
       "      <td>293306</td>\n",
       "      <td>245416</td>\n",
       "      <td>133654</td>\n",
       "      <td>81140</td>\n",
       "      <td>97576</td>\n",
       "      <td>1500</td>\n",
       "      <td>0</td>\n",
       "      <td>0</td>\n",
       "    </tr>\n",
       "    <tr>\n",
       "      <th>2</th>\n",
       "      <td>neg</td>\n",
       "      <td>41040</td>\n",
       "      <td>na</td>\n",
       "      <td>228</td>\n",
       "      <td>100</td>\n",
       "      <td>0</td>\n",
       "      <td>0</td>\n",
       "      <td>0</td>\n",
       "      <td>0</td>\n",
       "      <td>0</td>\n",
       "      <td>...</td>\n",
       "      <td>277378</td>\n",
       "      <td>159812</td>\n",
       "      <td>423992</td>\n",
       "      <td>409564</td>\n",
       "      <td>320746</td>\n",
       "      <td>158022</td>\n",
       "      <td>95128</td>\n",
       "      <td>514</td>\n",
       "      <td>0</td>\n",
       "      <td>0</td>\n",
       "    </tr>\n",
       "    <tr>\n",
       "      <th>3</th>\n",
       "      <td>neg</td>\n",
       "      <td>12</td>\n",
       "      <td>0</td>\n",
       "      <td>70</td>\n",
       "      <td>66</td>\n",
       "      <td>0</td>\n",
       "      <td>10</td>\n",
       "      <td>0</td>\n",
       "      <td>0</td>\n",
       "      <td>0</td>\n",
       "      <td>...</td>\n",
       "      <td>240</td>\n",
       "      <td>46</td>\n",
       "      <td>58</td>\n",
       "      <td>44</td>\n",
       "      <td>10</td>\n",
       "      <td>0</td>\n",
       "      <td>0</td>\n",
       "      <td>0</td>\n",
       "      <td>4</td>\n",
       "      <td>32</td>\n",
       "    </tr>\n",
       "    <tr>\n",
       "      <th>4</th>\n",
       "      <td>neg</td>\n",
       "      <td>60874</td>\n",
       "      <td>na</td>\n",
       "      <td>1368</td>\n",
       "      <td>458</td>\n",
       "      <td>0</td>\n",
       "      <td>0</td>\n",
       "      <td>0</td>\n",
       "      <td>0</td>\n",
       "      <td>0</td>\n",
       "      <td>...</td>\n",
       "      <td>622012</td>\n",
       "      <td>229790</td>\n",
       "      <td>405298</td>\n",
       "      <td>347188</td>\n",
       "      <td>286954</td>\n",
       "      <td>311560</td>\n",
       "      <td>433954</td>\n",
       "      <td>1218</td>\n",
       "      <td>0</td>\n",
       "      <td>0</td>\n",
       "    </tr>\n",
       "  </tbody>\n",
       "</table>\n",
       "<p>5 rows × 171 columns</p>\n",
       "</div>"
      ],
      "text/plain": [
       "  class  aa_000 ab_000      ac_000 ad_000 ae_000 af_000 ag_000 ag_001 ag_002  \\\n",
       "0   neg   76698     na  2130706438    280      0      0      0      0      0   \n",
       "1   neg   33058     na           0     na      0      0      0      0      0   \n",
       "2   neg   41040     na         228    100      0      0      0      0      0   \n",
       "3   neg      12      0          70     66      0     10      0      0      0   \n",
       "4   neg   60874     na        1368    458      0      0      0      0      0   \n",
       "\n",
       "   ...   ee_002  ee_003  ee_004  ee_005  ee_006  ee_007  ee_008 ee_009 ef_000  \\\n",
       "0  ...  1240520  493384  721044  469792  339156  157956   73224      0      0   \n",
       "1  ...   421400  178064  293306  245416  133654   81140   97576   1500      0   \n",
       "2  ...   277378  159812  423992  409564  320746  158022   95128    514      0   \n",
       "3  ...      240      46      58      44      10       0       0      0      4   \n",
       "4  ...   622012  229790  405298  347188  286954  311560  433954   1218      0   \n",
       "\n",
       "  eg_000  \n",
       "0      0  \n",
       "1      0  \n",
       "2      0  \n",
       "3     32  \n",
       "4      0  \n",
       "\n",
       "[5 rows x 171 columns]"
      ]
     },
     "execution_count": 3,
     "metadata": {},
     "output_type": "execute_result"
    }
   ],
   "source": [
    "df.head()"
   ]
  },
  {
   "cell_type": "code",
   "execution_count": 4,
   "id": "fac08400",
   "metadata": {
    "ExecuteTime": {
     "end_time": "2023-10-26T04:26:29.382882Z",
     "start_time": "2023-10-26T04:26:29.373250Z"
    }
   },
   "outputs": [
    {
     "data": {
      "text/html": [
       "<div>\n",
       "<style scoped>\n",
       "    .dataframe tbody tr th:only-of-type {\n",
       "        vertical-align: middle;\n",
       "    }\n",
       "\n",
       "    .dataframe tbody tr th {\n",
       "        vertical-align: top;\n",
       "    }\n",
       "\n",
       "    .dataframe thead th {\n",
       "        text-align: right;\n",
       "    }\n",
       "</style>\n",
       "<table border=\"1\" class=\"dataframe\">\n",
       "  <thead>\n",
       "    <tr style=\"text-align: right;\">\n",
       "      <th></th>\n",
       "      <th>class</th>\n",
       "      <th>aa_000</th>\n",
       "      <th>ab_000</th>\n",
       "      <th>ac_000</th>\n",
       "      <th>ad_000</th>\n",
       "      <th>ae_000</th>\n",
       "      <th>af_000</th>\n",
       "      <th>ag_000</th>\n",
       "      <th>ag_001</th>\n",
       "      <th>ag_002</th>\n",
       "      <th>...</th>\n",
       "      <th>ee_002</th>\n",
       "      <th>ee_003</th>\n",
       "      <th>ee_004</th>\n",
       "      <th>ee_005</th>\n",
       "      <th>ee_006</th>\n",
       "      <th>ee_007</th>\n",
       "      <th>ee_008</th>\n",
       "      <th>ee_009</th>\n",
       "      <th>ef_000</th>\n",
       "      <th>eg_000</th>\n",
       "    </tr>\n",
       "  </thead>\n",
       "  <tbody>\n",
       "    <tr>\n",
       "      <th>59995</th>\n",
       "      <td>neg</td>\n",
       "      <td>153002</td>\n",
       "      <td>na</td>\n",
       "      <td>664</td>\n",
       "      <td>186</td>\n",
       "      <td>0</td>\n",
       "      <td>0</td>\n",
       "      <td>0</td>\n",
       "      <td>0</td>\n",
       "      <td>0</td>\n",
       "      <td>...</td>\n",
       "      <td>998500</td>\n",
       "      <td>566884</td>\n",
       "      <td>1290398</td>\n",
       "      <td>1218244</td>\n",
       "      <td>1019768</td>\n",
       "      <td>717762</td>\n",
       "      <td>898642</td>\n",
       "      <td>28588</td>\n",
       "      <td>0</td>\n",
       "      <td>0</td>\n",
       "    </tr>\n",
       "    <tr>\n",
       "      <th>59996</th>\n",
       "      <td>neg</td>\n",
       "      <td>2286</td>\n",
       "      <td>na</td>\n",
       "      <td>2130706538</td>\n",
       "      <td>224</td>\n",
       "      <td>0</td>\n",
       "      <td>0</td>\n",
       "      <td>0</td>\n",
       "      <td>0</td>\n",
       "      <td>0</td>\n",
       "      <td>...</td>\n",
       "      <td>10578</td>\n",
       "      <td>6760</td>\n",
       "      <td>21126</td>\n",
       "      <td>68424</td>\n",
       "      <td>136</td>\n",
       "      <td>0</td>\n",
       "      <td>0</td>\n",
       "      <td>0</td>\n",
       "      <td>0</td>\n",
       "      <td>0</td>\n",
       "    </tr>\n",
       "    <tr>\n",
       "      <th>59997</th>\n",
       "      <td>neg</td>\n",
       "      <td>112</td>\n",
       "      <td>0</td>\n",
       "      <td>2130706432</td>\n",
       "      <td>18</td>\n",
       "      <td>0</td>\n",
       "      <td>0</td>\n",
       "      <td>0</td>\n",
       "      <td>0</td>\n",
       "      <td>0</td>\n",
       "      <td>...</td>\n",
       "      <td>792</td>\n",
       "      <td>386</td>\n",
       "      <td>452</td>\n",
       "      <td>144</td>\n",
       "      <td>146</td>\n",
       "      <td>2622</td>\n",
       "      <td>0</td>\n",
       "      <td>0</td>\n",
       "      <td>0</td>\n",
       "      <td>0</td>\n",
       "    </tr>\n",
       "    <tr>\n",
       "      <th>59998</th>\n",
       "      <td>neg</td>\n",
       "      <td>80292</td>\n",
       "      <td>na</td>\n",
       "      <td>2130706432</td>\n",
       "      <td>494</td>\n",
       "      <td>0</td>\n",
       "      <td>0</td>\n",
       "      <td>0</td>\n",
       "      <td>0</td>\n",
       "      <td>0</td>\n",
       "      <td>...</td>\n",
       "      <td>699352</td>\n",
       "      <td>222654</td>\n",
       "      <td>347378</td>\n",
       "      <td>225724</td>\n",
       "      <td>194440</td>\n",
       "      <td>165070</td>\n",
       "      <td>802280</td>\n",
       "      <td>388422</td>\n",
       "      <td>0</td>\n",
       "      <td>0</td>\n",
       "    </tr>\n",
       "    <tr>\n",
       "      <th>59999</th>\n",
       "      <td>neg</td>\n",
       "      <td>40222</td>\n",
       "      <td>na</td>\n",
       "      <td>698</td>\n",
       "      <td>628</td>\n",
       "      <td>0</td>\n",
       "      <td>0</td>\n",
       "      <td>0</td>\n",
       "      <td>0</td>\n",
       "      <td>0</td>\n",
       "      <td>...</td>\n",
       "      <td>440066</td>\n",
       "      <td>183200</td>\n",
       "      <td>344546</td>\n",
       "      <td>254068</td>\n",
       "      <td>225148</td>\n",
       "      <td>158304</td>\n",
       "      <td>170384</td>\n",
       "      <td>158</td>\n",
       "      <td>0</td>\n",
       "      <td>0</td>\n",
       "    </tr>\n",
       "  </tbody>\n",
       "</table>\n",
       "<p>5 rows × 171 columns</p>\n",
       "</div>"
      ],
      "text/plain": [
       "      class  aa_000 ab_000      ac_000 ad_000 ae_000 af_000 ag_000 ag_001  \\\n",
       "59995   neg  153002     na         664    186      0      0      0      0   \n",
       "59996   neg    2286     na  2130706538    224      0      0      0      0   \n",
       "59997   neg     112      0  2130706432     18      0      0      0      0   \n",
       "59998   neg   80292     na  2130706432    494      0      0      0      0   \n",
       "59999   neg   40222     na         698    628      0      0      0      0   \n",
       "\n",
       "      ag_002  ...  ee_002  ee_003   ee_004   ee_005   ee_006  ee_007  ee_008  \\\n",
       "59995      0  ...  998500  566884  1290398  1218244  1019768  717762  898642   \n",
       "59996      0  ...   10578    6760    21126    68424      136       0       0   \n",
       "59997      0  ...     792     386      452      144      146    2622       0   \n",
       "59998      0  ...  699352  222654   347378   225724   194440  165070  802280   \n",
       "59999      0  ...  440066  183200   344546   254068   225148  158304  170384   \n",
       "\n",
       "       ee_009 ef_000 eg_000  \n",
       "59995   28588      0      0  \n",
       "59996       0      0      0  \n",
       "59997       0      0      0  \n",
       "59998  388422      0      0  \n",
       "59999     158      0      0  \n",
       "\n",
       "[5 rows x 171 columns]"
      ]
     },
     "execution_count": 4,
     "metadata": {},
     "output_type": "execute_result"
    }
   ],
   "source": [
    "df.tail(5)"
   ]
  },
  {
   "cell_type": "code",
   "execution_count": 5,
   "id": "b5603edc",
   "metadata": {
    "ExecuteTime": {
     "end_time": "2023-10-26T04:26:29.387429Z",
     "start_time": "2023-10-26T04:26:29.384234Z"
    }
   },
   "outputs": [
    {
     "data": {
      "text/plain": [
       "(60000, 171)"
      ]
     },
     "execution_count": 5,
     "metadata": {},
     "output_type": "execute_result"
    }
   ],
   "source": [
    "df.shape"
   ]
  },
  {
   "cell_type": "code",
   "execution_count": 6,
   "id": "07132c4e",
   "metadata": {
    "ExecuteTime": {
     "end_time": "2023-10-26T04:26:29.397858Z",
     "start_time": "2023-10-26T04:26:29.388678Z"
    }
   },
   "outputs": [
    {
     "name": "stdout",
     "output_type": "stream",
     "text": [
      "<class 'pandas.core.frame.DataFrame'>\n",
      "RangeIndex: 60000 entries, 0 to 59999\n",
      "Columns: 171 entries, class to eg_000\n",
      "dtypes: int64(1), object(170)\n",
      "memory usage: 78.3+ MB\n"
     ]
    }
   ],
   "source": [
    "df.info()"
   ]
  },
  {
   "cell_type": "code",
   "execution_count": 7,
   "id": "43166581",
   "metadata": {
    "ExecuteTime": {
     "end_time": "2023-10-26T04:26:29.405202Z",
     "start_time": "2023-10-26T04:26:29.398980Z"
    }
   },
   "outputs": [
    {
     "name": "stdout",
     "output_type": "stream",
     "text": [
      "<class 'pandas.core.frame.DataFrame'>\n",
      "RangeIndex: 60000 entries, 0 to 59999\n",
      "Data columns (total 171 columns):\n",
      " #    Column  Dtype \n",
      "---   ------  ----- \n",
      " 0    class   object\n",
      " 1    aa_000  int64 \n",
      " 2    ab_000  object\n",
      " 3    ac_000  object\n",
      " 4    ad_000  object\n",
      " 5    ae_000  object\n",
      " 6    af_000  object\n",
      " 7    ag_000  object\n",
      " 8    ag_001  object\n",
      " 9    ag_002  object\n",
      " 10   ag_003  object\n",
      " 11   ag_004  object\n",
      " 12   ag_005  object\n",
      " 13   ag_006  object\n",
      " 14   ag_007  object\n",
      " 15   ag_008  object\n",
      " 16   ag_009  object\n",
      " 17   ah_000  object\n",
      " 18   ai_000  object\n",
      " 19   aj_000  object\n",
      " 20   ak_000  object\n",
      " 21   al_000  object\n",
      " 22   am_0    object\n",
      " 23   an_000  object\n",
      " 24   ao_000  object\n",
      " 25   ap_000  object\n",
      " 26   aq_000  object\n",
      " 27   ar_000  object\n",
      " 28   as_000  object\n",
      " 29   at_000  object\n",
      " 30   au_000  object\n",
      " 31   av_000  object\n",
      " 32   ax_000  object\n",
      " 33   ay_000  object\n",
      " 34   ay_001  object\n",
      " 35   ay_002  object\n",
      " 36   ay_003  object\n",
      " 37   ay_004  object\n",
      " 38   ay_005  object\n",
      " 39   ay_006  object\n",
      " 40   ay_007  object\n",
      " 41   ay_008  object\n",
      " 42   ay_009  object\n",
      " 43   az_000  object\n",
      " 44   az_001  object\n",
      " 45   az_002  object\n",
      " 46   az_003  object\n",
      " 47   az_004  object\n",
      " 48   az_005  object\n",
      " 49   az_006  object\n",
      " 50   az_007  object\n",
      " 51   az_008  object\n",
      " 52   az_009  object\n",
      " 53   ba_000  object\n",
      " 54   ba_001  object\n",
      " 55   ba_002  object\n",
      " 56   ba_003  object\n",
      " 57   ba_004  object\n",
      " 58   ba_005  object\n",
      " 59   ba_006  object\n",
      " 60   ba_007  object\n",
      " 61   ba_008  object\n",
      " 62   ba_009  object\n",
      " 63   bb_000  object\n",
      " 64   bc_000  object\n",
      " 65   bd_000  object\n",
      " 66   be_000  object\n",
      " 67   bf_000  object\n",
      " 68   bg_000  object\n",
      " 69   bh_000  object\n",
      " 70   bi_000  object\n",
      " 71   bj_000  object\n",
      " 72   bk_000  object\n",
      " 73   bl_000  object\n",
      " 74   bm_000  object\n",
      " 75   bn_000  object\n",
      " 76   bo_000  object\n",
      " 77   bp_000  object\n",
      " 78   bq_000  object\n",
      " 79   br_000  object\n",
      " 80   bs_000  object\n",
      " 81   bt_000  object\n",
      " 82   bu_000  object\n",
      " 83   bv_000  object\n",
      " 84   bx_000  object\n",
      " 85   by_000  object\n",
      " 86   bz_000  object\n",
      " 87   ca_000  object\n",
      " 88   cb_000  object\n",
      " 89   cc_000  object\n",
      " 90   cd_000  object\n",
      " 91   ce_000  object\n",
      " 92   cf_000  object\n",
      " 93   cg_000  object\n",
      " 94   ch_000  object\n",
      " 95   ci_000  object\n",
      " 96   cj_000  object\n",
      " 97   ck_000  object\n",
      " 98   cl_000  object\n",
      " 99   cm_000  object\n",
      " 100  cn_000  object\n",
      " 101  cn_001  object\n",
      " 102  cn_002  object\n",
      " 103  cn_003  object\n",
      " 104  cn_004  object\n",
      " 105  cn_005  object\n",
      " 106  cn_006  object\n",
      " 107  cn_007  object\n",
      " 108  cn_008  object\n",
      " 109  cn_009  object\n",
      " 110  co_000  object\n",
      " 111  cp_000  object\n",
      " 112  cq_000  object\n",
      " 113  cr_000  object\n",
      " 114  cs_000  object\n",
      " 115  cs_001  object\n",
      " 116  cs_002  object\n",
      " 117  cs_003  object\n",
      " 118  cs_004  object\n",
      " 119  cs_005  object\n",
      " 120  cs_006  object\n",
      " 121  cs_007  object\n",
      " 122  cs_008  object\n",
      " 123  cs_009  object\n",
      " 124  ct_000  object\n",
      " 125  cu_000  object\n",
      " 126  cv_000  object\n",
      " 127  cx_000  object\n",
      " 128  cy_000  object\n",
      " 129  cz_000  object\n",
      " 130  da_000  object\n",
      " 131  db_000  object\n",
      " 132  dc_000  object\n",
      " 133  dd_000  object\n",
      " 134  de_000  object\n",
      " 135  df_000  object\n",
      " 136  dg_000  object\n",
      " 137  dh_000  object\n",
      " 138  di_000  object\n",
      " 139  dj_000  object\n",
      " 140  dk_000  object\n",
      " 141  dl_000  object\n",
      " 142  dm_000  object\n",
      " 143  dn_000  object\n",
      " 144  do_000  object\n",
      " 145  dp_000  object\n",
      " 146  dq_000  object\n",
      " 147  dr_000  object\n",
      " 148  ds_000  object\n",
      " 149  dt_000  object\n",
      " 150  du_000  object\n",
      " 151  dv_000  object\n",
      " 152  dx_000  object\n",
      " 153  dy_000  object\n",
      " 154  dz_000  object\n",
      " 155  ea_000  object\n",
      " 156  eb_000  object\n",
      " 157  ec_00   object\n",
      " 158  ed_000  object\n",
      " 159  ee_000  object\n",
      " 160  ee_001  object\n",
      " 161  ee_002  object\n",
      " 162  ee_003  object\n",
      " 163  ee_004  object\n",
      " 164  ee_005  object\n",
      " 165  ee_006  object\n",
      " 166  ee_007  object\n",
      " 167  ee_008  object\n",
      " 168  ee_009  object\n",
      " 169  ef_000  object\n",
      " 170  eg_000  object\n",
      "dtypes: int64(1), object(170)\n",
      "memory usage: 78.3+ MB\n"
     ]
    }
   ],
   "source": [
    "df.info(verbose = True)"
   ]
  },
  {
   "cell_type": "code",
   "execution_count": 8,
   "id": "e7f4b1ca",
   "metadata": {
    "ExecuteTime": {
     "end_time": "2023-10-26T04:26:30.321807Z",
     "start_time": "2023-10-26T04:26:29.406933Z"
    }
   },
   "outputs": [
    {
     "name": "stdout",
     "output_type": "stream",
     "text": [
      "<class 'pandas.core.frame.DataFrame'>\n",
      "RangeIndex: 60000 entries, 0 to 59999\n",
      "Data columns (total 171 columns):\n",
      " #    Column  Non-Null Count  Dtype \n",
      "---   ------  --------------  ----- \n",
      " 0    class   60000 non-null  object\n",
      " 1    aa_000  60000 non-null  int64 \n",
      " 2    ab_000  60000 non-null  object\n",
      " 3    ac_000  60000 non-null  object\n",
      " 4    ad_000  60000 non-null  object\n",
      " 5    ae_000  60000 non-null  object\n",
      " 6    af_000  60000 non-null  object\n",
      " 7    ag_000  60000 non-null  object\n",
      " 8    ag_001  60000 non-null  object\n",
      " 9    ag_002  60000 non-null  object\n",
      " 10   ag_003  60000 non-null  object\n",
      " 11   ag_004  60000 non-null  object\n",
      " 12   ag_005  60000 non-null  object\n",
      " 13   ag_006  60000 non-null  object\n",
      " 14   ag_007  60000 non-null  object\n",
      " 15   ag_008  60000 non-null  object\n",
      " 16   ag_009  60000 non-null  object\n",
      " 17   ah_000  60000 non-null  object\n",
      " 18   ai_000  60000 non-null  object\n",
      " 19   aj_000  60000 non-null  object\n",
      " 20   ak_000  60000 non-null  object\n",
      " 21   al_000  60000 non-null  object\n",
      " 22   am_0    60000 non-null  object\n",
      " 23   an_000  60000 non-null  object\n",
      " 24   ao_000  60000 non-null  object\n",
      " 25   ap_000  60000 non-null  object\n",
      " 26   aq_000  60000 non-null  object\n",
      " 27   ar_000  60000 non-null  object\n",
      " 28   as_000  60000 non-null  object\n",
      " 29   at_000  60000 non-null  object\n",
      " 30   au_000  60000 non-null  object\n",
      " 31   av_000  60000 non-null  object\n",
      " 32   ax_000  60000 non-null  object\n",
      " 33   ay_000  60000 non-null  object\n",
      " 34   ay_001  60000 non-null  object\n",
      " 35   ay_002  60000 non-null  object\n",
      " 36   ay_003  60000 non-null  object\n",
      " 37   ay_004  60000 non-null  object\n",
      " 38   ay_005  60000 non-null  object\n",
      " 39   ay_006  60000 non-null  object\n",
      " 40   ay_007  60000 non-null  object\n",
      " 41   ay_008  60000 non-null  object\n",
      " 42   ay_009  60000 non-null  object\n",
      " 43   az_000  60000 non-null  object\n",
      " 44   az_001  60000 non-null  object\n",
      " 45   az_002  60000 non-null  object\n",
      " 46   az_003  60000 non-null  object\n",
      " 47   az_004  60000 non-null  object\n",
      " 48   az_005  60000 non-null  object\n",
      " 49   az_006  60000 non-null  object\n",
      " 50   az_007  60000 non-null  object\n",
      " 51   az_008  60000 non-null  object\n",
      " 52   az_009  60000 non-null  object\n",
      " 53   ba_000  60000 non-null  object\n",
      " 54   ba_001  60000 non-null  object\n",
      " 55   ba_002  60000 non-null  object\n",
      " 56   ba_003  60000 non-null  object\n",
      " 57   ba_004  60000 non-null  object\n",
      " 58   ba_005  60000 non-null  object\n",
      " 59   ba_006  60000 non-null  object\n",
      " 60   ba_007  60000 non-null  object\n",
      " 61   ba_008  60000 non-null  object\n",
      " 62   ba_009  60000 non-null  object\n",
      " 63   bb_000  60000 non-null  object\n",
      " 64   bc_000  60000 non-null  object\n",
      " 65   bd_000  60000 non-null  object\n",
      " 66   be_000  60000 non-null  object\n",
      " 67   bf_000  60000 non-null  object\n",
      " 68   bg_000  60000 non-null  object\n",
      " 69   bh_000  60000 non-null  object\n",
      " 70   bi_000  60000 non-null  object\n",
      " 71   bj_000  60000 non-null  object\n",
      " 72   bk_000  60000 non-null  object\n",
      " 73   bl_000  60000 non-null  object\n",
      " 74   bm_000  60000 non-null  object\n",
      " 75   bn_000  60000 non-null  object\n",
      " 76   bo_000  60000 non-null  object\n",
      " 77   bp_000  60000 non-null  object\n",
      " 78   bq_000  60000 non-null  object\n",
      " 79   br_000  60000 non-null  object\n",
      " 80   bs_000  60000 non-null  object\n",
      " 81   bt_000  60000 non-null  object\n",
      " 82   bu_000  60000 non-null  object\n",
      " 83   bv_000  60000 non-null  object\n",
      " 84   bx_000  60000 non-null  object\n",
      " 85   by_000  60000 non-null  object\n",
      " 86   bz_000  60000 non-null  object\n",
      " 87   ca_000  60000 non-null  object\n",
      " 88   cb_000  60000 non-null  object\n",
      " 89   cc_000  60000 non-null  object\n",
      " 90   cd_000  60000 non-null  object\n",
      " 91   ce_000  60000 non-null  object\n",
      " 92   cf_000  60000 non-null  object\n",
      " 93   cg_000  60000 non-null  object\n",
      " 94   ch_000  60000 non-null  object\n",
      " 95   ci_000  60000 non-null  object\n",
      " 96   cj_000  60000 non-null  object\n",
      " 97   ck_000  60000 non-null  object\n",
      " 98   cl_000  60000 non-null  object\n",
      " 99   cm_000  60000 non-null  object\n",
      " 100  cn_000  60000 non-null  object\n",
      " 101  cn_001  60000 non-null  object\n",
      " 102  cn_002  60000 non-null  object\n",
      " 103  cn_003  60000 non-null  object\n",
      " 104  cn_004  60000 non-null  object\n",
      " 105  cn_005  60000 non-null  object\n",
      " 106  cn_006  60000 non-null  object\n",
      " 107  cn_007  60000 non-null  object\n",
      " 108  cn_008  60000 non-null  object\n",
      " 109  cn_009  60000 non-null  object\n",
      " 110  co_000  60000 non-null  object\n",
      " 111  cp_000  60000 non-null  object\n",
      " 112  cq_000  60000 non-null  object\n",
      " 113  cr_000  60000 non-null  object\n",
      " 114  cs_000  60000 non-null  object\n",
      " 115  cs_001  60000 non-null  object\n",
      " 116  cs_002  60000 non-null  object\n",
      " 117  cs_003  60000 non-null  object\n",
      " 118  cs_004  60000 non-null  object\n",
      " 119  cs_005  60000 non-null  object\n",
      " 120  cs_006  60000 non-null  object\n",
      " 121  cs_007  60000 non-null  object\n",
      " 122  cs_008  60000 non-null  object\n",
      " 123  cs_009  60000 non-null  object\n",
      " 124  ct_000  60000 non-null  object\n",
      " 125  cu_000  60000 non-null  object\n",
      " 126  cv_000  60000 non-null  object\n",
      " 127  cx_000  60000 non-null  object\n",
      " 128  cy_000  60000 non-null  object\n",
      " 129  cz_000  60000 non-null  object\n",
      " 130  da_000  60000 non-null  object\n",
      " 131  db_000  60000 non-null  object\n",
      " 132  dc_000  60000 non-null  object\n",
      " 133  dd_000  60000 non-null  object\n",
      " 134  de_000  60000 non-null  object\n",
      " 135  df_000  60000 non-null  object\n",
      " 136  dg_000  60000 non-null  object\n",
      " 137  dh_000  60000 non-null  object\n",
      " 138  di_000  60000 non-null  object\n",
      " 139  dj_000  60000 non-null  object\n",
      " 140  dk_000  60000 non-null  object\n",
      " 141  dl_000  60000 non-null  object\n",
      " 142  dm_000  60000 non-null  object\n",
      " 143  dn_000  60000 non-null  object\n",
      " 144  do_000  60000 non-null  object\n",
      " 145  dp_000  60000 non-null  object\n",
      " 146  dq_000  60000 non-null  object\n",
      " 147  dr_000  60000 non-null  object\n",
      " 148  ds_000  60000 non-null  object\n",
      " 149  dt_000  60000 non-null  object\n",
      " 150  du_000  60000 non-null  object\n",
      " 151  dv_000  60000 non-null  object\n",
      " 152  dx_000  60000 non-null  object\n",
      " 153  dy_000  60000 non-null  object\n",
      " 154  dz_000  60000 non-null  object\n",
      " 155  ea_000  60000 non-null  object\n",
      " 156  eb_000  60000 non-null  object\n",
      " 157  ec_00   60000 non-null  object\n",
      " 158  ed_000  60000 non-null  object\n",
      " 159  ee_000  60000 non-null  object\n",
      " 160  ee_001  60000 non-null  object\n",
      " 161  ee_002  60000 non-null  object\n",
      " 162  ee_003  60000 non-null  object\n",
      " 163  ee_004  60000 non-null  object\n",
      " 164  ee_005  60000 non-null  object\n",
      " 165  ee_006  60000 non-null  object\n",
      " 166  ee_007  60000 non-null  object\n",
      " 167  ee_008  60000 non-null  object\n",
      " 168  ee_009  60000 non-null  object\n",
      " 169  ef_000  60000 non-null  object\n",
      " 170  eg_000  60000 non-null  object\n",
      "dtypes: int64(1), object(170)\n",
      "memory usage: 78.3+ MB\n"
     ]
    }
   ],
   "source": [
    "pd.options.display.max_info_columns = 171\n",
    "df.info()"
   ]
  },
  {
   "cell_type": "code",
   "execution_count": 9,
   "id": "1eb709a9",
   "metadata": {
    "ExecuteTime": {
     "end_time": "2023-10-26T04:26:30.332575Z",
     "start_time": "2023-10-26T04:26:30.324536Z"
    }
   },
   "outputs": [
    {
     "data": {
      "text/html": [
       "<div>\n",
       "<style scoped>\n",
       "    .dataframe tbody tr th:only-of-type {\n",
       "        vertical-align: middle;\n",
       "    }\n",
       "\n",
       "    .dataframe tbody tr th {\n",
       "        vertical-align: top;\n",
       "    }\n",
       "\n",
       "    .dataframe thead th {\n",
       "        text-align: right;\n",
       "    }\n",
       "</style>\n",
       "<table border=\"1\" class=\"dataframe\">\n",
       "  <thead>\n",
       "    <tr style=\"text-align: right;\">\n",
       "      <th></th>\n",
       "      <th>aa_000</th>\n",
       "    </tr>\n",
       "  </thead>\n",
       "  <tbody>\n",
       "    <tr>\n",
       "      <th>count</th>\n",
       "      <td>6.000000e+04</td>\n",
       "    </tr>\n",
       "    <tr>\n",
       "      <th>mean</th>\n",
       "      <td>5.933650e+04</td>\n",
       "    </tr>\n",
       "    <tr>\n",
       "      <th>std</th>\n",
       "      <td>1.454301e+05</td>\n",
       "    </tr>\n",
       "    <tr>\n",
       "      <th>min</th>\n",
       "      <td>0.000000e+00</td>\n",
       "    </tr>\n",
       "    <tr>\n",
       "      <th>25%</th>\n",
       "      <td>8.340000e+02</td>\n",
       "    </tr>\n",
       "    <tr>\n",
       "      <th>50%</th>\n",
       "      <td>3.077600e+04</td>\n",
       "    </tr>\n",
       "    <tr>\n",
       "      <th>75%</th>\n",
       "      <td>4.866800e+04</td>\n",
       "    </tr>\n",
       "    <tr>\n",
       "      <th>max</th>\n",
       "      <td>2.746564e+06</td>\n",
       "    </tr>\n",
       "  </tbody>\n",
       "</table>\n",
       "</div>"
      ],
      "text/plain": [
       "             aa_000\n",
       "count  6.000000e+04\n",
       "mean   5.933650e+04\n",
       "std    1.454301e+05\n",
       "min    0.000000e+00\n",
       "25%    8.340000e+02\n",
       "50%    3.077600e+04\n",
       "75%    4.866800e+04\n",
       "max    2.746564e+06"
      ]
     },
     "execution_count": 9,
     "metadata": {},
     "output_type": "execute_result"
    }
   ],
   "source": [
    "df.describe()"
   ]
  },
  {
   "cell_type": "code",
   "execution_count": 10,
   "id": "4fdbd37b",
   "metadata": {
    "ExecuteTime": {
     "end_time": "2023-10-26T04:26:31.773428Z",
     "start_time": "2023-10-26T04:26:30.333742Z"
    }
   },
   "outputs": [
    {
     "data": {
      "text/html": [
       "<div>\n",
       "<style scoped>\n",
       "    .dataframe tbody tr th:only-of-type {\n",
       "        vertical-align: middle;\n",
       "    }\n",
       "\n",
       "    .dataframe tbody tr th {\n",
       "        vertical-align: top;\n",
       "    }\n",
       "\n",
       "    .dataframe thead th {\n",
       "        text-align: right;\n",
       "    }\n",
       "</style>\n",
       "<table border=\"1\" class=\"dataframe\">\n",
       "  <thead>\n",
       "    <tr style=\"text-align: right;\">\n",
       "      <th></th>\n",
       "      <th>class</th>\n",
       "      <th>ab_000</th>\n",
       "      <th>ac_000</th>\n",
       "      <th>ad_000</th>\n",
       "      <th>ae_000</th>\n",
       "      <th>af_000</th>\n",
       "      <th>ag_000</th>\n",
       "      <th>ag_001</th>\n",
       "      <th>ag_002</th>\n",
       "      <th>ag_003</th>\n",
       "      <th>...</th>\n",
       "      <th>ee_002</th>\n",
       "      <th>ee_003</th>\n",
       "      <th>ee_004</th>\n",
       "      <th>ee_005</th>\n",
       "      <th>ee_006</th>\n",
       "      <th>ee_007</th>\n",
       "      <th>ee_008</th>\n",
       "      <th>ee_009</th>\n",
       "      <th>ef_000</th>\n",
       "      <th>eg_000</th>\n",
       "    </tr>\n",
       "  </thead>\n",
       "  <tbody>\n",
       "    <tr>\n",
       "      <th>count</th>\n",
       "      <td>60000</td>\n",
       "      <td>60000</td>\n",
       "      <td>60000</td>\n",
       "      <td>60000</td>\n",
       "      <td>60000</td>\n",
       "      <td>60000</td>\n",
       "      <td>60000</td>\n",
       "      <td>60000</td>\n",
       "      <td>60000</td>\n",
       "      <td>60000</td>\n",
       "      <td>...</td>\n",
       "      <td>60000</td>\n",
       "      <td>60000</td>\n",
       "      <td>60000</td>\n",
       "      <td>60000</td>\n",
       "      <td>60000</td>\n",
       "      <td>60000</td>\n",
       "      <td>60000</td>\n",
       "      <td>60000</td>\n",
       "      <td>60000</td>\n",
       "      <td>60000</td>\n",
       "    </tr>\n",
       "    <tr>\n",
       "      <th>unique</th>\n",
       "      <td>2</td>\n",
       "      <td>30</td>\n",
       "      <td>2062</td>\n",
       "      <td>1887</td>\n",
       "      <td>334</td>\n",
       "      <td>419</td>\n",
       "      <td>155</td>\n",
       "      <td>618</td>\n",
       "      <td>2423</td>\n",
       "      <td>7880</td>\n",
       "      <td>...</td>\n",
       "      <td>34489</td>\n",
       "      <td>31712</td>\n",
       "      <td>35189</td>\n",
       "      <td>36289</td>\n",
       "      <td>31796</td>\n",
       "      <td>30470</td>\n",
       "      <td>24214</td>\n",
       "      <td>9725</td>\n",
       "      <td>29</td>\n",
       "      <td>50</td>\n",
       "    </tr>\n",
       "    <tr>\n",
       "      <th>top</th>\n",
       "      <td>neg</td>\n",
       "      <td>na</td>\n",
       "      <td>0</td>\n",
       "      <td>na</td>\n",
       "      <td>0</td>\n",
       "      <td>0</td>\n",
       "      <td>0</td>\n",
       "      <td>0</td>\n",
       "      <td>0</td>\n",
       "      <td>0</td>\n",
       "      <td>...</td>\n",
       "      <td>0</td>\n",
       "      <td>0</td>\n",
       "      <td>0</td>\n",
       "      <td>0</td>\n",
       "      <td>0</td>\n",
       "      <td>0</td>\n",
       "      <td>0</td>\n",
       "      <td>0</td>\n",
       "      <td>0</td>\n",
       "      <td>0</td>\n",
       "    </tr>\n",
       "    <tr>\n",
       "      <th>freq</th>\n",
       "      <td>59000</td>\n",
       "      <td>46329</td>\n",
       "      <td>8752</td>\n",
       "      <td>14861</td>\n",
       "      <td>55543</td>\n",
       "      <td>55476</td>\n",
       "      <td>59133</td>\n",
       "      <td>58587</td>\n",
       "      <td>56181</td>\n",
       "      <td>46894</td>\n",
       "      <td>...</td>\n",
       "      <td>1364</td>\n",
       "      <td>1557</td>\n",
       "      <td>1797</td>\n",
       "      <td>2814</td>\n",
       "      <td>4458</td>\n",
       "      <td>7898</td>\n",
       "      <td>17280</td>\n",
       "      <td>31863</td>\n",
       "      <td>57021</td>\n",
       "      <td>56794</td>\n",
       "    </tr>\n",
       "  </tbody>\n",
       "</table>\n",
       "<p>4 rows × 170 columns</p>\n",
       "</div>"
      ],
      "text/plain": [
       "        class ab_000 ac_000 ad_000 ae_000 af_000 ag_000 ag_001 ag_002 ag_003  \\\n",
       "count   60000  60000  60000  60000  60000  60000  60000  60000  60000  60000   \n",
       "unique      2     30   2062   1887    334    419    155    618   2423   7880   \n",
       "top       neg     na      0     na      0      0      0      0      0      0   \n",
       "freq    59000  46329   8752  14861  55543  55476  59133  58587  56181  46894   \n",
       "\n",
       "        ... ee_002 ee_003 ee_004 ee_005 ee_006 ee_007 ee_008 ee_009 ef_000  \\\n",
       "count   ...  60000  60000  60000  60000  60000  60000  60000  60000  60000   \n",
       "unique  ...  34489  31712  35189  36289  31796  30470  24214   9725     29   \n",
       "top     ...      0      0      0      0      0      0      0      0      0   \n",
       "freq    ...   1364   1557   1797   2814   4458   7898  17280  31863  57021   \n",
       "\n",
       "       eg_000  \n",
       "count   60000  \n",
       "unique     50  \n",
       "top         0  \n",
       "freq    56794  \n",
       "\n",
       "[4 rows x 170 columns]"
      ]
     },
     "execution_count": 10,
     "metadata": {},
     "output_type": "execute_result"
    }
   ],
   "source": [
    "df.describe(include=object)"
   ]
  },
  {
   "cell_type": "code",
   "execution_count": 11,
   "id": "25252d7c",
   "metadata": {
    "ExecuteTime": {
     "end_time": "2023-10-26T04:26:31.777376Z",
     "start_time": "2023-10-26T04:26:31.774439Z"
    }
   },
   "outputs": [
    {
     "data": {
      "text/plain": [
       "class     object\n",
       "aa_000     int64\n",
       "ab_000    object\n",
       "ac_000    object\n",
       "ad_000    object\n",
       "           ...  \n",
       "ee_007    object\n",
       "ee_008    object\n",
       "ee_009    object\n",
       "ef_000    object\n",
       "eg_000    object\n",
       "Length: 171, dtype: object"
      ]
     },
     "execution_count": 11,
     "metadata": {},
     "output_type": "execute_result"
    }
   ],
   "source": [
    "df.dtypes"
   ]
  },
  {
   "cell_type": "code",
   "execution_count": 12,
   "id": "bfdde723",
   "metadata": {
    "ExecuteTime": {
     "end_time": "2023-10-26T04:26:32.668773Z",
     "start_time": "2023-10-26T04:26:31.778390Z"
    }
   },
   "outputs": [
    {
     "data": {
      "text/plain": [
       "False"
      ]
     },
     "execution_count": 12,
     "metadata": {},
     "output_type": "execute_result"
    }
   ],
   "source": [
    "df.isnull().values.any()"
   ]
  },
  {
   "cell_type": "code",
   "execution_count": 13,
   "id": "64348c2e",
   "metadata": {
    "ExecuteTime": {
     "end_time": "2023-10-26T04:26:33.566574Z",
     "start_time": "2023-10-26T04:26:32.670014Z"
    }
   },
   "outputs": [
    {
     "data": {
      "text/plain": [
       "class     0\n",
       "aa_000    0\n",
       "ab_000    0\n",
       "ac_000    0\n",
       "ad_000    0\n",
       "         ..\n",
       "ee_007    0\n",
       "ee_008    0\n",
       "ee_009    0\n",
       "ef_000    0\n",
       "eg_000    0\n",
       "Length: 171, dtype: int64"
      ]
     },
     "execution_count": 13,
     "metadata": {},
     "output_type": "execute_result"
    }
   ],
   "source": [
    "df.isnull().sum()"
   ]
  },
  {
   "cell_type": "code",
   "execution_count": 14,
   "id": "6b99c4b6",
   "metadata": {
    "ExecuteTime": {
     "end_time": "2023-10-26T04:26:33.573289Z",
     "start_time": "2023-10-26T04:26:33.567788Z"
    }
   },
   "outputs": [
    {
     "data": {
      "text/plain": [
       "neg    59000\n",
       "pos     1000\n",
       "Name: class, dtype: int64"
      ]
     },
     "execution_count": 14,
     "metadata": {},
     "output_type": "execute_result"
    }
   ],
   "source": [
    "df[\"class\"].value_counts()"
   ]
  },
  {
   "cell_type": "code",
   "execution_count": 15,
   "id": "3019007b",
   "metadata": {
    "ExecuteTime": {
     "end_time": "2023-10-26T04:26:33.717413Z",
     "start_time": "2023-10-26T04:26:33.574388Z"
    }
   },
   "outputs": [
    {
     "data": {
      "image/png": "[encoded data removed]",
      "text/plain": [
       "<Figure size 640x480 with 1 Axes>"
      ]
     },
     "metadata": {},
     "output_type": "display_data"
    }
   ],
   "source": [
    "df[\"class\"].hist(grid = False, \n",
    "xlabelsize = 10, \n",
    "ylabelsize = 10, \n",
    "legend = \"class\", bins = 3);"
   ]
  },
  {
   "cell_type": "code",
   "execution_count": 16,
   "id": "8e59f965",
   "metadata": {
    "ExecuteTime": {
     "end_time": "2023-10-26T04:26:34.287983Z",
     "start_time": "2023-10-26T04:26:33.718549Z"
    }
   },
   "outputs": [
    {
     "name": "stdout",
     "output_type": "stream",
     "text": [
      "There are a total of 0 duplicates in the dataset.\n"
     ]
    }
   ],
   "source": [
    "print(\"There are a total of \" + (str(df.duplicated().sum()) + \" duplicates in the dataset.\"))"
   ]
  },
  {
   "cell_type": "code",
   "execution_count": 17,
   "id": "9541dfe5",
   "metadata": {
    "ExecuteTime": {
     "end_time": "2023-10-26T04:26:59.326113Z",
     "start_time": "2023-10-26T04:26:58.303279Z"
    }
   },
   "outputs": [
    {
     "data": {
      "text/plain": [
       "False"
      ]
     },
     "execution_count": 17,
     "metadata": {},
     "output_type": "execute_result"
    }
   ],
   "source": [
    "df.isna().values.any()"
   ]
  },
  {
   "cell_type": "code",
   "execution_count": 18,
   "id": "d7caea84",
   "metadata": {
    "ExecuteTime": {
     "end_time": "2023-10-26T04:28:26.455584Z",
     "start_time": "2023-10-26T04:28:25.443366Z"
    }
   },
   "outputs": [
    {
     "data": {
      "text/plain": [
       "0"
      ]
     },
     "execution_count": 18,
     "metadata": {},
     "output_type": "execute_result"
    }
   ],
   "source": [
    "df.isna().sum().sum()\n"
   ]
  },
  {
   "cell_type": "code",
   "execution_count": 19,
   "id": "80a43d32",
   "metadata": {
    "ExecuteTime": {
     "end_time": "2023-10-26T04:29:15.808505Z",
     "start_time": "2023-10-26T04:29:15.792556Z"
    }
   },
   "outputs": [
    {
     "data": {
      "text/plain": [
       "0"
      ]
     },
     "execution_count": 19,
     "metadata": {},
     "output_type": "execute_result"
    }
   ],
   "source": [
    "df[\"class\"].isna().sum().sum()\n"
   ]
  },
  {
   "cell_type": "code",
   "execution_count": 21,
   "id": "9622cbc8",
   "metadata": {
    "ExecuteTime": {
     "end_time": "2023-10-26T04:41:54.449408Z",
     "start_time": "2023-10-26T04:41:54.415796Z"
    }
   },
   "outputs": [
    {
     "name": "stdout",
     "output_type": "stream",
     "text": [
      "There are 0 columns with NaNs above 60%.\n"
     ]
    }
   ],
   "source": [
    "cols_na = df_na[df_na[0] > 60]\n",
    "print(\"There are \" + str(len(cols_na)) + \" columns with NaNs above 60%.\")"
   ]
  },
  {
   "cell_type": "code",
   "execution_count": 22,
   "id": "63ab81c2",
   "metadata": {
    "ExecuteTime": {
     "end_time": "2023-10-26T04:42:24.866020Z",
     "start_time": "2023-10-26T04:42:24.858887Z"
    }
   },
   "outputs": [
    {
     "data": {
      "text/plain": [
       "[]"
      ]
     },
     "execution_count": 22,
     "metadata": {},
     "output_type": "execute_result"
    }
   ],
   "source": [
    "cols_to_drop = list(cols_na.index)\n",
    "cols_to_drop"
   ]
  },
  {
   "cell_type": "code",
   "execution_count": 23,
   "id": "b9833e8f",
   "metadata": {
    "ExecuteTime": {
     "end_time": "2023-10-26T04:43:50.264614Z",
     "start_time": "2023-10-26T04:43:49.922358Z"
    }
   },
   "outputs": [
    {
     "data": {
      "text/html": [
       "<div>\n",
       "<style scoped>\n",
       "    .dataframe tbody tr th:only-of-type {\n",
       "        vertical-align: middle;\n",
       "    }\n",
       "\n",
       "    .dataframe tbody tr th {\n",
       "        vertical-align: top;\n",
       "    }\n",
       "\n",
       "    .dataframe thead th {\n",
       "        text-align: right;\n",
       "    }\n",
       "</style>\n",
       "<table border=\"1\" class=\"dataframe\">\n",
       "  <thead>\n",
       "    <tr style=\"text-align: right;\">\n",
       "      <th></th>\n",
       "      <th>class</th>\n",
       "      <th>aa_000</th>\n",
       "      <th>ac_000</th>\n",
       "      <th>ad_000</th>\n",
       "      <th>ae_000</th>\n",
       "      <th>af_000</th>\n",
       "      <th>ag_000</th>\n",
       "      <th>ag_001</th>\n",
       "      <th>ag_002</th>\n",
       "      <th>ag_003</th>\n",
       "      <th>...</th>\n",
       "      <th>ee_002</th>\n",
       "      <th>ee_003</th>\n",
       "      <th>ee_004</th>\n",
       "      <th>ee_005</th>\n",
       "      <th>ee_006</th>\n",
       "      <th>ee_007</th>\n",
       "      <th>ee_008</th>\n",
       "      <th>ee_009</th>\n",
       "      <th>ef_000</th>\n",
       "      <th>eg_000</th>\n",
       "    </tr>\n",
       "  </thead>\n",
       "  <tbody>\n",
       "    <tr>\n",
       "      <th>0</th>\n",
       "      <td>neg</td>\n",
       "      <td>76698</td>\n",
       "      <td>2130706438</td>\n",
       "      <td>280</td>\n",
       "      <td>0</td>\n",
       "      <td>0</td>\n",
       "      <td>0</td>\n",
       "      <td>0</td>\n",
       "      <td>0</td>\n",
       "      <td>0</td>\n",
       "      <td>...</td>\n",
       "      <td>1240520</td>\n",
       "      <td>493384</td>\n",
       "      <td>721044</td>\n",
       "      <td>469792</td>\n",
       "      <td>339156</td>\n",
       "      <td>157956</td>\n",
       "      <td>73224</td>\n",
       "      <td>0</td>\n",
       "      <td>0</td>\n",
       "      <td>0</td>\n",
       "    </tr>\n",
       "    <tr>\n",
       "      <th>1</th>\n",
       "      <td>neg</td>\n",
       "      <td>33058</td>\n",
       "      <td>0</td>\n",
       "      <td>na</td>\n",
       "      <td>0</td>\n",
       "      <td>0</td>\n",
       "      <td>0</td>\n",
       "      <td>0</td>\n",
       "      <td>0</td>\n",
       "      <td>0</td>\n",
       "      <td>...</td>\n",
       "      <td>421400</td>\n",
       "      <td>178064</td>\n",
       "      <td>293306</td>\n",
       "      <td>245416</td>\n",
       "      <td>133654</td>\n",
       "      <td>81140</td>\n",
       "      <td>97576</td>\n",
       "      <td>1500</td>\n",
       "      <td>0</td>\n",
       "      <td>0</td>\n",
       "    </tr>\n",
       "    <tr>\n",
       "      <th>2</th>\n",
       "      <td>neg</td>\n",
       "      <td>41040</td>\n",
       "      <td>228</td>\n",
       "      <td>100</td>\n",
       "      <td>0</td>\n",
       "      <td>0</td>\n",
       "      <td>0</td>\n",
       "      <td>0</td>\n",
       "      <td>0</td>\n",
       "      <td>0</td>\n",
       "      <td>...</td>\n",
       "      <td>277378</td>\n",
       "      <td>159812</td>\n",
       "      <td>423992</td>\n",
       "      <td>409564</td>\n",
       "      <td>320746</td>\n",
       "      <td>158022</td>\n",
       "      <td>95128</td>\n",
       "      <td>514</td>\n",
       "      <td>0</td>\n",
       "      <td>0</td>\n",
       "    </tr>\n",
       "    <tr>\n",
       "      <th>3</th>\n",
       "      <td>neg</td>\n",
       "      <td>12</td>\n",
       "      <td>70</td>\n",
       "      <td>66</td>\n",
       "      <td>0</td>\n",
       "      <td>10</td>\n",
       "      <td>0</td>\n",
       "      <td>0</td>\n",
       "      <td>0</td>\n",
       "      <td>318</td>\n",
       "      <td>...</td>\n",
       "      <td>240</td>\n",
       "      <td>46</td>\n",
       "      <td>58</td>\n",
       "      <td>44</td>\n",
       "      <td>10</td>\n",
       "      <td>0</td>\n",
       "      <td>0</td>\n",
       "      <td>0</td>\n",
       "      <td>4</td>\n",
       "      <td>32</td>\n",
       "    </tr>\n",
       "    <tr>\n",
       "      <th>4</th>\n",
       "      <td>neg</td>\n",
       "      <td>60874</td>\n",
       "      <td>1368</td>\n",
       "      <td>458</td>\n",
       "      <td>0</td>\n",
       "      <td>0</td>\n",
       "      <td>0</td>\n",
       "      <td>0</td>\n",
       "      <td>0</td>\n",
       "      <td>0</td>\n",
       "      <td>...</td>\n",
       "      <td>622012</td>\n",
       "      <td>229790</td>\n",
       "      <td>405298</td>\n",
       "      <td>347188</td>\n",
       "      <td>286954</td>\n",
       "      <td>311560</td>\n",
       "      <td>433954</td>\n",
       "      <td>1218</td>\n",
       "      <td>0</td>\n",
       "      <td>0</td>\n",
       "    </tr>\n",
       "    <tr>\n",
       "      <th>...</th>\n",
       "      <td>...</td>\n",
       "      <td>...</td>\n",
       "      <td>...</td>\n",
       "      <td>...</td>\n",
       "      <td>...</td>\n",
       "      <td>...</td>\n",
       "      <td>...</td>\n",
       "      <td>...</td>\n",
       "      <td>...</td>\n",
       "      <td>...</td>\n",
       "      <td>...</td>\n",
       "      <td>...</td>\n",
       "      <td>...</td>\n",
       "      <td>...</td>\n",
       "      <td>...</td>\n",
       "      <td>...</td>\n",
       "      <td>...</td>\n",
       "      <td>...</td>\n",
       "      <td>...</td>\n",
       "      <td>...</td>\n",
       "      <td>...</td>\n",
       "    </tr>\n",
       "    <tr>\n",
       "      <th>59995</th>\n",
       "      <td>neg</td>\n",
       "      <td>153002</td>\n",
       "      <td>664</td>\n",
       "      <td>186</td>\n",
       "      <td>0</td>\n",
       "      <td>0</td>\n",
       "      <td>0</td>\n",
       "      <td>0</td>\n",
       "      <td>0</td>\n",
       "      <td>2564</td>\n",
       "      <td>...</td>\n",
       "      <td>998500</td>\n",
       "      <td>566884</td>\n",
       "      <td>1290398</td>\n",
       "      <td>1218244</td>\n",
       "      <td>1019768</td>\n",
       "      <td>717762</td>\n",
       "      <td>898642</td>\n",
       "      <td>28588</td>\n",
       "      <td>0</td>\n",
       "      <td>0</td>\n",
       "    </tr>\n",
       "    <tr>\n",
       "      <th>59996</th>\n",
       "      <td>neg</td>\n",
       "      <td>2286</td>\n",
       "      <td>2130706538</td>\n",
       "      <td>224</td>\n",
       "      <td>0</td>\n",
       "      <td>0</td>\n",
       "      <td>0</td>\n",
       "      <td>0</td>\n",
       "      <td>0</td>\n",
       "      <td>0</td>\n",
       "      <td>...</td>\n",
       "      <td>10578</td>\n",
       "      <td>6760</td>\n",
       "      <td>21126</td>\n",
       "      <td>68424</td>\n",
       "      <td>136</td>\n",
       "      <td>0</td>\n",
       "      <td>0</td>\n",
       "      <td>0</td>\n",
       "      <td>0</td>\n",
       "      <td>0</td>\n",
       "    </tr>\n",
       "    <tr>\n",
       "      <th>59997</th>\n",
       "      <td>neg</td>\n",
       "      <td>112</td>\n",
       "      <td>2130706432</td>\n",
       "      <td>18</td>\n",
       "      <td>0</td>\n",
       "      <td>0</td>\n",
       "      <td>0</td>\n",
       "      <td>0</td>\n",
       "      <td>0</td>\n",
       "      <td>0</td>\n",
       "      <td>...</td>\n",
       "      <td>792</td>\n",
       "      <td>386</td>\n",
       "      <td>452</td>\n",
       "      <td>144</td>\n",
       "      <td>146</td>\n",
       "      <td>2622</td>\n",
       "      <td>0</td>\n",
       "      <td>0</td>\n",
       "      <td>0</td>\n",
       "      <td>0</td>\n",
       "    </tr>\n",
       "    <tr>\n",
       "      <th>59998</th>\n",
       "      <td>neg</td>\n",
       "      <td>80292</td>\n",
       "      <td>2130706432</td>\n",
       "      <td>494</td>\n",
       "      <td>0</td>\n",
       "      <td>0</td>\n",
       "      <td>0</td>\n",
       "      <td>0</td>\n",
       "      <td>0</td>\n",
       "      <td>0</td>\n",
       "      <td>...</td>\n",
       "      <td>699352</td>\n",
       "      <td>222654</td>\n",
       "      <td>347378</td>\n",
       "      <td>225724</td>\n",
       "      <td>194440</td>\n",
       "      <td>165070</td>\n",
       "      <td>802280</td>\n",
       "      <td>388422</td>\n",
       "      <td>0</td>\n",
       "      <td>0</td>\n",
       "    </tr>\n",
       "    <tr>\n",
       "      <th>59999</th>\n",
       "      <td>neg</td>\n",
       "      <td>40222</td>\n",
       "      <td>698</td>\n",
       "      <td>628</td>\n",
       "      <td>0</td>\n",
       "      <td>0</td>\n",
       "      <td>0</td>\n",
       "      <td>0</td>\n",
       "      <td>0</td>\n",
       "      <td>0</td>\n",
       "      <td>...</td>\n",
       "      <td>440066</td>\n",
       "      <td>183200</td>\n",
       "      <td>344546</td>\n",
       "      <td>254068</td>\n",
       "      <td>225148</td>\n",
       "      <td>158304</td>\n",
       "      <td>170384</td>\n",
       "      <td>158</td>\n",
       "      <td>0</td>\n",
       "      <td>0</td>\n",
       "    </tr>\n",
       "  </tbody>\n",
       "</table>\n",
       "<p>60000 rows × 163 columns</p>\n",
       "</div>"
      ],
      "text/plain": [
       "      class  aa_000      ac_000 ad_000 ae_000 af_000 ag_000 ag_001 ag_002  \\\n",
       "0       neg   76698  2130706438    280      0      0      0      0      0   \n",
       "1       neg   33058           0     na      0      0      0      0      0   \n",
       "2       neg   41040         228    100      0      0      0      0      0   \n",
       "3       neg      12          70     66      0     10      0      0      0   \n",
       "4       neg   60874        1368    458      0      0      0      0      0   \n",
       "...     ...     ...         ...    ...    ...    ...    ...    ...    ...   \n",
       "59995   neg  153002         664    186      0      0      0      0      0   \n",
       "59996   neg    2286  2130706538    224      0      0      0      0      0   \n",
       "59997   neg     112  2130706432     18      0      0      0      0      0   \n",
       "59998   neg   80292  2130706432    494      0      0      0      0      0   \n",
       "59999   neg   40222         698    628      0      0      0      0      0   \n",
       "\n",
       "      ag_003  ...   ee_002  ee_003   ee_004   ee_005   ee_006  ee_007  ee_008  \\\n",
       "0          0  ...  1240520  493384   721044   469792   339156  157956   73224   \n",
       "1          0  ...   421400  178064   293306   245416   133654   81140   97576   \n",
       "2          0  ...   277378  159812   423992   409564   320746  158022   95128   \n",
       "3        318  ...      240      46       58       44       10       0       0   \n",
       "4          0  ...   622012  229790   405298   347188   286954  311560  433954   \n",
       "...      ...  ...      ...     ...      ...      ...      ...     ...     ...   \n",
       "59995   2564  ...   998500  566884  1290398  1218244  1019768  717762  898642   \n",
       "59996      0  ...    10578    6760    21126    68424      136       0       0   \n",
       "59997      0  ...      792     386      452      144      146    2622       0   \n",
       "59998      0  ...   699352  222654   347378   225724   194440  165070  802280   \n",
       "59999      0  ...   440066  183200   344546   254068   225148  158304  170384   \n",
       "\n",
       "       ee_009 ef_000 eg_000  \n",
       "0           0      0      0  \n",
       "1        1500      0      0  \n",
       "2         514      0      0  \n",
       "3           0      4     32  \n",
       "4        1218      0      0  \n",
       "...       ...    ...    ...  \n",
       "59995   28588      0      0  \n",
       "59996       0      0      0  \n",
       "59997       0      0      0  \n",
       "59998  388422      0      0  \n",
       "59999     158      0      0  \n",
       "\n",
       "[60000 rows x 163 columns]"
      ]
     },
     "execution_count": 23,
     "metadata": {},
     "output_type": "execute_result"
    }
   ],
   "source": [
    "df = df.drop(columns = [\"br_000\", \"bq_000\", \"bp_000\", \"bo_000\", \"ab_000\", \"cr_000\", \"bn_000\", \"bm_000\"])\n",
    "df"
   ]
  },
  {
   "cell_type": "code",
   "execution_count": 24,
   "id": "b8f1cde9",
   "metadata": {
    "ExecuteTime": {
     "end_time": "2023-10-26T04:44:21.740174Z",
     "start_time": "2023-10-26T04:44:20.835649Z"
    }
   },
   "outputs": [
    {
     "data": {
      "text/plain": [
       "False"
      ]
     },
     "execution_count": 24,
     "metadata": {},
     "output_type": "execute_result"
    }
   ],
   "source": [
    "df.isna().values.any()"
   ]
  },
  {
   "cell_type": "code",
   "execution_count": 25,
   "id": "925c9ad6",
   "metadata": {
    "ExecuteTime": {
     "end_time": "2023-10-26T04:44:37.446985Z",
     "start_time": "2023-10-26T04:44:36.472294Z"
    }
   },
   "outputs": [
    {
     "data": {
      "text/plain": [
       "0"
      ]
     },
     "execution_count": 25,
     "metadata": {},
     "output_type": "execute_result"
    }
   ],
   "source": [
    "df.isna().sum().sum()"
   ]
  },
  {
   "cell_type": "code",
   "execution_count": 26,
   "id": "df903dfb",
   "metadata": {
    "ExecuteTime": {
     "end_time": "2023-10-26T04:45:00.694341Z",
     "start_time": "2023-10-26T04:45:00.312364Z"
    }
   },
   "outputs": [
    {
     "name": "stdout",
     "output_type": "stream",
     "text": [
      "Sparsity of the dataframe is: 0.0.\n"
     ]
    }
   ],
   "source": [
    "sparsity = 1 - count_nonzero(df) / df.size\n",
    "print(\"Sparsity of the dataframe is: \" + str(round(sparsity, 2)) + \".\")"
   ]
  },
  {
   "cell_type": "code",
   "execution_count": null,
   "id": "0aafc451",
   "metadata": {},
   "outputs": [],
   "source": []
  }
 ],
 "metadata": {
  "kernelspec": {
   "display_name": "Python 3 (ipykernel)",
   "language": "python",
   "name": "python3"
  },
  "language_info": {
   "codemirror_mode": {
    "name": "ipython",
    "version": 3
   },
   "file_extension": ".py",
   "mimetype": "text/x-python",
   "name": "python",
   "nbconvert_exporter": "python",
   "pygments_lexer": "ipython3",
   "version": "3.8.16"
  },
  "toc": {
   "base_numbering": 1,
   "nav_menu": {},
   "number_sections": true,
   "sideBar": true,
   "skip_h1_title": false,
   "title_cell": "Table of Contents",
   "title_sidebar": "Contents",
   "toc_cell": false,
   "toc_position": {},
   "toc_section_display": true,
   "toc_window_display": false
  },
  "varInspector": {
   "cols": {
    "lenName": 16,
    "lenType": 16,
    "lenVar": 40
   },
   "kernels_config": {
    "python": {
     "delete_cmd_postfix": "",
     "delete_cmd_prefix": "del ",
     "library": "var_list.py",
     "varRefreshCmd": "print(var_dic_list())"
    },
    "r": {
     "delete_cmd_postfix": ") ",
     "delete_cmd_prefix": "rm(",
     "library": "var_list.r",
     "varRefreshCmd": "cat(var_dic_list()) "
    }
   },
   "types_to_exclude": [
    "module",
    "function",
    "builtin_function_or_method",
    "instance",
    "_Feature"
   ],
   "window_display": false
  }
 },
 "nbformat": 4,
 "nbformat_minor": 5
}
