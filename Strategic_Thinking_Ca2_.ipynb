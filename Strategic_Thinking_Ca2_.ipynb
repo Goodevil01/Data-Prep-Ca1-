{
  "cells": [
    {
      "cell_type": "markdown",
      "metadata": {
        "id": "view-in-github",
        "colab_type": "text"
      },
      "source": [
        "<a href=\"https://colab.research.google.com/github/Goodevil01/Data-Prep-Ca1-/blob/main/Strategic_Thinking_Ca2_.ipynb\" target=\"_parent\"><img src=\"https://colab.research.google.com/assets/colab-badge.svg\" alt=\"Open In Colab\"/></a>"
      ]
    },
    {
      "cell_type": "code",
      "execution_count": 34,
      "metadata": {
        "ExecuteTime": {
          "start_time": "2024-05-01T18:14:48.422Z"
        },
        "id": "up0eBsZ9QtTJ"
      },
      "outputs": [],
      "source": [
        "import pandas as pd\n",
        "import pandas as pd\n",
        "import seaborn as sns\n",
        "import matplotlib.pyplot as plt\n",
        "import statsmodels.api as sm\n",
        "from sklearn.ensemble import RandomForestRegressor, GradientBoostingRegressor\n",
        "from sklearn.model_selection import train_test_split\n",
        "from sklearn.metrics import mean_squared_error\n",
        "from keras.models import Sequential\n",
        "from keras.layers import LSTM, Dense\n",
        "from keras.preprocessing.sequence import TimeseriesGenerator\n",
        "import numpy as np\n",
        "import tensorflow as tf\n",
        "from sklearn.preprocessing import MinMaxScaler\n",
        "from sklearn.metrics import mean_absolute_error\n",
        "from tensorflow.keras.optimizers import Adam\n",
        "from keras.callbacks import EarlyStopping\n",
        "from tensorflow.keras.layers import LSTM, Dropout, Dense\n",
        "from sklearn.metrics import accuracy_score, precision_score, recall_score, f1_score\n",
        "from sklearn.metrics import confusion_matrix, classification_report\n",
        "from sklearn.preprocessing import LabelEncoder\n",
        "from sklearn.preprocessing import StandardScaler, OneHotEncoder, LabelEncoder\n",
        "from sklearn.compose import ColumnTransformer\n",
        "from sklearn.pipeline import Pipeline\n",
        "from sklearn.impute import SimpleImputer\n",
        "from sklearn.linear_model import LogisticRegression\n",
        "from sklearn.ensemble import RandomForestClassifier\n",
        "from sklearn.pipeline import make_pipeline\n",
        "from sklearn.metrics import mean_squared_error, r2_score\n"
      ]
    },
    {
      "cell_type": "code",
      "source": [
        "from google.colab import drive\n",
        "drive.mount('/content/drive')"
      ],
      "metadata": {
        "colab": {
          "base_uri": "https://localhost:8080/"
        },
        "id": "awmkDRz-aAcj",
        "outputId": "42b2e80d-7023-449e-e3a3-cf328d9a8e9a"
      },
      "execution_count": 35,
      "outputs": [
        {
          "output_type": "stream",
          "name": "stdout",
          "text": [
            "Drive already mounted at /content/drive; to attempt to forcibly remount, call drive.mount(\"/content/drive\", force_remount=True).\n"
          ]
        }
      ]
    },
    {
      "cell_type": "code",
      "execution_count": 36,
      "metadata": {
        "ExecuteTime": {
          "start_time": "2024-05-01T18:14:48.426Z"
        },
        "id": "8emFygMbRHFz"
      },
      "outputs": [],
      "source": [
        "df = df = pd.read_csv('/content/drive/MyDrive/BTC-USD.csv')\n"
      ]
    },
    {
      "cell_type": "code",
      "execution_count": 37,
      "metadata": {
        "ExecuteTime": {
          "start_time": "2024-05-01T18:14:48.428Z"
        },
        "colab": {
          "base_uri": "https://localhost:8080/",
          "height": 204
        },
        "id": "5tfGYUINRbto",
        "outputId": "b1c3121a-589f-4e0d-ff0f-430a51d34430"
      },
      "outputs": [
        {
          "output_type": "execute_result",
          "data": {
            "text/plain": [
              "         Date        Open        High         Low       Close   Adj Close  \\\n",
              "0  2015-01-03  314.846008  315.149994  281.082001  281.082001  281.082001   \n",
              "1  2015-01-04  281.145996  287.230011  257.612000  264.195007  264.195007   \n",
              "2  2015-01-05  265.084015  278.341003  265.084015  274.473999  274.473999   \n",
              "3  2015-01-06  274.610992  287.553009  272.696014  286.188995  286.188995   \n",
              "4  2015-01-07  286.076996  298.753998  283.079010  294.337006  294.337006   \n",
              "\n",
              "     Volume  \n",
              "0  33054400  \n",
              "1  55629100  \n",
              "2  43962800  \n",
              "3  23245700  \n",
              "4  24866800  "
            ],
            "text/html": [
              "\n",
              "  <div id=\"df-4c9ca5e6-8043-4019-817d-cc826683a577\" class=\"colab-df-container\">\n",
              "    <div>\n",
              "<style scoped>\n",
              "    .dataframe tbody tr th:only-of-type {\n",
              "        vertical-align: middle;\n",
              "    }\n",
              "\n",
              "    .dataframe tbody tr th {\n",
              "        vertical-align: top;\n",
              "    }\n",
              "\n",
              "    .dataframe thead th {\n",
              "        text-align: right;\n",
              "    }\n",
              "</style>\n",
              "<table border=\"1\" class=\"dataframe\">\n",
              "  <thead>\n",
              "    <tr style=\"text-align: right;\">\n",
              "      <th></th>\n",
              "      <th>Date</th>\n",
              "      <th>Open</th>\n",
              "      <th>High</th>\n",
              "      <th>Low</th>\n",
              "      <th>Close</th>\n",
              "      <th>Adj Close</th>\n",
              "      <th>Volume</th>\n",
              "    </tr>\n",
              "  </thead>\n",
              "  <tbody>\n",
              "    <tr>\n",
              "      <th>0</th>\n",
              "      <td>2015-01-03</td>\n",
              "      <td>314.846008</td>\n",
              "      <td>315.149994</td>\n",
              "      <td>281.082001</td>\n",
              "      <td>281.082001</td>\n",
              "      <td>281.082001</td>\n",
              "      <td>33054400</td>\n",
              "    </tr>\n",
              "    <tr>\n",
              "      <th>1</th>\n",
              "      <td>2015-01-04</td>\n",
              "      <td>281.145996</td>\n",
              "      <td>287.230011</td>\n",
              "      <td>257.612000</td>\n",
              "      <td>264.195007</td>\n",
              "      <td>264.195007</td>\n",
              "      <td>55629100</td>\n",
              "    </tr>\n",
              "    <tr>\n",
              "      <th>2</th>\n",
              "      <td>2015-01-05</td>\n",
              "      <td>265.084015</td>\n",
              "      <td>278.341003</td>\n",
              "      <td>265.084015</td>\n",
              "      <td>274.473999</td>\n",
              "      <td>274.473999</td>\n",
              "      <td>43962800</td>\n",
              "    </tr>\n",
              "    <tr>\n",
              "      <th>3</th>\n",
              "      <td>2015-01-06</td>\n",
              "      <td>274.610992</td>\n",
              "      <td>287.553009</td>\n",
              "      <td>272.696014</td>\n",
              "      <td>286.188995</td>\n",
              "      <td>286.188995</td>\n",
              "      <td>23245700</td>\n",
              "    </tr>\n",
              "    <tr>\n",
              "      <th>4</th>\n",
              "      <td>2015-01-07</td>\n",
              "      <td>286.076996</td>\n",
              "      <td>298.753998</td>\n",
              "      <td>283.079010</td>\n",
              "      <td>294.337006</td>\n",
              "      <td>294.337006</td>\n",
              "      <td>24866800</td>\n",
              "    </tr>\n",
              "  </tbody>\n",
              "</table>\n",
              "</div>\n",
              "    <div class=\"colab-df-buttons\">\n",
              "\n",
              "  <div class=\"colab-df-container\">\n",
              "    <button class=\"colab-df-convert\" onclick=\"convertToInteractive('df-4c9ca5e6-8043-4019-817d-cc826683a577')\"\n",
              "            title=\"Convert this dataframe to an interactive table.\"\n",
              "            style=\"display:none;\">\n",
              "\n",
              "  <svg xmlns=\"http://www.w3.org/2000/svg\" height=\"24px\" viewBox=\"0 -960 960 960\">\n",
              "    <path d=\"M120-120v-720h720v720H120Zm60-500h600v-160H180v160Zm220 220h160v-160H400v160Zm0 220h160v-160H400v160ZM180-400h160v-160H180v160Zm440 0h160v-160H620v160ZM180-180h160v-160H180v160Zm440 0h160v-160H620v160Z\"/>\n",
              "  </svg>\n",
              "    </button>\n",
              "\n",
              "  <style>\n",
              "    .colab-df-container {\n",
              "      display:flex;\n",
              "      gap: 12px;\n",
              "    }\n",
              "\n",
              "    .colab-df-convert {\n",
              "      background-color: #E8F0FE;\n",
              "      border: none;\n",
              "      border-radius: 50%;\n",
              "      cursor: pointer;\n",
              "      display: none;\n",
              "      fill: #1967D2;\n",
              "      height: 32px;\n",
              "      padding: 0 0 0 0;\n",
              "      width: 32px;\n",
              "    }\n",
              "\n",
              "    .colab-df-convert:hover {\n",
              "      background-color: #E2EBFA;\n",
              "      box-shadow: 0px 1px 2px rgba(60, 64, 67, 0.3), 0px 1px 3px 1px rgba(60, 64, 67, 0.15);\n",
              "      fill: #174EA6;\n",
              "    }\n",
              "\n",
              "    .colab-df-buttons div {\n",
              "      margin-bottom: 4px;\n",
              "    }\n",
              "\n",
              "    [theme=dark] .colab-df-convert {\n",
              "      background-color: #3B4455;\n",
              "      fill: #D2E3FC;\n",
              "    }\n",
              "\n",
              "    [theme=dark] .colab-df-convert:hover {\n",
              "      background-color: #434B5C;\n",
              "      box-shadow: 0px 1px 3px 1px rgba(0, 0, 0, 0.15);\n",
              "      filter: drop-shadow(0px 1px 2px rgba(0, 0, 0, 0.3));\n",
              "      fill: #FFFFFF;\n",
              "    }\n",
              "  </style>\n",
              "\n",
              "    <script>\n",
              "      const buttonEl =\n",
              "        document.querySelector('#df-4c9ca5e6-8043-4019-817d-cc826683a577 button.colab-df-convert');\n",
              "      buttonEl.style.display =\n",
              "        google.colab.kernel.accessAllowed ? 'block' : 'none';\n",
              "\n",
              "      async function convertToInteractive(key) {\n",
              "        const element = document.querySelector('#df-4c9ca5e6-8043-4019-817d-cc826683a577');\n",
              "        const dataTable =\n",
              "          await google.colab.kernel.invokeFunction('convertToInteractive',\n",
              "                                                    [key], {});\n",
              "        if (!dataTable) return;\n",
              "\n",
              "        const docLinkHtml = 'Like what you see? Visit the ' +\n",
              "          '<a target=\"_blank\" href=https://colab.research.google.com/notebooks/data_table.ipynb>data table notebook</a>'\n",
              "          + ' to learn more about interactive tables.';\n",
              "        element.innerHTML = '';\n",
              "        dataTable['output_type'] = 'display_data';\n",
              "        await google.colab.output.renderOutput(dataTable, element);\n",
              "        const docLink = document.createElement('div');\n",
              "        docLink.innerHTML = docLinkHtml;\n",
              "        element.appendChild(docLink);\n",
              "      }\n",
              "    </script>\n",
              "  </div>\n",
              "\n",
              "\n",
              "<div id=\"df-b93a32c7-9d06-4a61-9eca-a6f2aacc0f13\">\n",
              "  <button class=\"colab-df-quickchart\" onclick=\"quickchart('df-b93a32c7-9d06-4a61-9eca-a6f2aacc0f13')\"\n",
              "            title=\"Suggest charts\"\n",
              "            style=\"display:none;\">\n",
              "\n",
              "<svg xmlns=\"http://www.w3.org/2000/svg\" height=\"24px\"viewBox=\"0 0 24 24\"\n",
              "     width=\"24px\">\n",
              "    <g>\n",
              "        <path d=\"M19 3H5c-1.1 0-2 .9-2 2v14c0 1.1.9 2 2 2h14c1.1 0 2-.9 2-2V5c0-1.1-.9-2-2-2zM9 17H7v-7h2v7zm4 0h-2V7h2v10zm4 0h-2v-4h2v4z\"/>\n",
              "    </g>\n",
              "</svg>\n",
              "  </button>\n",
              "\n",
              "<style>\n",
              "  .colab-df-quickchart {\n",
              "      --bg-color: #E8F0FE;\n",
              "      --fill-color: #1967D2;\n",
              "      --hover-bg-color: #E2EBFA;\n",
              "      --hover-fill-color: #174EA6;\n",
              "      --disabled-fill-color: #AAA;\n",
              "      --disabled-bg-color: #DDD;\n",
              "  }\n",
              "\n",
              "  [theme=dark] .colab-df-quickchart {\n",
              "      --bg-color: #3B4455;\n",
              "      --fill-color: #D2E3FC;\n",
              "      --hover-bg-color: #434B5C;\n",
              "      --hover-fill-color: #FFFFFF;\n",
              "      --disabled-bg-color: #3B4455;\n",
              "      --disabled-fill-color: #666;\n",
              "  }\n",
              "\n",
              "  .colab-df-quickchart {\n",
              "    background-color: var(--bg-color);\n",
              "    border: none;\n",
              "    border-radius: 50%;\n",
              "    cursor: pointer;\n",
              "    display: none;\n",
              "    fill: var(--fill-color);\n",
              "    height: 32px;\n",
              "    padding: 0;\n",
              "    width: 32px;\n",
              "  }\n",
              "\n",
              "  .colab-df-quickchart:hover {\n",
              "    background-color: var(--hover-bg-color);\n",
              "    box-shadow: 0 1px 2px rgba(60, 64, 67, 0.3), 0 1px 3px 1px rgba(60, 64, 67, 0.15);\n",
              "    fill: var(--button-hover-fill-color);\n",
              "  }\n",
              "\n",
              "  .colab-df-quickchart-complete:disabled,\n",
              "  .colab-df-quickchart-complete:disabled:hover {\n",
              "    background-color: var(--disabled-bg-color);\n",
              "    fill: var(--disabled-fill-color);\n",
              "    box-shadow: none;\n",
              "  }\n",
              "\n",
              "  .colab-df-spinner {\n",
              "    border: 2px solid var(--fill-color);\n",
              "    border-color: transparent;\n",
              "    border-bottom-color: var(--fill-color);\n",
              "    animation:\n",
              "      spin 1s steps(1) infinite;\n",
              "  }\n",
              "\n",
              "  @keyframes spin {\n",
              "    0% {\n",
              "      border-color: transparent;\n",
              "      border-bottom-color: var(--fill-color);\n",
              "      border-left-color: var(--fill-color);\n",
              "    }\n",
              "    20% {\n",
              "      border-color: transparent;\n",
              "      border-left-color: var(--fill-color);\n",
              "      border-top-color: var(--fill-color);\n",
              "    }\n",
              "    30% {\n",
              "      border-color: transparent;\n",
              "      border-left-color: var(--fill-color);\n",
              "      border-top-color: var(--fill-color);\n",
              "      border-right-color: var(--fill-color);\n",
              "    }\n",
              "    40% {\n",
              "      border-color: transparent;\n",
              "      border-right-color: var(--fill-color);\n",
              "      border-top-color: var(--fill-color);\n",
              "    }\n",
              "    60% {\n",
              "      border-color: transparent;\n",
              "      border-right-color: var(--fill-color);\n",
              "    }\n",
              "    80% {\n",
              "      border-color: transparent;\n",
              "      border-right-color: var(--fill-color);\n",
              "      border-bottom-color: var(--fill-color);\n",
              "    }\n",
              "    90% {\n",
              "      border-color: transparent;\n",
              "      border-bottom-color: var(--fill-color);\n",
              "    }\n",
              "  }\n",
              "</style>\n",
              "\n",
              "  <script>\n",
              "    async function quickchart(key) {\n",
              "      const quickchartButtonEl =\n",
              "        document.querySelector('#' + key + ' button');\n",
              "      quickchartButtonEl.disabled = true;  // To prevent multiple clicks.\n",
              "      quickchartButtonEl.classList.add('colab-df-spinner');\n",
              "      try {\n",
              "        const charts = await google.colab.kernel.invokeFunction(\n",
              "            'suggestCharts', [key], {});\n",
              "      } catch (error) {\n",
              "        console.error('Error during call to suggestCharts:', error);\n",
              "      }\n",
              "      quickchartButtonEl.classList.remove('colab-df-spinner');\n",
              "      quickchartButtonEl.classList.add('colab-df-quickchart-complete');\n",
              "    }\n",
              "    (() => {\n",
              "      let quickchartButtonEl =\n",
              "        document.querySelector('#df-b93a32c7-9d06-4a61-9eca-a6f2aacc0f13 button');\n",
              "      quickchartButtonEl.style.display =\n",
              "        google.colab.kernel.accessAllowed ? 'block' : 'none';\n",
              "    })();\n",
              "  </script>\n",
              "</div>\n",
              "    </div>\n",
              "  </div>\n"
            ],
            "application/vnd.google.colaboratory.intrinsic+json": {
              "type": "dataframe",
              "variable_name": "df",
              "summary": "{\n  \"name\": \"df\",\n  \"rows\": 3104,\n  \"fields\": [\n    {\n      \"column\": \"Date\",\n      \"properties\": {\n        \"dtype\": \"object\",\n        \"num_unique_values\": 3104,\n        \"samples\": [\n          \"2019-07-14\",\n          \"2020-12-30\",\n          \"2015-11-08\"\n        ],\n        \"semantic_type\": \"\",\n        \"description\": \"\"\n      }\n    },\n    {\n      \"column\": \"Open\",\n      \"properties\": {\n        \"dtype\": \"number\",\n        \"std\": 16095.940890798094,\n        \"min\": 176.897003,\n        \"max\": 67549.734375,\n        \"num_unique_values\": 3102,\n        \"samples\": [\n          11745.974609,\n          421.016998,\n          7420.272949\n        ],\n        \"semantic_type\": \"\",\n        \"description\": \"\"\n      }\n    },\n    {\n      \"column\": \"High\",\n      \"properties\": {\n        \"dtype\": \"number\",\n        \"std\": 16500.08755236381,\n        \"min\": 211.731003,\n        \"max\": 68789.625,\n        \"num_unique_values\": 3101,\n        \"samples\": [\n          925.117004,\n          23134.011719,\n          28432.039063\n        ],\n        \"semantic_type\": \"\",\n        \"description\": \"\"\n      }\n    },\n    {\n      \"column\": \"Low\",\n      \"properties\": {\n        \"dtype\": \"number\",\n        \"std\": 15634.140273424618,\n        \"min\": 171.509995,\n        \"max\": 66382.0625,\n        \"num_unique_values\": 3103,\n        \"samples\": [\n          8828.469727,\n          8787.250977,\n          368.700012\n        ],\n        \"semantic_type\": \"\",\n        \"description\": \"\"\n      }\n    },\n    {\n      \"column\": \"Close\",\n      \"properties\": {\n        \"dtype\": \"number\",\n        \"std\": 16093.557425942352,\n        \"min\": 178.102997,\n        \"max\": 67566.828125,\n        \"num_unique_values\": 3101,\n        \"samples\": [\n          864.539978,\n          22636.46875,\n          27745.884766\n        ],\n        \"semantic_type\": \"\",\n        \"description\": \"\"\n      }\n    },\n    {\n      \"column\": \"Adj Close\",\n      \"properties\": {\n        \"dtype\": \"number\",\n        \"std\": 16093.557425942352,\n        \"min\": 178.102997,\n        \"max\": 67566.828125,\n        \"num_unique_values\": 3101,\n        \"samples\": [\n          864.539978,\n          22636.46875,\n          27745.884766\n        ],\n        \"semantic_type\": \"\",\n        \"description\": \"\"\n      }\n    },\n    {\n      \"column\": \"Volume\",\n      \"properties\": {\n        \"dtype\": \"number\",\n        \"std\": 19622634777,\n        \"min\": 10600900,\n        \"max\": 350967941479,\n        \"num_unique_values\": 3104,\n        \"samples\": [\n          22486000001,\n          51287442704,\n          51817600\n        ],\n        \"semantic_type\": \"\",\n        \"description\": \"\"\n      }\n    }\n  ]\n}"
            }
          },
          "metadata": {},
          "execution_count": 37
        }
      ],
      "source": [
        "df.head()"
      ]
    },
    {
      "cell_type": "code",
      "execution_count": 38,
      "metadata": {
        "ExecuteTime": {
          "start_time": "2024-05-01T18:14:48.429Z"
        },
        "colab": {
          "base_uri": "https://localhost:8080/"
        },
        "id": "Z7iWPLgTRjoH",
        "outputId": "2d560486-ec28-45fe-fc7b-6dc45cd54cd0"
      },
      "outputs": [
        {
          "output_type": "execute_result",
          "data": {
            "text/plain": [
              "(3104, 7)"
            ]
          },
          "metadata": {},
          "execution_count": 38
        }
      ],
      "source": [
        "df.shape"
      ]
    },
    {
      "cell_type": "code",
      "execution_count": 39,
      "metadata": {
        "ExecuteTime": {
          "start_time": "2024-05-01T18:14:48.430Z"
        },
        "colab": {
          "base_uri": "https://localhost:8080/"
        },
        "id": "piRJOoGZRl6e",
        "outputId": "d426f167-6cb7-4e13-e879-8f03bb692884"
      },
      "outputs": [
        {
          "output_type": "stream",
          "name": "stdout",
          "text": [
            "<class 'pandas.core.frame.DataFrame'>\n",
            "RangeIndex: 3104 entries, 0 to 3103\n",
            "Data columns (total 7 columns):\n",
            " #   Column     Non-Null Count  Dtype  \n",
            "---  ------     --------------  -----  \n",
            " 0   Date       3104 non-null   object \n",
            " 1   Open       3104 non-null   float64\n",
            " 2   High       3104 non-null   float64\n",
            " 3   Low        3104 non-null   float64\n",
            " 4   Close      3104 non-null   float64\n",
            " 5   Adj Close  3104 non-null   float64\n",
            " 6   Volume     3104 non-null   int64  \n",
            "dtypes: float64(5), int64(1), object(1)\n",
            "memory usage: 169.9+ KB\n"
          ]
        }
      ],
      "source": [
        "df.info()"
      ]
    },
    {
      "cell_type": "code",
      "execution_count": 40,
      "metadata": {
        "ExecuteTime": {
          "start_time": "2024-05-01T18:14:48.431Z"
        },
        "colab": {
          "base_uri": "https://localhost:8080/",
          "height": 297
        },
        "id": "KifPrB9GRrcV",
        "outputId": "71532367-acb5-421f-f74a-9a4e8c16638c"
      },
      "outputs": [
        {
          "output_type": "execute_result",
          "data": {
            "text/plain": [
              "               Open          High           Low         Close     Adj Close  \\\n",
              "count   3104.000000   3104.000000   3104.000000   3104.000000   3104.000000   \n",
              "mean   14041.039379  14385.041532  13664.743745  14049.414854  14049.414854   \n",
              "std    16095.940891  16500.087552  15634.140273  16093.557426  16093.557426   \n",
              "min      176.897003    211.731003    171.509995    178.102997    178.102997   \n",
              "25%     1035.762481   1052.200043   1014.922485   1037.797515   1037.797515   \n",
              "50%     8051.509277   8227.814941   7841.081788   8050.035400   8050.035400   \n",
              "75%    20629.445801  21144.436035  20235.452637  20648.897949  20648.897949   \n",
              "max    67549.734375  68789.625000  66382.062500  67566.828125  67566.828125   \n",
              "\n",
              "             Volume  \n",
              "count  3.104000e+03  \n",
              "mean   1.715624e+10  \n",
              "std    1.962263e+10  \n",
              "min    1.060090e+07  \n",
              "25%    2.255415e+08  \n",
              "50%    1.216461e+10  \n",
              "75%    2.825679e+10  \n",
              "max    3.509679e+11  "
            ],
            "text/html": [
              "\n",
              "  <div id=\"df-748e1eba-182c-4a45-9f80-498280ee7db1\" class=\"colab-df-container\">\n",
              "    <div>\n",
              "<style scoped>\n",
              "    .dataframe tbody tr th:only-of-type {\n",
              "        vertical-align: middle;\n",
              "    }\n",
              "\n",
              "    .dataframe tbody tr th {\n",
              "        vertical-align: top;\n",
              "    }\n",
              "\n",
              "    .dataframe thead th {\n",
              "        text-align: right;\n",
              "    }\n",
              "</style>\n",
              "<table border=\"1\" class=\"dataframe\">\n",
              "  <thead>\n",
              "    <tr style=\"text-align: right;\">\n",
              "      <th></th>\n",
              "      <th>Open</th>\n",
              "      <th>High</th>\n",
              "      <th>Low</th>\n",
              "      <th>Close</th>\n",
              "      <th>Adj Close</th>\n",
              "      <th>Volume</th>\n",
              "    </tr>\n",
              "  </thead>\n",
              "  <tbody>\n",
              "    <tr>\n",
              "      <th>count</th>\n",
              "      <td>3104.000000</td>\n",
              "      <td>3104.000000</td>\n",
              "      <td>3104.000000</td>\n",
              "      <td>3104.000000</td>\n",
              "      <td>3104.000000</td>\n",
              "      <td>3.104000e+03</td>\n",
              "    </tr>\n",
              "    <tr>\n",
              "      <th>mean</th>\n",
              "      <td>14041.039379</td>\n",
              "      <td>14385.041532</td>\n",
              "      <td>13664.743745</td>\n",
              "      <td>14049.414854</td>\n",
              "      <td>14049.414854</td>\n",
              "      <td>1.715624e+10</td>\n",
              "    </tr>\n",
              "    <tr>\n",
              "      <th>std</th>\n",
              "      <td>16095.940891</td>\n",
              "      <td>16500.087552</td>\n",
              "      <td>15634.140273</td>\n",
              "      <td>16093.557426</td>\n",
              "      <td>16093.557426</td>\n",
              "      <td>1.962263e+10</td>\n",
              "    </tr>\n",
              "    <tr>\n",
              "      <th>min</th>\n",
              "      <td>176.897003</td>\n",
              "      <td>211.731003</td>\n",
              "      <td>171.509995</td>\n",
              "      <td>178.102997</td>\n",
              "      <td>178.102997</td>\n",
              "      <td>1.060090e+07</td>\n",
              "    </tr>\n",
              "    <tr>\n",
              "      <th>25%</th>\n",
              "      <td>1035.762481</td>\n",
              "      <td>1052.200043</td>\n",
              "      <td>1014.922485</td>\n",
              "      <td>1037.797515</td>\n",
              "      <td>1037.797515</td>\n",
              "      <td>2.255415e+08</td>\n",
              "    </tr>\n",
              "    <tr>\n",
              "      <th>50%</th>\n",
              "      <td>8051.509277</td>\n",
              "      <td>8227.814941</td>\n",
              "      <td>7841.081788</td>\n",
              "      <td>8050.035400</td>\n",
              "      <td>8050.035400</td>\n",
              "      <td>1.216461e+10</td>\n",
              "    </tr>\n",
              "    <tr>\n",
              "      <th>75%</th>\n",
              "      <td>20629.445801</td>\n",
              "      <td>21144.436035</td>\n",
              "      <td>20235.452637</td>\n",
              "      <td>20648.897949</td>\n",
              "      <td>20648.897949</td>\n",
              "      <td>2.825679e+10</td>\n",
              "    </tr>\n",
              "    <tr>\n",
              "      <th>max</th>\n",
              "      <td>67549.734375</td>\n",
              "      <td>68789.625000</td>\n",
              "      <td>66382.062500</td>\n",
              "      <td>67566.828125</td>\n",
              "      <td>67566.828125</td>\n",
              "      <td>3.509679e+11</td>\n",
              "    </tr>\n",
              "  </tbody>\n",
              "</table>\n",
              "</div>\n",
              "    <div class=\"colab-df-buttons\">\n",
              "\n",
              "  <div class=\"colab-df-container\">\n",
              "    <button class=\"colab-df-convert\" onclick=\"convertToInteractive('df-748e1eba-182c-4a45-9f80-498280ee7db1')\"\n",
              "            title=\"Convert this dataframe to an interactive table.\"\n",
              "            style=\"display:none;\">\n",
              "\n",
              "  <svg xmlns=\"http://www.w3.org/2000/svg\" height=\"24px\" viewBox=\"0 -960 960 960\">\n",
              "    <path d=\"M120-120v-720h720v720H120Zm60-500h600v-160H180v160Zm220 220h160v-160H400v160Zm0 220h160v-160H400v160ZM180-400h160v-160H180v160Zm440 0h160v-160H620v160ZM180-180h160v-160H180v160Zm440 0h160v-160H620v160Z\"/>\n",
              "  </svg>\n",
              "    </button>\n",
              "\n",
              "  <style>\n",
              "    .colab-df-container {\n",
              "      display:flex;\n",
              "      gap: 12px;\n",
              "    }\n",
              "\n",
              "    .colab-df-convert {\n",
              "      background-color: #E8F0FE;\n",
              "      border: none;\n",
              "      border-radius: 50%;\n",
              "      cursor: pointer;\n",
              "      display: none;\n",
              "      fill: #1967D2;\n",
              "      height: 32px;\n",
              "      padding: 0 0 0 0;\n",
              "      width: 32px;\n",
              "    }\n",
              "\n",
              "    .colab-df-convert:hover {\n",
              "      background-color: #E2EBFA;\n",
              "      box-shadow: 0px 1px 2px rgba(60, 64, 67, 0.3), 0px 1px 3px 1px rgba(60, 64, 67, 0.15);\n",
              "      fill: #174EA6;\n",
              "    }\n",
              "\n",
              "    .colab-df-buttons div {\n",
              "      margin-bottom: 4px;\n",
              "    }\n",
              "\n",
              "    [theme=dark] .colab-df-convert {\n",
              "      background-color: #3B4455;\n",
              "      fill: #D2E3FC;\n",
              "    }\n",
              "\n",
              "    [theme=dark] .colab-df-convert:hover {\n",
              "      background-color: #434B5C;\n",
              "      box-shadow: 0px 1px 3px 1px rgba(0, 0, 0, 0.15);\n",
              "      filter: drop-shadow(0px 1px 2px rgba(0, 0, 0, 0.3));\n",
              "      fill: #FFFFFF;\n",
              "    }\n",
              "  </style>\n",
              "\n",
              "    <script>\n",
              "      const buttonEl =\n",
              "        document.querySelector('#df-748e1eba-182c-4a45-9f80-498280ee7db1 button.colab-df-convert');\n",
              "      buttonEl.style.display =\n",
              "        google.colab.kernel.accessAllowed ? 'block' : 'none';\n",
              "\n",
              "      async function convertToInteractive(key) {\n",
              "        const element = document.querySelector('#df-748e1eba-182c-4a45-9f80-498280ee7db1');\n",
              "        const dataTable =\n",
              "          await google.colab.kernel.invokeFunction('convertToInteractive',\n",
              "                                                    [key], {});\n",
              "        if (!dataTable) return;\n",
              "\n",
              "        const docLinkHtml = 'Like what you see? Visit the ' +\n",
              "          '<a target=\"_blank\" href=https://colab.research.google.com/notebooks/data_table.ipynb>data table notebook</a>'\n",
              "          + ' to learn more about interactive tables.';\n",
              "        element.innerHTML = '';\n",
              "        dataTable['output_type'] = 'display_data';\n",
              "        await google.colab.output.renderOutput(dataTable, element);\n",
              "        const docLink = document.createElement('div');\n",
              "        docLink.innerHTML = docLinkHtml;\n",
              "        element.appendChild(docLink);\n",
              "      }\n",
              "    </script>\n",
              "  </div>\n",
              "\n",
              "\n",
              "<div id=\"df-d177165e-4ecb-44b0-8a9e-d306194c0073\">\n",
              "  <button class=\"colab-df-quickchart\" onclick=\"quickchart('df-d177165e-4ecb-44b0-8a9e-d306194c0073')\"\n",
              "            title=\"Suggest charts\"\n",
              "            style=\"display:none;\">\n",
              "\n",
              "<svg xmlns=\"http://www.w3.org/2000/svg\" height=\"24px\"viewBox=\"0 0 24 24\"\n",
              "     width=\"24px\">\n",
              "    <g>\n",
              "        <path d=\"M19 3H5c-1.1 0-2 .9-2 2v14c0 1.1.9 2 2 2h14c1.1 0 2-.9 2-2V5c0-1.1-.9-2-2-2zM9 17H7v-7h2v7zm4 0h-2V7h2v10zm4 0h-2v-4h2v4z\"/>\n",
              "    </g>\n",
              "</svg>\n",
              "  </button>\n",
              "\n",
              "<style>\n",
              "  .colab-df-quickchart {\n",
              "      --bg-color: #E8F0FE;\n",
              "      --fill-color: #1967D2;\n",
              "      --hover-bg-color: #E2EBFA;\n",
              "      --hover-fill-color: #174EA6;\n",
              "      --disabled-fill-color: #AAA;\n",
              "      --disabled-bg-color: #DDD;\n",
              "  }\n",
              "\n",
              "  [theme=dark] .colab-df-quickchart {\n",
              "      --bg-color: #3B4455;\n",
              "      --fill-color: #D2E3FC;\n",
              "      --hover-bg-color: #434B5C;\n",
              "      --hover-fill-color: #FFFFFF;\n",
              "      --disabled-bg-color: #3B4455;\n",
              "      --disabled-fill-color: #666;\n",
              "  }\n",
              "\n",
              "  .colab-df-quickchart {\n",
              "    background-color: var(--bg-color);\n",
              "    border: none;\n",
              "    border-radius: 50%;\n",
              "    cursor: pointer;\n",
              "    display: none;\n",
              "    fill: var(--fill-color);\n",
              "    height: 32px;\n",
              "    padding: 0;\n",
              "    width: 32px;\n",
              "  }\n",
              "\n",
              "  .colab-df-quickchart:hover {\n",
              "    background-color: var(--hover-bg-color);\n",
              "    box-shadow: 0 1px 2px rgba(60, 64, 67, 0.3), 0 1px 3px 1px rgba(60, 64, 67, 0.15);\n",
              "    fill: var(--button-hover-fill-color);\n",
              "  }\n",
              "\n",
              "  .colab-df-quickchart-complete:disabled,\n",
              "  .colab-df-quickchart-complete:disabled:hover {\n",
              "    background-color: var(--disabled-bg-color);\n",
              "    fill: var(--disabled-fill-color);\n",
              "    box-shadow: none;\n",
              "  }\n",
              "\n",
              "  .colab-df-spinner {\n",
              "    border: 2px solid var(--fill-color);\n",
              "    border-color: transparent;\n",
              "    border-bottom-color: var(--fill-color);\n",
              "    animation:\n",
              "      spin 1s steps(1) infinite;\n",
              "  }\n",
              "\n",
              "  @keyframes spin {\n",
              "    0% {\n",
              "      border-color: transparent;\n",
              "      border-bottom-color: var(--fill-color);\n",
              "      border-left-color: var(--fill-color);\n",
              "    }\n",
              "    20% {\n",
              "      border-color: transparent;\n",
              "      border-left-color: var(--fill-color);\n",
              "      border-top-color: var(--fill-color);\n",
              "    }\n",
              "    30% {\n",
              "      border-color: transparent;\n",
              "      border-left-color: var(--fill-color);\n",
              "      border-top-color: var(--fill-color);\n",
              "      border-right-color: var(--fill-color);\n",
              "    }\n",
              "    40% {\n",
              "      border-color: transparent;\n",
              "      border-right-color: var(--fill-color);\n",
              "      border-top-color: var(--fill-color);\n",
              "    }\n",
              "    60% {\n",
              "      border-color: transparent;\n",
              "      border-right-color: var(--fill-color);\n",
              "    }\n",
              "    80% {\n",
              "      border-color: transparent;\n",
              "      border-right-color: var(--fill-color);\n",
              "      border-bottom-color: var(--fill-color);\n",
              "    }\n",
              "    90% {\n",
              "      border-color: transparent;\n",
              "      border-bottom-color: var(--fill-color);\n",
              "    }\n",
              "  }\n",
              "</style>\n",
              "\n",
              "  <script>\n",
              "    async function quickchart(key) {\n",
              "      const quickchartButtonEl =\n",
              "        document.querySelector('#' + key + ' button');\n",
              "      quickchartButtonEl.disabled = true;  // To prevent multiple clicks.\n",
              "      quickchartButtonEl.classList.add('colab-df-spinner');\n",
              "      try {\n",
              "        const charts = await google.colab.kernel.invokeFunction(\n",
              "            'suggestCharts', [key], {});\n",
              "      } catch (error) {\n",
              "        console.error('Error during call to suggestCharts:', error);\n",
              "      }\n",
              "      quickchartButtonEl.classList.remove('colab-df-spinner');\n",
              "      quickchartButtonEl.classList.add('colab-df-quickchart-complete');\n",
              "    }\n",
              "    (() => {\n",
              "      let quickchartButtonEl =\n",
              "        document.querySelector('#df-d177165e-4ecb-44b0-8a9e-d306194c0073 button');\n",
              "      quickchartButtonEl.style.display =\n",
              "        google.colab.kernel.accessAllowed ? 'block' : 'none';\n",
              "    })();\n",
              "  </script>\n",
              "</div>\n",
              "    </div>\n",
              "  </div>\n"
            ],
            "application/vnd.google.colaboratory.intrinsic+json": {
              "type": "dataframe",
              "summary": "{\n  \"name\": \"df\",\n  \"rows\": 8,\n  \"fields\": [\n    {\n      \"column\": \"Open\",\n      \"properties\": {\n        \"dtype\": \"number\",\n        \"std\": 21992.0025228108,\n        \"min\": 176.897003,\n        \"max\": 67549.734375,\n        \"num_unique_values\": 8,\n        \"samples\": [\n          14041.039379182022,\n          8051.509277499999,\n          3104.0\n        ],\n        \"semantic_type\": \"\",\n        \"description\": \"\"\n      }\n    },\n    {\n      \"column\": \"High\",\n      \"properties\": {\n        \"dtype\": \"number\",\n        \"std\": 22398.413702197384,\n        \"min\": 211.731003,\n        \"max\": 68789.625,\n        \"num_unique_values\": 8,\n        \"samples\": [\n          14385.041531778352,\n          8227.814941,\n          3104.0\n        ],\n        \"semantic_type\": \"\",\n        \"description\": \"\"\n      }\n    },\n    {\n      \"column\": \"Low\",\n      \"properties\": {\n        \"dtype\": \"number\",\n        \"std\": 21612.981136687653,\n        \"min\": 171.509995,\n        \"max\": 66382.0625,\n        \"num_unique_values\": 8,\n        \"samples\": [\n          13664.743745447166,\n          7841.0817875,\n          3104.0\n        ],\n        \"semantic_type\": \"\",\n        \"description\": \"\"\n      }\n    },\n    {\n      \"column\": \"Close\",\n      \"properties\": {\n        \"dtype\": \"number\",\n        \"std\": 21997.862074383374,\n        \"min\": 178.102997,\n        \"max\": 67566.828125,\n        \"num_unique_values\": 8,\n        \"samples\": [\n          14049.414853644332,\n          8050.035400000001,\n          3104.0\n        ],\n        \"semantic_type\": \"\",\n        \"description\": \"\"\n      }\n    },\n    {\n      \"column\": \"Adj Close\",\n      \"properties\": {\n        \"dtype\": \"number\",\n        \"std\": 21997.862074383374,\n        \"min\": 178.102997,\n        \"max\": 67566.828125,\n        \"num_unique_values\": 8,\n        \"samples\": [\n          14049.414853644332,\n          8050.035400000001,\n          3104.0\n        ],\n        \"semantic_type\": \"\",\n        \"description\": \"\"\n      }\n    },\n    {\n      \"column\": \"Volume\",\n      \"properties\": {\n        \"dtype\": \"number\",\n        \"std\": 120631118678.93518,\n        \"min\": 3104.0,\n        \"max\": 350967941479.0,\n        \"num_unique_values\": 8,\n        \"samples\": [\n          17156242861.591818,\n          12164611491.5,\n          3104.0\n        ],\n        \"semantic_type\": \"\",\n        \"description\": \"\"\n      }\n    }\n  ]\n}"
            }
          },
          "metadata": {},
          "execution_count": 40
        }
      ],
      "source": [
        "df.describe()"
      ]
    },
    {
      "cell_type": "code",
      "execution_count": 41,
      "metadata": {
        "ExecuteTime": {
          "start_time": "2024-05-01T18:14:48.432Z"
        },
        "colab": {
          "base_uri": "https://localhost:8080/"
        },
        "id": "O3urv8wdRuIv",
        "outputId": "c7134c11-cb3e-4df3-a238-2fbfe0284c86"
      },
      "outputs": [
        {
          "output_type": "stream",
          "name": "stdout",
          "text": [
            "0\n"
          ]
        }
      ],
      "source": [
        "print(df.duplicated().sum())\n"
      ]
    },
    {
      "cell_type": "code",
      "execution_count": 42,
      "metadata": {
        "ExecuteTime": {
          "start_time": "2024-05-01T18:14:48.433Z"
        },
        "colab": {
          "base_uri": "https://localhost:8080/"
        },
        "id": "WajahflER_R7",
        "outputId": "5d0decfb-45f8-4a06-a812-d82394bf6001"
      },
      "outputs": [
        {
          "output_type": "stream",
          "name": "stdout",
          "text": [
            "Date         0\n",
            "Open         0\n",
            "High         0\n",
            "Low          0\n",
            "Close        0\n",
            "Adj Close    0\n",
            "Volume       0\n",
            "dtype: int64\n"
          ]
        }
      ],
      "source": [
        "null_values = df.isnull().sum()\n",
        "print(null_values)\n"
      ]
    },
    {
      "cell_type": "code",
      "execution_count": 43,
      "metadata": {
        "ExecuteTime": {
          "start_time": "2024-05-01T18:14:48.434Z"
        },
        "id": "lFveVALTSLK-"
      },
      "outputs": [],
      "source": [
        "df['Date'] = pd.to_datetime(df['Date'])"
      ]
    },
    {
      "cell_type": "code",
      "execution_count": 44,
      "metadata": {
        "ExecuteTime": {
          "start_time": "2024-05-01T18:14:48.435Z"
        },
        "colab": {
          "base_uri": "https://localhost:8080/"
        },
        "id": "ayhU4DefSP7L",
        "outputId": "5f0da901-8906-443e-b5dc-adf796bc7823"
      },
      "outputs": [
        {
          "output_type": "stream",
          "name": "stdout",
          "text": [
            "<class 'pandas.core.frame.DataFrame'>\n",
            "RangeIndex: 3104 entries, 0 to 3103\n",
            "Data columns (total 7 columns):\n",
            " #   Column     Non-Null Count  Dtype         \n",
            "---  ------     --------------  -----         \n",
            " 0   Date       3104 non-null   datetime64[ns]\n",
            " 1   Open       3104 non-null   float64       \n",
            " 2   High       3104 non-null   float64       \n",
            " 3   Low        3104 non-null   float64       \n",
            " 4   Close      3104 non-null   float64       \n",
            " 5   Adj Close  3104 non-null   float64       \n",
            " 6   Volume     3104 non-null   int64         \n",
            "dtypes: datetime64[ns](1), float64(5), int64(1)\n",
            "memory usage: 169.9 KB\n"
          ]
        }
      ],
      "source": [
        "df.info()"
      ]
    },
    {
      "cell_type": "code",
      "execution_count": 45,
      "metadata": {
        "ExecuteTime": {
          "start_time": "2024-05-01T18:14:48.436Z"
        },
        "colab": {
          "base_uri": "https://localhost:8080/",
          "height": 585
        },
        "id": "3WtkrKKbSXo0",
        "outputId": "045e8f5a-8872-42af-a412-abc6275b7f86"
      },
      "outputs": [
        {
          "output_type": "display_data",
          "data": {
            "text/plain": [
              "<Figure size 1200x600 with 1 Axes>"
            ],
            "image/png": "[encoded data removed]"
          },
          "metadata": {}
        }
      ],
      "source": [
        "# Visualize Bitcoin price over time using a line plot\n",
        "plt.figure(figsize=(12, 6))\n",
        "plt.plot(df['Date'], df['Close'])\n",
        "plt.title('Bitcoin Price over Time')\n",
        "plt.xlabel('Date')\n",
        "plt.ylabel('Price (USD)')\n",
        "plt.xticks(rotation=45)\n",
        "plt.show()"
      ]
    },
    {
      "cell_type": "code",
      "execution_count": 46,
      "metadata": {
        "ExecuteTime": {
          "start_time": "2024-05-01T18:14:48.436Z"
        },
        "colab": {
          "base_uri": "https://localhost:8080/",
          "height": 585
        },
        "id": "HrOF1WW7SbkE",
        "outputId": "42d1fcb4-d979-456e-e4ef-ed33c83e5e00"
      },
      "outputs": [
        {
          "output_type": "display_data",
          "data": {
            "text/plain": [
              "<Figure size 1200x600 with 1 Axes>"
            ],
            "image/png": "[encoded data removed]"
          },
          "metadata": {}
        }
      ],
      "source": [
        "# Visualize Bitcoin volume over time using a line plot\n",
        "plt.figure(figsize=(12, 6))\n",
        "plt.plot(df['Date'], df['Volume'])\n",
        "plt.title('Bitcoin Volume over Time')\n",
        "plt.xlabel('Date')\n",
        "plt.ylabel('Volume')\n",
        "plt.xticks(rotation=45)\n",
        "plt.show()"
      ]
    },
    {
      "cell_type": "code",
      "execution_count": 47,
      "metadata": {
        "ExecuteTime": {
          "start_time": "2024-05-01T18:14:48.437Z"
        },
        "colab": {
          "base_uri": "https://localhost:8080/"
        },
        "id": "IEMEhJMySfhK",
        "outputId": "ba7f2248-7969-40e2-d84f-1be8f6796790"
      },
      "outputs": [
        {
          "output_type": "stream",
          "name": "stdout",
          "text": [
            "Price Statistics:\n",
            "count     3104.000000\n",
            "mean     14049.414854\n",
            "std      16093.557426\n",
            "min        178.102997\n",
            "25%       1037.797515\n",
            "50%       8050.035400\n",
            "75%      20648.897949\n",
            "max      67566.828125\n",
            "Name: Close, dtype: float64\n",
            "\n",
            "Volume Statistics:\n",
            "count    3.104000e+03\n",
            "mean     1.715624e+10\n",
            "std      1.962263e+10\n",
            "min      1.060090e+07\n",
            "25%      2.255415e+08\n",
            "50%      1.216461e+10\n",
            "75%      2.825679e+10\n",
            "max      3.509679e+11\n",
            "Name: Volume, dtype: float64\n"
          ]
        }
      ],
      "source": [
        "# Calculate basic statistics for Bitcoin prices and volumes\n",
        "price_stats = df['Close'].describe()\n",
        "volume_stats = df['Volume'].describe()\n",
        "\n",
        "print(\"Price Statistics:\")\n",
        "print(price_stats)\n",
        "\n",
        "print(\"\\nVolume Statistics:\")\n",
        "print(volume_stats)"
      ]
    },
    {
      "cell_type": "code",
      "execution_count": 48,
      "metadata": {
        "ExecuteTime": {
          "start_time": "2024-05-01T18:14:48.438Z"
        },
        "colab": {
          "base_uri": "https://localhost:8080/"
        },
        "id": "1VmhrSVUSlgP",
        "outputId": "68e4da5c-99a9-4903-c658-d4db595dd689"
      },
      "outputs": [
        {
          "output_type": "stream",
          "name": "stdout",
          "text": [
            "        Date        Open        High         Low       Close   Adj Close  \\\n",
            "0 2015-01-03  314.846008  315.149994  281.082001  281.082001  281.082001   \n",
            "1 2015-01-04  281.145996  287.230011  257.612000  264.195007  264.195007   \n",
            "2 2015-01-05  265.084015  278.341003  265.084015  274.473999  274.473999   \n",
            "3 2015-01-06  274.610992  287.553009  272.696014  286.188995  286.188995   \n",
            "4 2015-01-07  286.076996  298.753998  283.079010  294.337006  294.337006   \n",
            "\n",
            "     Volume  Price_Change Market_Cycle  \n",
            "0  33054400           NaN      Neutral  \n",
            "1  55629100     -0.060079      Neutral  \n",
            "2  43962800      0.038907      Neutral  \n",
            "3  23245700      0.042682      Neutral  \n",
            "4  24866800      0.028471      Neutral  \n"
          ]
        }
      ],
      "source": [
        "# Define criteria for bull and bear markets\n",
        "bull_threshold = 0.1  # Percentage change threshold for bull market (e.g., 10% increase)\n",
        "bear_threshold = -0.1  # Percentage change threshold for bear market (e.g., 10% decrease)\n",
        "\n",
        "# Calculate the percentage change in Bitcoin prices\n",
        "df['Price_Change'] = df['Close'].pct_change()\n",
        "\n",
        "# Create a new column indicating the market cycle\n",
        "df['Market_Cycle'] = 'Neutral'  # Initialize all values as 'Neutral'\n",
        "\n",
        "# Apply the criteria to identify bull and bear markets\n",
        "df.loc[df['Price_Change'] > bull_threshold, 'Market_Cycle'] = 'Bull'\n",
        "df.loc[df['Price_Change'] < bear_threshold, 'Market_Cycle'] = 'Bear'\n",
        "\n",
        "# Print the first few rows of the dataset with the market cycle column\n",
        "print(df.head())"
      ]
    },
    {
      "cell_type": "code",
      "execution_count": 49,
      "metadata": {
        "ExecuteTime": {
          "start_time": "2024-05-01T18:14:48.439Z"
        },
        "colab": {
          "base_uri": "https://localhost:8080/",
          "height": 430
        },
        "id": "Je0nCBKeSlhy",
        "outputId": "07bca40c-041c-401a-e9c0-943e6bf5d3e9"
      },
      "outputs": [
        {
          "output_type": "display_data",
          "data": {
            "text/plain": [
              "<Figure size 640x480 with 1 Axes>"
            ],
            "image/png": "[encoded data removed]"
          },
          "metadata": {}
        }
      ],
      "source": [
        "moving_avg = df['Close'].rolling(window=50).mean()\n",
        "plt.plot(df['Date'], moving_avg, color='blue', label='50-day Moving Average')\n",
        "\n",
        "# Show the plot\n",
        "plt.show()\n"
      ]
    },
    {
      "cell_type": "code",
      "execution_count": 50,
      "metadata": {
        "ExecuteTime": {
          "start_time": "2024-05-01T18:14:48.440Z"
        },
        "colab": {
          "base_uri": "https://localhost:8080/",
          "height": 564
        },
        "id": "7HTTnhemSqTB",
        "outputId": "cbb2ec2f-7023-43be-9956-c262684a064f"
      },
      "outputs": [
        {
          "output_type": "display_data",
          "data": {
            "text/plain": [
              "<Figure size 1200x600 with 1 Axes>"
            ],
            "image/png": "[encoded data removed]"
          },
          "metadata": {}
        }
      ],
      "source": [
        "# Plotting the closing prices\n",
        "plt.figure(figsize=(12,6))\n",
        "plt.plot(df['Close'], label='Closing Price')\n",
        "plt.title('Bitcoin Closing Prices Over Time')\n",
        "plt.xlabel('Date')\n",
        "plt.ylabel('Price in USD')\n",
        "plt.legend()\n",
        "plt.show()"
      ]
    },
    {
      "cell_type": "code",
      "execution_count": 51,
      "metadata": {
        "ExecuteTime": {
          "start_time": "2024-05-01T18:14:48.441Z"
        },
        "colab": {
          "base_uri": "https://localhost:8080/",
          "height": 564
        },
        "id": "Kr86MPU_SqWg",
        "outputId": "a3ed05fc-e147-425b-c83b-817aba8945cc"
      },
      "outputs": [
        {
          "output_type": "display_data",
          "data": {
            "text/plain": [
              "<Figure size 1000x600 with 1 Axes>"
            ],
            "image/png": "[encoded data removed]"
          },
          "metadata": {}
        }
      ],
      "source": [
        "# Plotting a histogram to understand the distribution of closing prices\n",
        "plt.figure(figsize=(10,6))\n",
        "plt.hist(df['Close'], bins=50, alpha=0.7)\n",
        "plt.title('Distribution of Bitcoin Closing Prices')\n",
        "plt.xlabel('Closing Price')\n",
        "plt.ylabel('Frequency')\n",
        "plt.show()\n"
      ]
    },
    {
      "cell_type": "code",
      "execution_count": 52,
      "metadata": {
        "ExecuteTime": {
          "start_time": "2024-05-01T18:14:48.442Z"
        },
        "colab": {
          "base_uri": "https://localhost:8080/",
          "height": 564
        },
        "id": "rNAJ5i-vSqaa",
        "outputId": "944a536d-b58b-49a2-f962-0804bae78afb"
      },
      "outputs": [
        {
          "output_type": "display_data",
          "data": {
            "text/plain": [
              "<Figure size 800x600 with 1 Axes>"
            ],
            "image/png": "[encoded data removed]"
          },
          "metadata": {}
        }
      ],
      "source": [
        "# Using a boxplot to identify outliers in closing prices\n",
        "plt.figure(figsize=(8,6))\n",
        "plt.boxplot(df['Close'], vert=False)\n",
        "plt.title('Boxplot of Bitcoin Closing Prices')\n",
        "plt.xlabel('Price in USD')\n",
        "plt.show()"
      ]
    },
    {
      "cell_type": "code",
      "execution_count": 53,
      "metadata": {
        "ExecuteTime": {
          "start_time": "2024-05-01T18:14:48.443Z"
        },
        "colab": {
          "base_uri": "https://localhost:8080/"
        },
        "id": "yohK0YXESqdW",
        "outputId": "5fcc992d-c662-4f5e-ac87-63cc2f10a70e"
      },
      "outputs": [
        {
          "output_type": "stream",
          "name": "stdout",
          "text": [
            "Missing values in each column:\n",
            " Date            0\n",
            "Open            0\n",
            "High            0\n",
            "Low             0\n",
            "Close           0\n",
            "Adj Close       0\n",
            "Volume          0\n",
            "Price_Change    1\n",
            "Market_Cycle    0\n",
            "dtype: int64\n"
          ]
        }
      ],
      "source": [
        "# Checking for missing values\n",
        "missing_values = df.isnull().sum()\n",
        "print('Missing values in each column:\\n', missing_values)"
      ]
    },
    {
      "cell_type": "code",
      "execution_count": 54,
      "metadata": {
        "ExecuteTime": {
          "start_time": "2024-05-01T18:14:48.444Z"
        },
        "id": "fOJiYgG1SqmR"
      },
      "outputs": [],
      "source": [
        "mapping = {'Neutral': 0, 'Bear': -1, 'Bull': 1}  # Adjust mapping as necessary\n",
        "df['Price_Change'] = df['Price_Change'].replace(mapping)\n"
      ]
    },
    {
      "cell_type": "code",
      "source": [
        "print(df.info())  # Check data types\n",
        "print(df.head())  # Inspect the first few rows\n"
      ],
      "metadata": {
        "colab": {
          "base_uri": "https://localhost:8080/"
        },
        "id": "a6R_QOx4uszG",
        "outputId": "d88bb514-aa5e-4fce-86ae-86875088b406"
      },
      "execution_count": 55,
      "outputs": [
        {
          "output_type": "stream",
          "name": "stdout",
          "text": [
            "<class 'pandas.core.frame.DataFrame'>\n",
            "RangeIndex: 3104 entries, 0 to 3103\n",
            "Data columns (total 9 columns):\n",
            " #   Column        Non-Null Count  Dtype         \n",
            "---  ------        --------------  -----         \n",
            " 0   Date          3104 non-null   datetime64[ns]\n",
            " 1   Open          3104 non-null   float64       \n",
            " 2   High          3104 non-null   float64       \n",
            " 3   Low           3104 non-null   float64       \n",
            " 4   Close         3104 non-null   float64       \n",
            " 5   Adj Close     3104 non-null   float64       \n",
            " 6   Volume        3104 non-null   int64         \n",
            " 7   Price_Change  3103 non-null   float64       \n",
            " 8   Market_Cycle  3104 non-null   object        \n",
            "dtypes: datetime64[ns](1), float64(6), int64(1), object(1)\n",
            "memory usage: 218.4+ KB\n",
            "None\n",
            "        Date        Open        High         Low       Close   Adj Close  \\\n",
            "0 2015-01-03  314.846008  315.149994  281.082001  281.082001  281.082001   \n",
            "1 2015-01-04  281.145996  287.230011  257.612000  264.195007  264.195007   \n",
            "2 2015-01-05  265.084015  278.341003  265.084015  274.473999  274.473999   \n",
            "3 2015-01-06  274.610992  287.553009  272.696014  286.188995  286.188995   \n",
            "4 2015-01-07  286.076996  298.753998  283.079010  294.337006  294.337006   \n",
            "\n",
            "     Volume  Price_Change Market_Cycle  \n",
            "0  33054400           NaN      Neutral  \n",
            "1  55629100     -0.060079      Neutral  \n",
            "2  43962800      0.038907      Neutral  \n",
            "3  23245700      0.042682      Neutral  \n",
            "4  24866800      0.028471      Neutral  \n"
          ]
        }
      ]
    },
    {
      "cell_type": "code",
      "execution_count": 56,
      "metadata": {
        "ExecuteTime": {
          "start_time": "2024-05-01T18:14:48.444Z"
        },
        "id": "BgyBuBpdS8yJ"
      },
      "outputs": [],
      "source": [
        "# Identifying outliers (for example, in the 'Close' column)\n",
        "Q1 = df['Close'].quantile(0.25)\n",
        "Q3 = df['Close'].quantile(0.75)\n",
        "IQR = Q3 - Q1\n",
        "\n",
        "# Defining bounds for outliers\n",
        "lower_bound = Q1 - 1.5 * IQR\n",
        "upper_bound = Q3 + 1.5 * IQR\n",
        "\n",
        "# Handling outliers (e.g., capping)\n",
        "df['Close'] = df['Close'].clip(lower=lower_bound, upper=upper_bound)"
      ]
    },
    {
      "cell_type": "code",
      "execution_count": 57,
      "metadata": {
        "ExecuteTime": {
          "start_time": "2024-05-01T18:14:48.445Z"
        },
        "id": "Yq39jSpFS87t"
      },
      "outputs": [],
      "source": [
        "# Feature Engineering (e.g., creating a 'Daily Return' feature)\n",
        "df['Daily Return'] = df['Close'].pct_change()\n",
        "\n",
        "# Normalizing data (Min-Max scaling)\n",
        "from sklearn.preprocessing import MinMaxScaler\n",
        "scaler = MinMaxScaler()\n",
        "\n",
        "# Assuming you want to scale 'Close' and 'Volume' columns\n",
        "df[['Close', 'Volume']] = scaler.fit_transform(df[['Close', 'Volume']])"
      ]
    },
    {
      "cell_type": "code",
      "execution_count": 58,
      "metadata": {
        "ExecuteTime": {
          "start_time": "2024-05-01T18:14:48.445Z"
        },
        "colab": {
          "base_uri": "https://localhost:8080/"
        },
        "id": "3RBPWJrfS9AW",
        "outputId": "fd0a5a9b-09f5-4d15-d98a-c6686fd61925"
      },
      "outputs": [
        {
          "output_type": "stream",
          "name": "stdout",
          "text": [
            "                            OLS Regression Results                            \n",
            "==============================================================================\n",
            "Dep. Variable:                  Close   R-squared:                       0.496\n",
            "Model:                            OLS   Adj. R-squared:                  0.496\n",
            "Method:                 Least Squares   F-statistic:                     3056.\n",
            "Date:                Thu, 02 May 2024   Prob (F-statistic):               0.00\n",
            "Time:                        00:39:42   Log-Likelihood:                 351.53\n",
            "No. Observations:                3104   AIC:                            -699.1\n",
            "Df Residuals:                    3102   BIC:                            -687.0\n",
            "Df Model:                           1                                         \n",
            "Covariance Type:            nonrobust                                         \n",
            "==============================================================================\n",
            "                 coef    std err          t      P>|t|      [0.025      0.975]\n",
            "------------------------------------------------------------------------------\n",
            "const          0.0837      0.005     16.250      0.000       0.074       0.094\n",
            "Volume         3.8365      0.069     55.285      0.000       3.700       3.973\n",
            "==============================================================================\n",
            "Omnibus:                      632.965   Durbin-Watson:                   0.264\n",
            "Prob(Omnibus):                  0.000   Jarque-Bera (JB):            21537.328\n",
            "Skew:                          -0.053   Prob(JB):                         0.00\n",
            "Kurtosis:                      15.904   Cond. No.                         17.9\n",
            "==============================================================================\n",
            "\n",
            "Notes:\n",
            "[1] Standard Errors assume that the covariance matrix of the errors is correctly specified.\n"
          ]
        }
      ],
      "source": [
        "# Simple Linear Regression: Predicting 'Close' based on 'Volume'\n",
        "X = df['Volume']  # Predictor variable\n",
        "y = df['Close']   # Response variable\n",
        "\n",
        "# Adding a constant to the model (intercept)\n",
        "X = sm.add_constant(X)\n",
        "\n",
        "# Fitting the regression model\n",
        "model = sm.OLS(y, X).fit()\n",
        "\n",
        "# Summary of the model\n",
        "model_summary = model.summary()\n",
        "print(model_summary)"
      ]
    },
    {
      "cell_type": "code",
      "execution_count": 59,
      "metadata": {
        "ExecuteTime": {
          "start_time": "2024-05-01T18:14:48.446Z"
        },
        "id": "BeR-CVheS9Du"
      },
      "outputs": [],
      "source": [
        "# Selecting features\n",
        "X = df[['Open', 'High', 'Low', 'Volume']]  # You can choose other columns as well\n",
        "\n",
        "# Selecting the target variable\n",
        "y = df['Close']\n"
      ]
    },
    {
      "cell_type": "code",
      "execution_count": 60,
      "metadata": {
        "ExecuteTime": {
          "start_time": "2024-05-01T18:14:48.447Z"
        },
        "id": "X1bqTcYYS9HV"
      },
      "outputs": [],
      "source": [
        "df['Close_Lag1'] = df['Close'].shift(1)  # This creates a new column where each row is the previous day's 'Close' price\n",
        "\n",
        "# Adjusting the features and target variable\n",
        "X = df[['Open', 'High', 'Low', 'Volume', 'Close_Lag1']].dropna()  # Include the lagged feature\n",
        "y = df['Close'].shift(-1).dropna()  # Predicting the next day's 'Close' price"
      ]
    },
    {
      "cell_type": "code",
      "execution_count": 61,
      "metadata": {
        "ExecuteTime": {
          "start_time": "2024-05-01T18:14:48.447Z"
        },
        "id": "V5LC-mfiS9Nj"
      },
      "outputs": [],
      "source": [
        " # Random Forest Example\n",
        "def random_forest_model(X, y):\n",
        "    # Splitting the dataset into training and testing sets\n",
        "    X_train, X_test, y_train, y_test = train_test_split(X, y, test_size=0.2, random_state=42)\n",
        "\n",
        "    # Initialize the Random Forest Regressor\n",
        "    rf_model = RandomForestRegressor(n_estimators=100, random_state=42)\n",
        "\n",
        "    # Fit the model\n",
        "    rf_model.fit(X_train, y_train)\n",
        "\n",
        "    # Make predictions\n",
        "    y_pred = rf_model.predict(X_test)\n",
        "\n",
        "    # Calculate Mean Squared Error\n",
        "    mse = mean_squared_error(y_test, y_pred)\n",
        "    print(\"Random Forest MSE:\", mse)\n",
        "\n",
        "# Gradient Boosting Example\n",
        "def gradient_boosting_model(X, y):\n",
        "    # Splitting the dataset\n",
        "    X_train, X_test, y_train, y_test = train_test_split(X, y, test_size=0.2, random_state=42)\n",
        "\n",
        "    # Initialize Gradient Boosting Regressor\n",
        "    gb_model = GradientBoostingRegressor(n_estimators=100, random_state=42)\n",
        "\n",
        "    # Fit the model\n",
        "    gb_model.fit(X_train, y_train)\n",
        "\n",
        "    # Predict\n",
        "    y_pred = gb_model.predict(X_test)\n",
        "\n",
        "    # Calculate Mean Squared Error\n",
        "    mse = mean_squared_error(y_test, y_pred)\n",
        "    print(\"Gradient Boosting MSE:\", mse)"
      ]
    },
    {
      "cell_type": "code",
      "execution_count": 62,
      "metadata": {
        "ExecuteTime": {
          "start_time": "2024-05-01T18:14:48.448Z"
        },
        "id": "vDuzMQLgTTDw"
      },
      "outputs": [],
      "source": [
        "# LSTM Example\n",
        "def lstm_model(data, feature_columns, target_column):\n",
        "    # Preparing data for LSTM\n",
        "    data = data[feature_columns + [target_column]]\n",
        "    data_scaled = data.values\n",
        "\n",
        "    # Generator for the time series\n",
        "    n_input = 3  # number of steps\n",
        "    n_features = len(feature_columns)\n",
        "    generator = TimeseriesGenerator(data_scaled, data_scaled[:, -1], length=n_input, batch_size=1)\n",
        "\n",
        "    # LSTM model\n",
        "    model = Sequential()\n",
        "    model.add(LSTM(50, activation='relu', input_shape=(n_input, n_features)))\n",
        "    model.add(Dense(1))\n",
        "    model.compile(optimizer='adam', loss='mse')\n",
        "\n",
        "    # Fit model\n",
        "    model.fit(generator, steps_per_epoch=1, epochs=200, verbose=1)\n",
        "\n",
        "    return model"
      ]
    },
    {
      "cell_type": "code",
      "execution_count": 63,
      "metadata": {
        "ExecuteTime": {
          "start_time": "2024-05-01T18:14:48.449Z"
        },
        "id": "cfsc-DrFTTLg"
      },
      "outputs": [],
      "source": [
        "\n",
        "time_steps = 5  # Example: using 5 days of prices to predict the next day\n",
        "df_lagged = pd.concat([df['Close'].shift(i) for i in range(time_steps, -1, -1)], axis=1)\n",
        "\n",
        "# Drop missing values created by lagging\n",
        "df_lagged.dropna(inplace=True)\n",
        "\n",
        "# Features and labels\n",
        "X = df_lagged.iloc[:, :-1].values\n",
        "y = df_lagged.iloc[:, -1].values\n",
        "\n",
        "# Splitting the data into training and testing sets\n",
        "X_train, X_test, y_train, y_test = train_test_split(X, y, test_size=0.2, shuffle=False)\n",
        "\n",
        "# Reshaping X for LSTM input\n",
        "X_train = X_train.reshape((X_train.shape[0], X_train.shape[1], 1))\n",
        "X_test = X_test.reshape((X_test.shape[0], X_test.shape[1], 1))\n",
        "\n",
        "# Scaling the features\n",
        "scaler = MinMaxScaler(feature_range=(0, 1))\n",
        "X_train_scaled = scaler.fit_transform(X_train.reshape(-1, X_train.shape[-1])).reshape(X_train.shape)\n",
        "X_test_scaled = scaler.transform(X_test.reshape(-1, X_test.shape[-1])).reshape(X_test.shape)"
      ]
    },
    {
      "cell_type": "code",
      "execution_count": 64,
      "metadata": {
        "ExecuteTime": {
          "start_time": "2024-05-01T18:14:48.449Z"
        },
        "colab": {
          "base_uri": "https://localhost:8080/"
        },
        "id": "LwccYEDiTTPc",
        "outputId": "fee4cf48-6fef-4894-997d-1f99da8c544e"
      },
      "outputs": [
        {
          "output_type": "stream",
          "name": "stdout",
          "text": [
            "Epoch 1/100\n",
            "78/78 [==============================] - 6s 8ms/step - loss: 0.0178\n",
            "Epoch 2/100\n",
            "78/78 [==============================] - 1s 9ms/step - loss: 5.5918e-04\n",
            "Epoch 3/100\n",
            "78/78 [==============================] - 1s 8ms/step - loss: 4.2247e-04\n",
            "Epoch 4/100\n",
            "78/78 [==============================] - 1s 8ms/step - loss: 4.0410e-04\n",
            "Epoch 5/100\n",
            "78/78 [==============================] - 1s 8ms/step - loss: 3.8841e-04\n",
            "Epoch 6/100\n",
            "78/78 [==============================] - 1s 9ms/step - loss: 4.0024e-04\n",
            "Epoch 7/100\n",
            "78/78 [==============================] - 1s 8ms/step - loss: 4.1089e-04\n",
            "Epoch 8/100\n",
            "78/78 [==============================] - 1s 9ms/step - loss: 3.8809e-04\n",
            "Epoch 9/100\n",
            "78/78 [==============================] - 1s 8ms/step - loss: 4.1168e-04\n",
            "Epoch 10/100\n",
            "78/78 [==============================] - 1s 8ms/step - loss: 3.9842e-04\n",
            "Epoch 11/100\n",
            "78/78 [==============================] - 1s 8ms/step - loss: 3.9461e-04\n",
            "Epoch 12/100\n",
            "78/78 [==============================] - 1s 8ms/step - loss: 3.7649e-04\n",
            "Epoch 13/100\n",
            "78/78 [==============================] - 1s 8ms/step - loss: 4.0408e-04\n",
            "Epoch 14/100\n",
            "78/78 [==============================] - 1s 12ms/step - loss: 3.7180e-04\n",
            "Epoch 15/100\n",
            "78/78 [==============================] - 1s 12ms/step - loss: 3.6726e-04\n",
            "Epoch 16/100\n",
            "78/78 [==============================] - 1s 12ms/step - loss: 4.1902e-04\n",
            "Epoch 17/100\n",
            "78/78 [==============================] - 1s 13ms/step - loss: 3.7551e-04\n",
            "Epoch 18/100\n",
            "78/78 [==============================] - 1s 11ms/step - loss: 3.9321e-04\n",
            "Epoch 19/100\n",
            "78/78 [==============================] - 1s 8ms/step - loss: 3.8160e-04\n",
            "Epoch 20/100\n",
            "78/78 [==============================] - 1s 8ms/step - loss: 4.4273e-04\n",
            "Epoch 21/100\n",
            "78/78 [==============================] - 1s 8ms/step - loss: 3.4767e-04\n",
            "Epoch 22/100\n",
            "78/78 [==============================] - 1s 8ms/step - loss: 3.4035e-04\n",
            "Epoch 23/100\n",
            "78/78 [==============================] - 1s 8ms/step - loss: 3.4676e-04\n",
            "Epoch 24/100\n",
            "78/78 [==============================] - 1s 8ms/step - loss: 3.5286e-04\n",
            "Epoch 25/100\n",
            "78/78 [==============================] - 1s 8ms/step - loss: 3.5985e-04\n",
            "Epoch 26/100\n",
            "78/78 [==============================] - 1s 8ms/step - loss: 3.1903e-04\n",
            "Epoch 27/100\n",
            "78/78 [==============================] - 1s 8ms/step - loss: 3.8803e-04\n",
            "Epoch 28/100\n",
            "78/78 [==============================] - 1s 8ms/step - loss: 3.2292e-04\n",
            "Epoch 29/100\n",
            "78/78 [==============================] - 1s 8ms/step - loss: 3.4851e-04\n",
            "Epoch 30/100\n",
            "78/78 [==============================] - 1s 8ms/step - loss: 3.6840e-04\n",
            "Epoch 31/100\n",
            "78/78 [==============================] - 1s 8ms/step - loss: 3.3513e-04\n",
            "Epoch 32/100\n",
            "78/78 [==============================] - 1s 9ms/step - loss: 2.8863e-04\n",
            "Epoch 33/100\n",
            "78/78 [==============================] - 1s 8ms/step - loss: 3.0671e-04\n",
            "Epoch 34/100\n",
            "78/78 [==============================] - 1s 10ms/step - loss: 3.0495e-04\n",
            "Epoch 35/100\n",
            "78/78 [==============================] - 1s 12ms/step - loss: 3.1712e-04\n",
            "Epoch 36/100\n",
            "78/78 [==============================] - 1s 12ms/step - loss: 3.1361e-04\n",
            "Epoch 37/100\n",
            "78/78 [==============================] - 1s 12ms/step - loss: 2.7790e-04\n",
            "Epoch 38/100\n",
            "78/78 [==============================] - 1s 12ms/step - loss: 3.2182e-04\n",
            "Epoch 39/100\n",
            "78/78 [==============================] - 1s 9ms/step - loss: 2.9012e-04\n",
            "Epoch 40/100\n",
            "78/78 [==============================] - 1s 8ms/step - loss: 2.7279e-04\n",
            "Epoch 41/100\n",
            "78/78 [==============================] - 1s 9ms/step - loss: 2.4309e-04\n",
            "Epoch 42/100\n",
            "78/78 [==============================] - 1s 7ms/step - loss: 2.5165e-04\n",
            "Epoch 43/100\n",
            "78/78 [==============================] - 1s 13ms/step - loss: 2.7861e-04\n",
            "Epoch 44/100\n",
            "78/78 [==============================] - 1s 17ms/step - loss: 2.3551e-04\n",
            "Epoch 45/100\n",
            "78/78 [==============================] - 1s 18ms/step - loss: 2.6294e-04\n",
            "Epoch 46/100\n",
            "78/78 [==============================] - 1s 17ms/step - loss: 2.1767e-04\n",
            "Epoch 47/100\n",
            "78/78 [==============================] - 2s 20ms/step - loss: 2.1378e-04\n",
            "Epoch 48/100\n",
            "78/78 [==============================] - 1s 17ms/step - loss: 2.3267e-04\n",
            "Epoch 49/100\n",
            "78/78 [==============================] - 2s 23ms/step - loss: 2.3701e-04\n",
            "Epoch 50/100\n",
            "78/78 [==============================] - 2s 22ms/step - loss: 2.3017e-04\n",
            "Epoch 51/100\n",
            "78/78 [==============================] - 2s 21ms/step - loss: 2.1163e-04\n",
            "Epoch 52/100\n",
            "78/78 [==============================] - 1s 18ms/step - loss: 2.1358e-04\n",
            "Epoch 53/100\n",
            "78/78 [==============================] - 1s 10ms/step - loss: 2.0409e-04\n",
            "Epoch 54/100\n",
            "78/78 [==============================] - 1s 8ms/step - loss: 1.9998e-04\n",
            "Epoch 55/100\n",
            "78/78 [==============================] - 1s 8ms/step - loss: 1.8242e-04\n",
            "Epoch 56/100\n",
            "78/78 [==============================] - 1s 8ms/step - loss: 2.0454e-04\n",
            "Epoch 57/100\n",
            "78/78 [==============================] - 1s 8ms/step - loss: 2.3069e-04\n",
            "Epoch 58/100\n",
            "78/78 [==============================] - 1s 8ms/step - loss: 2.0572e-04\n",
            "Epoch 59/100\n",
            "78/78 [==============================] - 1s 8ms/step - loss: 1.8237e-04\n",
            "Epoch 60/100\n",
            "78/78 [==============================] - 1s 8ms/step - loss: 1.7107e-04\n",
            "Epoch 61/100\n",
            "78/78 [==============================] - 1s 8ms/step - loss: 1.7782e-04\n",
            "Epoch 62/100\n",
            "78/78 [==============================] - 1s 8ms/step - loss: 2.1167e-04\n",
            "Epoch 63/100\n",
            "78/78 [==============================] - 1s 8ms/step - loss: 2.2440e-04\n",
            "Epoch 64/100\n",
            "78/78 [==============================] - 1s 8ms/step - loss: 1.7909e-04\n",
            "Epoch 65/100\n",
            "78/78 [==============================] - 1s 8ms/step - loss: 1.8745e-04\n",
            "Epoch 66/100\n",
            "78/78 [==============================] - 1s 8ms/step - loss: 1.6734e-04\n",
            "Epoch 67/100\n",
            "78/78 [==============================] - 1s 12ms/step - loss: 1.8302e-04\n",
            "Epoch 68/100\n",
            "78/78 [==============================] - 1s 11ms/step - loss: 1.8243e-04\n",
            "Epoch 69/100\n",
            "78/78 [==============================] - 1s 12ms/step - loss: 1.8398e-04\n",
            "Epoch 70/100\n",
            "78/78 [==============================] - 1s 13ms/step - loss: 1.8163e-04\n",
            "Epoch 71/100\n",
            "78/78 [==============================] - 1s 13ms/step - loss: 2.0061e-04\n",
            "Epoch 72/100\n",
            "78/78 [==============================] - 1s 8ms/step - loss: 1.8461e-04\n",
            "Epoch 73/100\n",
            "78/78 [==============================] - 1s 8ms/step - loss: 1.5754e-04\n",
            "Epoch 74/100\n",
            "78/78 [==============================] - 1s 8ms/step - loss: 1.7904e-04\n",
            "Epoch 75/100\n",
            "78/78 [==============================] - 1s 8ms/step - loss: 1.7765e-04\n",
            "Epoch 76/100\n",
            "78/78 [==============================] - 1s 8ms/step - loss: 1.6701e-04\n",
            "Epoch 77/100\n",
            "78/78 [==============================] - 1s 8ms/step - loss: 1.6599e-04\n",
            "Epoch 78/100\n",
            "78/78 [==============================] - 1s 8ms/step - loss: 1.7323e-04\n",
            "Epoch 79/100\n",
            "78/78 [==============================] - 1s 8ms/step - loss: 1.6051e-04\n",
            "Epoch 80/100\n",
            "78/78 [==============================] - 1s 8ms/step - loss: 1.7215e-04\n",
            "Epoch 81/100\n",
            "78/78 [==============================] - 1s 8ms/step - loss: 2.1046e-04\n",
            "Epoch 82/100\n",
            "78/78 [==============================] - 1s 8ms/step - loss: 1.6520e-04\n",
            "Epoch 83/100\n",
            "78/78 [==============================] - 1s 8ms/step - loss: 1.5635e-04\n",
            "Epoch 84/100\n",
            "78/78 [==============================] - 1s 8ms/step - loss: 1.6394e-04\n",
            "Epoch 85/100\n",
            "78/78 [==============================] - 1s 8ms/step - loss: 1.5853e-04\n",
            "Epoch 86/100\n",
            "78/78 [==============================] - 1s 8ms/step - loss: 1.8082e-04\n",
            "Epoch 87/100\n",
            "78/78 [==============================] - 1s 9ms/step - loss: 1.6807e-04\n",
            "Epoch 88/100\n",
            "78/78 [==============================] - 1s 11ms/step - loss: 1.8388e-04\n",
            "Epoch 89/100\n",
            "78/78 [==============================] - 1s 11ms/step - loss: 2.3824e-04\n",
            "Epoch 90/100\n",
            "78/78 [==============================] - 1s 12ms/step - loss: 1.4769e-04\n",
            "Epoch 91/100\n",
            "78/78 [==============================] - 1s 13ms/step - loss: 1.5958e-04\n",
            "Epoch 92/100\n",
            "78/78 [==============================] - 1s 14ms/step - loss: 1.5916e-04\n",
            "Epoch 93/100\n",
            "78/78 [==============================] - 1s 14ms/step - loss: 1.7782e-04\n",
            "Epoch 94/100\n",
            "78/78 [==============================] - 1s 13ms/step - loss: 1.7387e-04\n",
            "Epoch 95/100\n",
            "78/78 [==============================] - 1s 13ms/step - loss: 1.9021e-04\n",
            "Epoch 96/100\n",
            "78/78 [==============================] - 1s 13ms/step - loss: 1.7198e-04\n",
            "Epoch 97/100\n",
            "78/78 [==============================] - 1s 13ms/step - loss: 1.7692e-04\n",
            "Epoch 98/100\n",
            "78/78 [==============================] - 2s 21ms/step - loss: 1.6740e-04\n",
            "Epoch 99/100\n",
            "78/78 [==============================] - 2s 23ms/step - loss: 1.8765e-04\n",
            "Epoch 100/100\n",
            "78/78 [==============================] - 1s 9ms/step - loss: 1.6081e-04\n"
          ]
        },
        {
          "output_type": "execute_result",
          "data": {
            "text/plain": [
              "<keras.src.callbacks.History at 0x7dd2b05d1b40>"
            ]
          },
          "metadata": {},
          "execution_count": 64
        }
      ],
      "source": [
        "model = Sequential([\n",
        "    LSTM(units=50, return_sequences=True, input_shape=(X_train.shape[1], X_train.shape[2])),\n",
        "    LSTM(units=50),\n",
        "    Dense(units=1)\n",
        "])\n",
        "\n",
        "# Compile the model\n",
        "model.compile(optimizer='adam', loss='mean_squared_error')\n",
        "\n",
        "# Train the model\n",
        "model.fit(X_train, y_train, epochs=100, batch_size=32)"
      ]
    },
    {
      "cell_type": "code",
      "execution_count": 65,
      "metadata": {
        "ExecuteTime": {
          "start_time": "2024-05-01T18:14:48.450Z"
        },
        "colab": {
          "base_uri": "https://localhost:8080/",
          "height": 581
        },
        "id": "_N3XYfrwXCna",
        "outputId": "a516957a-8959-4b5e-b328-b2ce164de506"
      },
      "outputs": [
        {
          "output_type": "stream",
          "name": "stdout",
          "text": [
            "20/20 [==============================] - 1s 3ms/step\n"
          ]
        },
        {
          "output_type": "display_data",
          "data": {
            "text/plain": [
              "<Figure size 1200x600 with 1 Axes>"
            ],
            "image/png": "[encoded data removed]"
          },
          "metadata": {}
        }
      ],
      "source": [
        "# Assuming 'model' is your trained LSTM model and you have X_test_scaled and y_test ready\n",
        "# Make predictions\n",
        "predictions = model.predict(X_test_scaled)\n",
        "\n",
        "# Visualizing the predictions vs actual values\n",
        "plt.figure(figsize=(12,6))\n",
        "plt.plot(y_test, label='Actual Values', color='blue')\n",
        "plt.plot(predictions, label='Predicted Values', color='red')\n",
        "plt.title('LSTM Model Predictions vs Actual Values')\n",
        "plt.xlabel('Time')\n",
        "plt.ylabel('Value')\n",
        "plt.legend()\n",
        "plt.show()"
      ]
    },
    {
      "cell_type": "code",
      "execution_count": 66,
      "metadata": {
        "ExecuteTime": {
          "start_time": "2024-05-01T18:14:48.450Z"
        },
        "colab": {
          "base_uri": "https://localhost:8080/"
        },
        "id": "Xwf3PejtXstz",
        "outputId": "6e4d4723-979a-43f5-a1f3-bab89ed08ad7"
      },
      "outputs": [
        {
          "output_type": "stream",
          "name": "stdout",
          "text": [
            "Mean Absolute Error (MAE): 0.012056574250823224\n",
            "Mean Squared Error (MSE): 0.0003420523566297368\n",
            "Root Mean Squared Error (RMSE): 0.018494657515881086\n"
          ]
        }
      ],
      "source": [
        "# Assuming you have the true values 'y_test' and the predictions 'predictions'\n",
        "mae = mean_absolute_error(y_test, predictions)\n",
        "mse = mean_squared_error(y_test, predictions)\n",
        "rmse = np.sqrt(mse)\n",
        "\n",
        "print('Mean Absolute Error (MAE):', mae)\n",
        "print('Mean Squared Error (MSE):', mse)\n",
        "print('Root Mean Squared Error (RMSE):', rmse)"
      ]
    },
    {
      "cell_type": "code",
      "execution_count": 67,
      "metadata": {
        "ExecuteTime": {
          "start_time": "2024-05-01T18:14:48.451Z"
        },
        "id": "n2G0w_nFXs-H"
      },
      "outputs": [],
      "source": [
        "# Create the scaler\n",
        "scaler = MinMaxScaler(feature_range=(0, 1))\n",
        "\n",
        "# Assuming X_train and X_test are your data arrays with shape [samples, time steps, features]\n",
        "# Reshape to 2D\n",
        "num_samples, num_time_steps, num_features = X_train.shape\n",
        "X_train_reshaped = X_train.reshape((num_samples * num_time_steps, num_features))\n",
        "\n",
        "# Fit and transform the training data\n",
        "X_train_scaled = scaler.fit_transform(X_train_reshaped)\n",
        "\n",
        "# Transform the test data\n",
        "num_samples_test, _, _ = X_test.shape\n",
        "X_test_reshaped = X_test.reshape((num_samples_test * num_time_steps, num_features))\n",
        "X_test_scaled = scaler.transform(X_test_reshaped)\n",
        "\n",
        "# Reshape back to 3D\n",
        "X_train_scaled = X_train_scaled.reshape((num_samples, num_time_steps, num_features))\n",
        "X_test_scaled = X_test_scaled.reshape((num_samples_test, num_time_steps, num_features))\n"
      ]
    },
    {
      "cell_type": "code",
      "execution_count": 68,
      "metadata": {
        "ExecuteTime": {
          "start_time": "2024-05-01T18:14:48.451Z"
        },
        "colab": {
          "base_uri": "https://localhost:8080/"
        },
        "id": "VAwNF9rmaVD5",
        "outputId": "28db6045-bdd4-4f10-a27f-9acc7a109cbc"
      },
      "outputs": [
        {
          "output_type": "stream",
          "name": "stdout",
          "text": [
            "Epoch 1/100\n",
            "62/62 [==============================] - 6s 32ms/step - loss: 0.0019 - val_loss: 0.0027\n",
            "Epoch 2/100\n",
            "62/62 [==============================] - 1s 9ms/step - loss: 2.3628e-04 - val_loss: 0.0016\n",
            "Epoch 3/100\n",
            "62/62 [==============================] - 1s 9ms/step - loss: 2.0784e-04 - val_loss: 0.0044\n",
            "Epoch 4/100\n",
            "62/62 [==============================] - 1s 10ms/step - loss: 2.3332e-04 - val_loss: 0.0040\n",
            "Epoch 5/100\n",
            "62/62 [==============================] - 1s 9ms/step - loss: 1.9401e-04 - val_loss: 0.0036\n",
            "Epoch 6/100\n",
            "62/62 [==============================] - 1s 9ms/step - loss: 1.9126e-04 - val_loss: 0.0076\n",
            "Epoch 7/100\n",
            "62/62 [==============================] - 1s 9ms/step - loss: 2.0442e-04 - val_loss: 0.0072\n",
            "Epoch 8/100\n",
            "62/62 [==============================] - 1s 9ms/step - loss: 1.7302e-04 - val_loss: 0.0074\n",
            "Epoch 9/100\n",
            "62/62 [==============================] - 1s 10ms/step - loss: 2.0144e-04 - val_loss: 0.0100\n",
            "Epoch 10/100\n",
            "62/62 [==============================] - 1s 9ms/step - loss: 1.8022e-04 - val_loss: 0.0129\n",
            "Epoch 11/100\n",
            "62/62 [==============================] - 1s 10ms/step - loss: 1.6390e-04 - val_loss: 0.0131\n",
            "Epoch 12/100\n",
            "62/62 [==============================] - 1s 9ms/step - loss: 1.5788e-04 - val_loss: 0.0131\n",
            "Epoch 13/100\n",
            "62/62 [==============================] - 1s 9ms/step - loss: 1.6810e-04 - val_loss: 0.0086\n",
            "Epoch 14/100\n",
            "62/62 [==============================] - 1s 9ms/step - loss: 1.5569e-04 - val_loss: 0.0118\n",
            "Epoch 15/100\n",
            "62/62 [==============================] - 1s 10ms/step - loss: 1.4810e-04 - val_loss: 0.0116\n",
            "Epoch 16/100\n",
            "62/62 [==============================] - 1s 9ms/step - loss: 1.4653e-04 - val_loss: 0.0152\n",
            "Epoch 17/100\n",
            "62/62 [==============================] - 1s 9ms/step - loss: 1.6970e-04 - val_loss: 0.0068\n",
            "Epoch 18/100\n",
            "62/62 [==============================] - 1s 13ms/step - loss: 1.6480e-04 - val_loss: 0.0106\n",
            "Epoch 19/100\n",
            "62/62 [==============================] - 1s 14ms/step - loss: 1.4145e-04 - val_loss: 0.0137\n",
            "Epoch 20/100\n",
            "62/62 [==============================] - 1s 13ms/step - loss: 1.6631e-04 - val_loss: 0.0135\n",
            "Epoch 21/100\n",
            "62/62 [==============================] - 1s 15ms/step - loss: 1.6447e-04 - val_loss: 0.0091\n",
            "Epoch 22/100\n",
            "62/62 [==============================] - 1s 15ms/step - loss: 1.2898e-04 - val_loss: 0.0103\n",
            "Epoch 23/100\n",
            "62/62 [==============================] - 1s 10ms/step - loss: 1.4736e-04 - val_loss: 0.0134\n",
            "Epoch 24/100\n",
            "62/62 [==============================] - 1s 9ms/step - loss: 1.4789e-04 - val_loss: 0.0056\n",
            "Epoch 25/100\n",
            "62/62 [==============================] - 1s 10ms/step - loss: 1.3729e-04 - val_loss: 0.0078\n",
            "Epoch 26/100\n",
            "62/62 [==============================] - 1s 10ms/step - loss: 1.3597e-04 - val_loss: 0.0064\n",
            "Epoch 27/100\n",
            "62/62 [==============================] - 1s 9ms/step - loss: 1.3697e-04 - val_loss: 0.0061\n",
            "Epoch 28/100\n",
            "62/62 [==============================] - 1s 9ms/step - loss: 1.3390e-04 - val_loss: 0.0059\n",
            "Epoch 29/100\n",
            "62/62 [==============================] - 1s 9ms/step - loss: 1.1687e-04 - val_loss: 0.0048\n",
            "Epoch 30/100\n",
            "62/62 [==============================] - 1s 10ms/step - loss: 1.3791e-04 - val_loss: 0.0084\n",
            "Epoch 31/100\n",
            "62/62 [==============================] - 1s 9ms/step - loss: 1.3700e-04 - val_loss: 0.0051\n",
            "Epoch 32/100\n",
            "62/62 [==============================] - 1s 9ms/step - loss: 1.1654e-04 - val_loss: 0.0053\n",
            "Epoch 33/100\n",
            "62/62 [==============================] - 1s 10ms/step - loss: 1.1982e-04 - val_loss: 0.0064\n",
            "Epoch 34/100\n",
            "62/62 [==============================] - 1s 10ms/step - loss: 1.1128e-04 - val_loss: 0.0030\n",
            "Epoch 35/100\n",
            "62/62 [==============================] - 1s 10ms/step - loss: 1.2723e-04 - val_loss: 0.0057\n",
            "Epoch 36/100\n",
            "62/62 [==============================] - 1s 10ms/step - loss: 1.3872e-04 - val_loss: 0.0122\n",
            "Epoch 37/100\n",
            "62/62 [==============================] - 1s 9ms/step - loss: 1.2352e-04 - val_loss: 0.0052\n",
            "Epoch 38/100\n",
            "62/62 [==============================] - 1s 10ms/step - loss: 1.0914e-04 - val_loss: 0.0071\n",
            "Epoch 39/100\n",
            "62/62 [==============================] - 1s 11ms/step - loss: 1.3162e-04 - val_loss: 0.0048\n",
            "Epoch 40/100\n",
            "62/62 [==============================] - 1s 14ms/step - loss: 1.2826e-04 - val_loss: 0.0068\n",
            "Epoch 41/100\n",
            "62/62 [==============================] - 1s 15ms/step - loss: 1.1397e-04 - val_loss: 0.0035\n",
            "Epoch 42/100\n",
            "62/62 [==============================] - 1s 14ms/step - loss: 1.1778e-04 - val_loss: 0.0019\n",
            "Epoch 43/100\n",
            "62/62 [==============================] - 1s 16ms/step - loss: 1.2381e-04 - val_loss: 0.0085\n",
            "Epoch 44/100\n",
            "62/62 [==============================] - 1s 11ms/step - loss: 1.1419e-04 - val_loss: 0.0089\n",
            "Epoch 45/100\n",
            "62/62 [==============================] - 1s 9ms/step - loss: 1.3308e-04 - val_loss: 0.0052\n",
            "Epoch 46/100\n",
            "62/62 [==============================] - 1s 10ms/step - loss: 1.1579e-04 - val_loss: 0.0049\n",
            "Epoch 47/100\n",
            "62/62 [==============================] - 1s 9ms/step - loss: 1.2653e-04 - val_loss: 0.0097\n",
            "Epoch 48/100\n",
            "62/62 [==============================] - 1s 10ms/step - loss: 1.0728e-04 - val_loss: 0.0143\n",
            "Epoch 49/100\n",
            "62/62 [==============================] - 1s 9ms/step - loss: 1.1788e-04 - val_loss: 0.0060\n",
            "Epoch 50/100\n",
            "62/62 [==============================] - 1s 9ms/step - loss: 1.1045e-04 - val_loss: 0.0058\n",
            "Epoch 51/100\n",
            "62/62 [==============================] - 1s 10ms/step - loss: 1.0998e-04 - val_loss: 0.0088\n",
            "Epoch 52/100\n",
            "62/62 [==============================] - 1s 10ms/step - loss: 1.1125e-04 - val_loss: 0.0083\n",
            "Epoch 53/100\n",
            "62/62 [==============================] - 1s 10ms/step - loss: 1.0823e-04 - val_loss: 0.0083\n",
            "Epoch 54/100\n",
            "62/62 [==============================] - 1s 10ms/step - loss: 1.0196e-04 - val_loss: 0.0066\n",
            "Epoch 55/100\n",
            "62/62 [==============================] - 1s 10ms/step - loss: 1.1461e-04 - val_loss: 0.0069\n",
            "Epoch 56/100\n",
            "62/62 [==============================] - 1s 10ms/step - loss: 1.0689e-04 - val_loss: 0.0088\n",
            "Epoch 57/100\n",
            "62/62 [==============================] - 1s 10ms/step - loss: 1.0921e-04 - val_loss: 0.0104\n",
            "Epoch 58/100\n",
            "62/62 [==============================] - 1s 16ms/step - loss: 1.0482e-04 - val_loss: 0.0070\n",
            "Epoch 59/100\n",
            "62/62 [==============================] - 1s 17ms/step - loss: 1.0612e-04 - val_loss: 0.0042\n",
            "Epoch 60/100\n",
            "62/62 [==============================] - 1s 14ms/step - loss: 9.9027e-05 - val_loss: 0.0049\n",
            "Epoch 61/100\n",
            "62/62 [==============================] - 1s 14ms/step - loss: 1.0896e-04 - val_loss: 0.0048\n",
            "Epoch 62/100\n",
            "62/62 [==============================] - 1s 15ms/step - loss: 9.9603e-05 - val_loss: 0.0074\n",
            "Epoch 63/100\n",
            "62/62 [==============================] - 1s 15ms/step - loss: 1.1055e-04 - val_loss: 0.0073\n",
            "Epoch 64/100\n",
            "62/62 [==============================] - 1s 11ms/step - loss: 1.0485e-04 - val_loss: 0.0078\n",
            "Epoch 65/100\n",
            "62/62 [==============================] - 1s 10ms/step - loss: 9.3168e-05 - val_loss: 0.0053\n",
            "Epoch 66/100\n",
            "62/62 [==============================] - 1s 9ms/step - loss: 1.1106e-04 - val_loss: 0.0045\n",
            "Epoch 67/100\n",
            "62/62 [==============================] - 1s 10ms/step - loss: 9.8510e-05 - val_loss: 0.0077\n",
            "Epoch 68/100\n",
            "62/62 [==============================] - 1s 10ms/step - loss: 9.8421e-05 - val_loss: 0.0077\n",
            "Epoch 69/100\n",
            "62/62 [==============================] - 1s 10ms/step - loss: 1.1646e-04 - val_loss: 0.0053\n",
            "Epoch 70/100\n",
            "62/62 [==============================] - 1s 10ms/step - loss: 9.5906e-05 - val_loss: 0.0049\n",
            "Epoch 71/100\n",
            "62/62 [==============================] - 1s 10ms/step - loss: 9.3573e-05 - val_loss: 0.0052\n",
            "Epoch 72/100\n",
            "62/62 [==============================] - 1s 9ms/step - loss: 1.0774e-04 - val_loss: 0.0037\n",
            "Epoch 73/100\n",
            "62/62 [==============================] - 1s 10ms/step - loss: 1.0042e-04 - val_loss: 0.0040\n",
            "Epoch 74/100\n",
            "62/62 [==============================] - 1s 10ms/step - loss: 1.0353e-04 - val_loss: 0.0061\n",
            "Epoch 75/100\n",
            "62/62 [==============================] - 1s 10ms/step - loss: 9.6552e-05 - val_loss: 0.0027\n",
            "Epoch 76/100\n",
            "62/62 [==============================] - 1s 9ms/step - loss: 1.0002e-04 - val_loss: 0.0061\n",
            "Epoch 77/100\n",
            "62/62 [==============================] - 1s 11ms/step - loss: 1.1036e-04 - val_loss: 0.0029\n",
            "Epoch 78/100\n",
            "62/62 [==============================] - 1s 10ms/step - loss: 1.0191e-04 - val_loss: 0.0049\n",
            "Epoch 79/100\n",
            "62/62 [==============================] - 1s 10ms/step - loss: 9.4922e-05 - val_loss: 0.0041\n",
            "Epoch 80/100\n",
            "62/62 [==============================] - 1s 13ms/step - loss: 1.0252e-04 - val_loss: 0.0048\n",
            "Epoch 81/100\n",
            "62/62 [==============================] - 1s 15ms/step - loss: 9.1253e-05 - val_loss: 0.0046\n",
            "Epoch 82/100\n",
            "62/62 [==============================] - 1s 16ms/step - loss: 9.8794e-05 - val_loss: 0.0041\n",
            "Epoch 83/100\n",
            "62/62 [==============================] - 1s 15ms/step - loss: 9.5815e-05 - val_loss: 0.0031\n",
            "Epoch 84/100\n",
            "62/62 [==============================] - 1s 17ms/step - loss: 9.1917e-05 - val_loss: 0.0038\n",
            "Epoch 85/100\n",
            "62/62 [==============================] - 1s 10ms/step - loss: 9.7873e-05 - val_loss: 0.0035\n",
            "Epoch 86/100\n",
            "62/62 [==============================] - 1s 10ms/step - loss: 9.8974e-05 - val_loss: 0.0023\n",
            "Epoch 87/100\n",
            "62/62 [==============================] - 1s 10ms/step - loss: 1.0331e-04 - val_loss: 0.0050\n",
            "Epoch 88/100\n",
            "62/62 [==============================] - 1s 10ms/step - loss: 9.1953e-05 - val_loss: 0.0069\n",
            "Epoch 89/100\n",
            "62/62 [==============================] - 1s 10ms/step - loss: 9.6525e-05 - val_loss: 0.0066\n",
            "Epoch 90/100\n",
            "62/62 [==============================] - 1s 10ms/step - loss: 9.8746e-05 - val_loss: 0.0044\n",
            "Epoch 91/100\n",
            "62/62 [==============================] - 1s 11ms/step - loss: 1.0293e-04 - val_loss: 0.0047\n",
            "Epoch 92/100\n",
            "62/62 [==============================] - 1s 11ms/step - loss: 1.0485e-04 - val_loss: 0.0019\n",
            "Epoch 93/100\n",
            "62/62 [==============================] - 1s 11ms/step - loss: 9.9404e-05 - val_loss: 0.0040\n",
            "Epoch 94/100\n",
            "62/62 [==============================] - 1s 10ms/step - loss: 9.5742e-05 - val_loss: 0.0027\n",
            "Epoch 95/100\n",
            "62/62 [==============================] - 1s 10ms/step - loss: 9.8009e-05 - val_loss: 0.0055\n",
            "Epoch 96/100\n",
            "62/62 [==============================] - 1s 10ms/step - loss: 8.9438e-05 - val_loss: 0.0033\n",
            "Epoch 97/100\n",
            "62/62 [==============================] - 1s 10ms/step - loss: 9.7299e-05 - val_loss: 0.0034\n",
            "Epoch 98/100\n",
            "62/62 [==============================] - 1s 10ms/step - loss: 1.1951e-04 - val_loss: 0.0034\n",
            "Epoch 99/100\n",
            "62/62 [==============================] - 1s 10ms/step - loss: 9.0669e-05 - val_loss: 0.0025\n",
            "Epoch 100/100\n",
            "62/62 [==============================] - 1s 12ms/step - loss: 1.0994e-04 - val_loss: 0.0046\n"
          ]
        }
      ],
      "source": [
        "# Define your LSTM model architecture\n",
        "model = Sequential()\n",
        "model.add(LSTM(units=50, return_sequences=True, input_shape=(X_train_scaled.shape[1], X_train_scaled.shape[2])))\n",
        "model.add(Dropout(0.2))\n",
        "model.add(LSTM(units=50))\n",
        "model.add(Dropout(0.2))\n",
        "model.add(Dense(units=1))\n",
        "\n",
        "# Compile the model\n",
        "model.compile(optimizer='adam', loss='mean_squared_error')\n",
        "\n",
        "# Train the model\n",
        "history = model.fit(\n",
        "    X_train_scaled, y_train,\n",
        "    epochs=100,\n",
        "    batch_size=32,\n",
        "    validation_split=0.2,\n",
        "    verbose=1\n",
        ")\n"
      ]
    },
    {
      "cell_type": "code",
      "execution_count": 69,
      "metadata": {
        "ExecuteTime": {
          "start_time": "2024-05-01T18:14:48.452Z"
        },
        "colab": {
          "base_uri": "https://localhost:8080/"
        },
        "id": "RFaHEsWpaWoO",
        "outputId": "f3f438b2-7888-4a86-f0fe-e778f40309fa"
      },
      "outputs": [
        {
          "output_type": "stream",
          "name": "stdout",
          "text": [
            "20/20 [==============================] - 0s 5ms/step - loss: 0.0028\n",
            "20/20 [==============================] - 1s 5ms/step\n"
          ]
        }
      ],
      "source": [
        "# Evaluate the model on the test set\n",
        "test_loss = model.evaluate(X_test_scaled, y_test, verbose=1)\n",
        "\n",
        "# Calculate evaluation metrics\n",
        "predictions = model.predict(X_test_scaled)\n",
        "mae = mean_absolute_error(y_test, predictions)\n",
        "mse = mean_squared_error(y_test, predictions)\n",
        "rmse = np.sqrt(mse)"
      ]
    },
    {
      "cell_type": "code",
      "execution_count": 70,
      "metadata": {
        "ExecuteTime": {
          "start_time": "2024-05-01T18:14:48.452Z"
        },
        "id": "jzwY_u03aWs9"
      },
      "outputs": [],
      "source": [
        "df['Moving_Average'] = df['Close'].rolling(window=5).mean()\n",
        "\n"
      ]
    },
    {
      "cell_type": "code",
      "execution_count": 71,
      "metadata": {
        "ExecuteTime": {
          "start_time": "2024-05-01T18:14:48.453Z"
        },
        "colab": {
          "base_uri": "https://localhost:8080/",
          "height": 639
        },
        "id": "PlNz1Db4aW4F",
        "outputId": "f8f4af70-24f8-4df2-a42e-42e2ef874eab"
      },
      "outputs": [
        {
          "output_type": "stream",
          "name": "stdout",
          "text": [
            "20/20 [==============================] - 0s 5ms/step\n"
          ]
        },
        {
          "output_type": "display_data",
          "data": {
            "text/plain": [
              "<Figure size 1500x700 with 1 Axes>"
            ],
            "image/png": "[encoded data removed]"
          },
          "metadata": {}
        }
      ],
      "source": [
        "# Predict\n",
        "predictions = model.predict(X_test_scaled)\n",
        "\n",
        "# Visualize\n",
        "plt.figure(figsize=(15, 7))\n",
        "plt.plot(y_test, label='Actual')\n",
        "plt.plot(predictions, label='Predicted')\n",
        "plt.title('LSTM Predictions vs Actual')\n",
        "plt.legend()\n",
        "plt.show()\n"
      ]
    },
    {
      "cell_type": "code",
      "execution_count": 72,
      "metadata": {
        "ExecuteTime": {
          "start_time": "2024-05-01T18:14:48.453Z"
        },
        "id": "Bf_-KHg-aW69"
      },
      "outputs": [],
      "source": [
        "# Assuming predictions and y_test were scaled\n",
        "predictions_original = scaler.inverse_transform(predictions)\n",
        "y_test_original = scaler.inverse_transform(y_test.reshape(-1, 1))\n"
      ]
    },
    {
      "cell_type": "code",
      "execution_count": 73,
      "metadata": {
        "ExecuteTime": {
          "start_time": "2024-05-01T18:14:48.454Z"
        },
        "colab": {
          "base_uri": "https://localhost:8080/"
        },
        "id": "19h9oVf9aW9l",
        "outputId": "444aaaa8-0f81-4f92-b5f1-885bc7186586"
      },
      "outputs": [
        {
          "output_type": "stream",
          "name": "stdout",
          "text": [
            "Epoch 1/100\n",
            "62/62 [==============================] - 1s 17ms/step - loss: 1.0621e-04 - val_loss: 0.0044\n",
            "Epoch 2/100\n",
            "62/62 [==============================] - 1s 11ms/step - loss: 1.2190e-04 - val_loss: 0.0051\n",
            "Epoch 3/100\n",
            "62/62 [==============================] - 1s 10ms/step - loss: 9.4679e-05 - val_loss: 0.0040\n",
            "Epoch 4/100\n",
            "62/62 [==============================] - 1s 9ms/step - loss: 8.6624e-05 - val_loss: 0.0029\n",
            "Epoch 5/100\n",
            "62/62 [==============================] - 1s 10ms/step - loss: 9.8174e-05 - val_loss: 0.0024\n",
            "Epoch 6/100\n",
            "62/62 [==============================] - 1s 9ms/step - loss: 9.1915e-05 - val_loss: 0.0049\n",
            "Epoch 7/100\n",
            "62/62 [==============================] - 1s 10ms/step - loss: 1.0208e-04 - val_loss: 0.0018\n",
            "Epoch 8/100\n",
            "62/62 [==============================] - 1s 9ms/step - loss: 9.6200e-05 - val_loss: 0.0030\n",
            "Epoch 9/100\n",
            "62/62 [==============================] - 1s 10ms/step - loss: 8.3353e-05 - val_loss: 0.0051\n",
            "Epoch 10/100\n",
            "62/62 [==============================] - 1s 10ms/step - loss: 9.4831e-05 - val_loss: 0.0041\n",
            "Epoch 11/100\n",
            "62/62 [==============================] - 1s 10ms/step - loss: 9.0588e-05 - val_loss: 0.0023\n",
            "Epoch 12/100\n",
            "62/62 [==============================] - 1s 10ms/step - loss: 9.0846e-05 - val_loss: 0.0040\n",
            "Epoch 13/100\n",
            "62/62 [==============================] - 1s 10ms/step - loss: 9.2803e-05 - val_loss: 0.0052\n",
            "Epoch 14/100\n",
            "62/62 [==============================] - 1s 10ms/step - loss: 9.1203e-05 - val_loss: 0.0012\n",
            "Epoch 15/100\n",
            "62/62 [==============================] - 1s 10ms/step - loss: 9.1291e-05 - val_loss: 0.0021\n",
            "Epoch 16/100\n",
            "62/62 [==============================] - 1s 10ms/step - loss: 1.1816e-04 - val_loss: 0.0020\n",
            "Epoch 17/100\n",
            "62/62 [==============================] - 1s 10ms/step - loss: 9.9850e-05 - val_loss: 0.0025\n",
            "Epoch 18/100\n",
            "62/62 [==============================] - 1s 14ms/step - loss: 8.8895e-05 - val_loss: 0.0041\n",
            "Epoch 19/100\n",
            "62/62 [==============================] - 1s 16ms/step - loss: 9.6597e-05 - val_loss: 0.0037\n",
            "Epoch 20/100\n",
            "62/62 [==============================] - 1s 14ms/step - loss: 8.9766e-05 - val_loss: 0.0033\n",
            "Epoch 21/100\n",
            "62/62 [==============================] - 1s 16ms/step - loss: 1.0552e-04 - val_loss: 0.0044\n",
            "Epoch 22/100\n",
            "62/62 [==============================] - 1s 18ms/step - loss: 9.6955e-05 - val_loss: 0.0055\n",
            "Epoch 23/100\n",
            "62/62 [==============================] - 2s 29ms/step - loss: 9.1407e-05 - val_loss: 0.0036\n",
            "Epoch 24/100\n",
            "62/62 [==============================] - 2s 29ms/step - loss: 8.7121e-05 - val_loss: 0.0021\n",
            "Epoch 25/100\n",
            "62/62 [==============================] - 1s 23ms/step - loss: 9.2757e-05 - val_loss: 0.0045\n",
            "Epoch 26/100\n",
            "62/62 [==============================] - 1s 17ms/step - loss: 9.0947e-05 - val_loss: 0.0039\n",
            "Epoch 27/100\n",
            "62/62 [==============================] - 1s 24ms/step - loss: 8.5301e-05 - val_loss: 0.0039\n",
            "Epoch 28/100\n",
            "62/62 [==============================] - 1s 24ms/step - loss: 8.6035e-05 - val_loss: 0.0051\n",
            "Epoch 29/100\n",
            "62/62 [==============================] - 1s 20ms/step - loss: 8.2607e-05 - val_loss: 0.0029\n",
            "Epoch 30/100\n",
            "62/62 [==============================] - 2s 25ms/step - loss: 9.4864e-05 - val_loss: 0.0047\n",
            "Epoch 31/100\n",
            "62/62 [==============================] - 2s 28ms/step - loss: 9.4031e-05 - val_loss: 0.0037\n",
            "Epoch 32/100\n",
            "62/62 [==============================] - 1s 21ms/step - loss: 1.0998e-04 - val_loss: 0.0019\n",
            "Epoch 33/100\n",
            "62/62 [==============================] - 1s 18ms/step - loss: 9.0553e-05 - val_loss: 0.0061\n",
            "Epoch 34/100\n",
            "62/62 [==============================] - 1s 15ms/step - loss: 9.7392e-05 - val_loss: 0.0033\n",
            "Epoch 35/100\n",
            "62/62 [==============================] - 1s 10ms/step - loss: 9.2421e-05 - val_loss: 0.0035\n",
            "Epoch 36/100\n",
            "62/62 [==============================] - 1s 10ms/step - loss: 9.5921e-05 - val_loss: 0.0052\n",
            "Epoch 37/100\n",
            "62/62 [==============================] - 1s 10ms/step - loss: 9.4914e-05 - val_loss: 0.0029\n",
            "Epoch 38/100\n",
            "62/62 [==============================] - 1s 10ms/step - loss: 9.1987e-05 - val_loss: 0.0033\n",
            "Epoch 39/100\n",
            "62/62 [==============================] - 1s 9ms/step - loss: 9.7092e-05 - val_loss: 0.0034\n",
            "Epoch 40/100\n",
            "62/62 [==============================] - 1s 10ms/step - loss: 9.8878e-05 - val_loss: 0.0061\n",
            "Epoch 41/100\n",
            "62/62 [==============================] - 1s 9ms/step - loss: 8.6415e-05 - val_loss: 0.0047\n",
            "Epoch 42/100\n",
            "62/62 [==============================] - 1s 10ms/step - loss: 8.7717e-05 - val_loss: 0.0049\n",
            "Epoch 43/100\n",
            "62/62 [==============================] - 1s 10ms/step - loss: 8.9752e-05 - val_loss: 0.0048\n",
            "Epoch 44/100\n",
            "62/62 [==============================] - 1s 10ms/step - loss: 9.1019e-05 - val_loss: 0.0054\n",
            "Epoch 45/100\n",
            "62/62 [==============================] - 1s 10ms/step - loss: 9.2577e-05 - val_loss: 0.0057\n",
            "Epoch 46/100\n",
            "62/62 [==============================] - 1s 9ms/step - loss: 8.8792e-05 - val_loss: 0.0018\n",
            "Epoch 47/100\n",
            "62/62 [==============================] - 1s 12ms/step - loss: 9.3176e-05 - val_loss: 0.0045\n",
            "Epoch 48/100\n",
            "62/62 [==============================] - 1s 15ms/step - loss: 1.0569e-04 - val_loss: 0.0054\n",
            "Epoch 49/100\n",
            "62/62 [==============================] - 1s 16ms/step - loss: 9.7295e-05 - val_loss: 0.0027\n",
            "Epoch 50/100\n",
            "62/62 [==============================] - 1s 14ms/step - loss: 8.7811e-05 - val_loss: 0.0015\n",
            "Epoch 51/100\n",
            "62/62 [==============================] - 1s 17ms/step - loss: 9.3721e-05 - val_loss: 0.0015\n",
            "Epoch 52/100\n",
            "62/62 [==============================] - 1s 11ms/step - loss: 9.4729e-05 - val_loss: 0.0030\n",
            "Epoch 53/100\n",
            "62/62 [==============================] - 1s 10ms/step - loss: 9.5218e-05 - val_loss: 0.0026\n",
            "Epoch 54/100\n",
            "62/62 [==============================] - 1s 10ms/step - loss: 8.4511e-05 - val_loss: 0.0021\n",
            "Epoch 55/100\n",
            "62/62 [==============================] - 1s 9ms/step - loss: 9.6699e-05 - val_loss: 0.0013\n",
            "Epoch 56/100\n",
            "62/62 [==============================] - 1s 10ms/step - loss: 1.0191e-04 - val_loss: 0.0015\n",
            "Epoch 57/100\n",
            "62/62 [==============================] - 1s 10ms/step - loss: 9.0707e-05 - val_loss: 0.0040\n",
            "Epoch 58/100\n",
            "62/62 [==============================] - 1s 10ms/step - loss: 8.7185e-05 - val_loss: 0.0016\n",
            "Epoch 59/100\n",
            "62/62 [==============================] - 1s 10ms/step - loss: 8.8894e-05 - val_loss: 0.0028\n",
            "Epoch 60/100\n",
            "62/62 [==============================] - 1s 9ms/step - loss: 8.8685e-05 - val_loss: 0.0021\n",
            "Epoch 61/100\n",
            "62/62 [==============================] - 1s 10ms/step - loss: 8.7873e-05 - val_loss: 0.0027\n",
            "Epoch 62/100\n",
            "62/62 [==============================] - 1s 10ms/step - loss: 9.0632e-05 - val_loss: 0.0039\n",
            "Epoch 63/100\n",
            "62/62 [==============================] - 1s 10ms/step - loss: 8.8315e-05 - val_loss: 0.0045\n",
            "Epoch 64/100\n",
            "62/62 [==============================] - 1s 10ms/step - loss: 8.4492e-05 - val_loss: 0.0049\n",
            "Epoch 65/100\n",
            "62/62 [==============================] - 1s 9ms/step - loss: 9.4248e-05 - val_loss: 0.0038\n",
            "Epoch 66/100\n",
            "62/62 [==============================] - 1s 10ms/step - loss: 9.7532e-05 - val_loss: 0.0052\n",
            "Epoch 67/100\n",
            "62/62 [==============================] - 1s 9ms/step - loss: 9.0059e-05 - val_loss: 0.0044\n",
            "Epoch 68/100\n",
            "62/62 [==============================] - 1s 13ms/step - loss: 9.8439e-05 - val_loss: 0.0054\n",
            "Epoch 69/100\n",
            "62/62 [==============================] - 1s 15ms/step - loss: 9.0533e-05 - val_loss: 0.0079\n",
            "Epoch 70/100\n",
            "62/62 [==============================] - 1s 14ms/step - loss: 1.0220e-04 - val_loss: 0.0044\n",
            "Epoch 71/100\n",
            "62/62 [==============================] - 1s 15ms/step - loss: 9.4737e-05 - val_loss: 0.0047\n",
            "Epoch 72/100\n",
            "62/62 [==============================] - 1s 15ms/step - loss: 9.0551e-05 - val_loss: 0.0030\n",
            "Epoch 73/100\n",
            "62/62 [==============================] - 1s 11ms/step - loss: 1.0195e-04 - val_loss: 0.0077\n",
            "Epoch 74/100\n",
            "62/62 [==============================] - 1s 10ms/step - loss: 9.5459e-05 - val_loss: 0.0029\n",
            "Epoch 75/100\n",
            "62/62 [==============================] - 1s 10ms/step - loss: 9.4752e-05 - val_loss: 0.0070\n",
            "Epoch 76/100\n",
            "62/62 [==============================] - 1s 10ms/step - loss: 7.9818e-05 - val_loss: 0.0038\n",
            "Epoch 77/100\n",
            "62/62 [==============================] - 1s 10ms/step - loss: 8.9813e-05 - val_loss: 0.0057\n",
            "Epoch 78/100\n",
            "62/62 [==============================] - 1s 10ms/step - loss: 9.2176e-05 - val_loss: 0.0046\n",
            "Epoch 79/100\n",
            "62/62 [==============================] - 1s 10ms/step - loss: 8.7301e-05 - val_loss: 0.0063\n",
            "Epoch 80/100\n",
            "62/62 [==============================] - 1s 10ms/step - loss: 8.5849e-05 - val_loss: 0.0030\n",
            "Epoch 81/100\n",
            "62/62 [==============================] - 1s 10ms/step - loss: 9.2027e-05 - val_loss: 0.0021\n",
            "Epoch 82/100\n",
            "62/62 [==============================] - 1s 10ms/step - loss: 8.5157e-05 - val_loss: 0.0047\n",
            "Epoch 83/100\n",
            "62/62 [==============================] - 1s 10ms/step - loss: 9.2344e-05 - val_loss: 0.0030\n",
            "Epoch 84/100\n",
            "62/62 [==============================] - 1s 10ms/step - loss: 9.7750e-05 - val_loss: 0.0032\n",
            "Epoch 85/100\n",
            "62/62 [==============================] - 1s 10ms/step - loss: 8.8312e-05 - val_loss: 0.0035\n",
            "Epoch 86/100\n",
            "62/62 [==============================] - 1s 10ms/step - loss: 9.5462e-05 - val_loss: 0.0028\n",
            "Epoch 87/100\n",
            "62/62 [==============================] - 1s 10ms/step - loss: 7.8860e-05 - val_loss: 0.0033\n",
            "Epoch 88/100\n",
            "62/62 [==============================] - 1s 10ms/step - loss: 9.0509e-05 - val_loss: 0.0021\n",
            "Epoch 89/100\n",
            "62/62 [==============================] - 1s 15ms/step - loss: 9.7602e-05 - val_loss: 0.0036\n",
            "Epoch 90/100\n",
            "62/62 [==============================] - 1s 14ms/step - loss: 9.0959e-05 - val_loss: 0.0024\n",
            "Epoch 91/100\n",
            "62/62 [==============================] - 1s 14ms/step - loss: 1.0234e-04 - val_loss: 0.0026\n",
            "Epoch 92/100\n",
            "62/62 [==============================] - 1s 15ms/step - loss: 9.5249e-05 - val_loss: 0.0059\n",
            "Epoch 93/100\n",
            "62/62 [==============================] - 1s 17ms/step - loss: 8.5935e-05 - val_loss: 0.0050\n",
            "Epoch 94/100\n",
            "62/62 [==============================] - 1s 10ms/step - loss: 8.7126e-05 - val_loss: 0.0055\n",
            "Epoch 95/100\n",
            "62/62 [==============================] - 1s 10ms/step - loss: 9.1580e-05 - val_loss: 0.0071\n",
            "Epoch 96/100\n",
            "62/62 [==============================] - 1s 10ms/step - loss: 8.7902e-05 - val_loss: 0.0071\n",
            "Epoch 97/100\n",
            "62/62 [==============================] - 1s 10ms/step - loss: 8.9671e-05 - val_loss: 0.0059\n",
            "Epoch 98/100\n",
            "62/62 [==============================] - 1s 10ms/step - loss: 8.2732e-05 - val_loss: 0.0045\n",
            "Epoch 99/100\n",
            "62/62 [==============================] - 1s 10ms/step - loss: 9.1967e-05 - val_loss: 0.0072\n",
            "Epoch 100/100\n",
            "62/62 [==============================] - 1s 10ms/step - loss: 8.8984e-05 - val_loss: 0.0075\n"
          ]
        }
      ],
      "source": [
        "history = model.fit(\n",
        "    X_train_scaled, y_train,\n",
        "    epochs=100,\n",
        "    batch_size=32,\n",
        "    validation_split=0.2,  # Keras automatically holds out this fraction of the training data for validation\n",
        "    verbose=1\n",
        ")\n"
      ]
    },
    {
      "cell_type": "code",
      "execution_count": 74,
      "metadata": {
        "ExecuteTime": {
          "start_time": "2024-05-01T18:14:48.454Z"
        },
        "id": "WasL_sOwrwA9"
      },
      "outputs": [],
      "source": [
        "# Assuming y_true are the true labels and y_pred are the model's predictions\n",
        "y_true = [...]  # replace with actual true labels\n",
        "y_pred = [...]  # replace with actual predictions\n"
      ]
    },
    {
      "cell_type": "code",
      "execution_count": 77,
      "metadata": {
        "ExecuteTime": {
          "start_time": "2024-05-01T18:14:48.455Z"
        },
        "id": "HSueF1ksr1GR"
      },
      "outputs": [],
      "source": [
        "y_true = np.array(y_true, dtype=object)\n",
        "y_pred = np.array(y_pred, dtype=object)\n",
        "\n"
      ]
    },
    {
      "cell_type": "code",
      "execution_count": 78,
      "metadata": {
        "ExecuteTime": {
          "start_time": "2024-05-01T18:14:48.455Z"
        },
        "id": "hwdeytC3ss-a"
      },
      "outputs": [],
      "source": [
        "# Check if they are of equal length\n",
        "if len(y_true) != len(y_pred):\n",
        "    raise ValueError(\"The length of y_true and y_pred must be the same.\")\n"
      ]
    },
    {
      "cell_type": "code",
      "execution_count": 79,
      "metadata": {
        "ExecuteTime": {
          "start_time": "2024-05-01T18:14:48.456Z"
        },
        "id": "Xhld01NEszhd"
      },
      "outputs": [],
      "source": [
        "# Check if the input types are numeric or strings and handle accordingly\n",
        "if np.issubdtype(y_true.dtype, np.number) and np.issubdtype(y_pred.dtype, np.number):\n",
        "    # If numeric, check for NaN values directly\n",
        "    if np.isnan(y_true).any() or np.isnan(y_pred).any():\n",
        "        raise ValueError(\"NaN values found in input arrays.\")\n",
        "else:\n",
        "    # If not numeric (e.g., strings), convert to integers using LabelEncoder\n",
        "    le = LabelEncoder()\n",
        "    y_true = le.fit_transform(y_true)\n",
        "    y_pred = le.transform(y_pred)\n"
      ]
    },
    {
      "cell_type": "code",
      "execution_count": 80,
      "metadata": {
        "ExecuteTime": {
          "start_time": "2024-05-01T18:14:48.456Z"
        },
        "colab": {
          "base_uri": "https://localhost:8080/"
        },
        "id": "kmDWUUKYszsJ",
        "outputId": "bd921f44-a1a4-4175-e8b5-5200d5126869"
      },
      "outputs": [
        {
          "output_type": "stream",
          "name": "stderr",
          "text": [
            "/usr/local/lib/python3.10/dist-packages/sklearn/metrics/_classification.py:1344: UndefinedMetricWarning: Precision is ill-defined and being set to 0.0 due to no predicted samples. Use `zero_division` parameter to control this behavior.\n",
            "  _warn_prf(average, modifier, msg_start, len(result))\n",
            "/usr/local/lib/python3.10/dist-packages/sklearn/metrics/_classification.py:1344: UndefinedMetricWarning: Recall is ill-defined and being set to 0.0 due to no true samples. Use `zero_division` parameter to control this behavior.\n",
            "  _warn_prf(average, modifier, msg_start, len(result))\n",
            "/usr/local/lib/python3.10/dist-packages/sklearn/metrics/_classification.py:1609: UndefinedMetricWarning: F-score is ill-defined and being set to 0.0 due to no true nor predicted samples. Use `zero_division` parameter to control this behavior.\n",
            "  _warn_prf(average, \"true nor predicted\", \"F-score is\", len(true_sum))\n"
          ]
        }
      ],
      "source": [
        "# Now y_true and y_pred should be numeric, you can safely calculate metrics\n",
        "accuracy = accuracy_score(y_true, y_pred)\n",
        "precision = precision_score(y_true, y_pred, average='binary')\n",
        "recall = recall_score(y_true, y_pred, average='binary')\n",
        "f1 = f1_score(y_true, y_pred, average='binary')"
      ]
    },
    {
      "cell_type": "code",
      "execution_count": 81,
      "metadata": {
        "ExecuteTime": {
          "start_time": "2024-05-01T18:14:48.457Z"
        },
        "colab": {
          "base_uri": "https://localhost:8080/"
        },
        "id": "Va10QnJZuCDe",
        "outputId": "2f2e2468-a3f5-4f2d-bb8a-09c0af3e58d1"
      },
      "outputs": [
        {
          "output_type": "stream",
          "name": "stdout",
          "text": [
            "Accuracy: 1.0\n",
            "Precision: 0.0\n",
            "Recall: 0.0\n",
            "F1 Score: 0.0\n"
          ]
        }
      ],
      "source": [
        "# Output the results\n",
        "print(f'Accuracy: {accuracy}')\n",
        "print(f'Precision: {precision}')\n",
        "print(f'Recall: {recall}')\n",
        "print(f'F1 Score: {f1}')"
      ]
    },
    {
      "cell_type": "code",
      "execution_count": 82,
      "metadata": {
        "ExecuteTime": {
          "start_time": "2024-05-01T18:14:48.457Z"
        },
        "id": "51Anoaa9uqbV"
      },
      "outputs": [],
      "source": [
        "# This step is only necessary if your labels are categorical (e.g., 'yes', 'no')\n",
        "label_encoder = LabelEncoder()\n",
        "y_true_encoded = label_encoder.fit_transform(y_true)\n",
        "y_pred_encoded = label_encoder.transform(y_pred)"
      ]
    },
    {
      "cell_type": "code",
      "execution_count": 83,
      "metadata": {
        "ExecuteTime": {
          "start_time": "2024-05-01T18:14:48.458Z"
        },
        "colab": {
          "base_uri": "https://localhost:8080/"
        },
        "id": "GvXtIdnUuqz_",
        "outputId": "cb62c1ad-444f-4f82-a480-4e4ccc6f4206"
      },
      "outputs": [
        {
          "output_type": "stream",
          "name": "stdout",
          "text": [
            "Accuracy: 1.0\n",
            "Precision: 0.0\n",
            "Recall: 0.0\n",
            "F1 Score: 0.0\n"
          ]
        },
        {
          "output_type": "stream",
          "name": "stderr",
          "text": [
            "/usr/local/lib/python3.10/dist-packages/sklearn/metrics/_classification.py:1344: UndefinedMetricWarning: Precision is ill-defined and being set to 0.0 due to no predicted samples. Use `zero_division` parameter to control this behavior.\n",
            "  _warn_prf(average, modifier, msg_start, len(result))\n",
            "/usr/local/lib/python3.10/dist-packages/sklearn/metrics/_classification.py:1344: UndefinedMetricWarning: Recall is ill-defined and being set to 0.0 due to no true samples. Use `zero_division` parameter to control this behavior.\n",
            "  _warn_prf(average, modifier, msg_start, len(result))\n",
            "/usr/local/lib/python3.10/dist-packages/sklearn/metrics/_classification.py:1609: UndefinedMetricWarning: F-score is ill-defined and being set to 0.0 due to no true nor predicted samples. Use `zero_division` parameter to control this behavior.\n",
            "  _warn_prf(average, \"true nor predicted\", \"F-score is\", len(true_sum))\n"
          ]
        }
      ],
      "source": [
        "# Replace y_true and y_pred with y_true_encoded and y_pred_encoded if you performed encoding\n",
        "accuracy = accuracy_score(y_true, y_pred)\n",
        "precision = precision_score(y_true, y_pred, average='binary')  # or 'macro'/'micro'/'weighted' for multiclass\n",
        "recall = recall_score(y_true, y_pred, average='binary')  # ditto\n",
        "f1 = f1_score(y_true, y_pred, average='binary')  # ditto\n",
        "\n",
        "print(f'Accuracy: {accuracy}')\n",
        "print(f'Precision: {precision}')\n",
        "print(f'Recall: {recall}')\n",
        "print(f'F1 Score: {f1}')"
      ]
    },
    {
      "cell_type": "code",
      "execution_count": 84,
      "metadata": {
        "ExecuteTime": {
          "start_time": "2024-05-01T18:14:48.458Z"
        },
        "colab": {
          "base_uri": "https://localhost:8080/"
        },
        "id": "PK25RKUZuq4C",
        "outputId": "2c998775-4b4a-40f7-e721-b054f491b4d9"
      },
      "outputs": [
        {
          "output_type": "stream",
          "name": "stdout",
          "text": [
            "0    1\n",
            "Name: count, dtype: int64\n"
          ]
        }
      ],
      "source": [
        "# Assuming y_true is a numpy array or a list\n",
        "class_distribution = pd.Series(y_true).value_counts()\n",
        "print(class_distribution)"
      ]
    },
    {
      "cell_type": "code",
      "execution_count": 85,
      "metadata": {
        "ExecuteTime": {
          "start_time": "2024-05-01T18:14:48.458Z"
        },
        "colab": {
          "base_uri": "https://localhost:8080/"
        },
        "id": "nctOJDu2uq8J",
        "outputId": "5f0d9738-65f4-4373-b3ca-a644b31f9a04"
      },
      "outputs": [
        {
          "output_type": "stream",
          "name": "stdout",
          "text": [
            "True labels: [0]\n",
            "Predicted labels: [0]\n"
          ]
        }
      ],
      "source": [
        "# Print first 10 true and predicted labels\n",
        "print(\"True labels:\", y_true[:10])\n",
        "print(\"Predicted labels:\", y_pred[:10])"
      ]
    },
    {
      "cell_type": "code",
      "execution_count": 86,
      "metadata": {
        "ExecuteTime": {
          "start_time": "2024-05-01T18:14:48.459Z"
        },
        "id": "0-xSeeo9ySg9"
      },
      "outputs": [],
      "source": [
        "# Convert it to numerical form using LabelEncoder if it's not already numerical\n",
        "if df['Price_Change'].dtype == 'object':\n",
        "    le = LabelEncoder()\n",
        "    df['Price_Change'] = le.fit_transform(df['Price_Change'])\n",
        "\n",
        "# Split data into features and target variable\n",
        "X = df.drop('Price_Change', axis=1)\n",
        "y = df['Price_Change']\n",
        "\n",
        "# Split data into training and testing sets\n",
        "X_train, X_test, y_train, y_test = train_test_split(X, y, test_size=0.2, random_state=42)\n",
        "\n"
      ]
    },
    {
      "cell_type": "code",
      "execution_count": 90,
      "metadata": {
        "ExecuteTime": {
          "start_time": "2024-05-01T18:14:48.459Z"
        },
        "id": "UIzq7KpT3IP4"
      },
      "outputs": [],
      "source": [
        "df['Date'] = pd.to_datetime(df['Date']).apply(lambda x: x.timestamp())\n"
      ]
    },
    {
      "cell_type": "code",
      "execution_count": 91,
      "metadata": {
        "ExecuteTime": {
          "start_time": "2024-05-01T18:14:48.460Z"
        },
        "id": "HA-Nx1k73e9K"
      },
      "outputs": [],
      "source": [
        "# Split data into features and target\n",
        "X = df.drop('Price_Change', axis=1)\n",
        "y = df['Price_Change']\n"
      ]
    },
    {
      "cell_type": "code",
      "execution_count": 88,
      "metadata": {
        "ExecuteTime": {
          "start_time": "2024-05-01T18:14:48.460Z"
        },
        "id": "j9xZwGS43l3X"
      },
      "outputs": [],
      "source": [
        "# Split data into training and testing sets\n",
        "X_train, X_test, y_train, y_test = train_test_split(X, y, test_size=0.2, random_state=42)"
      ]
    },
    {
      "cell_type": "code",
      "execution_count": 87,
      "metadata": {
        "ExecuteTime": {
          "start_time": "2024-05-01T18:14:48.460Z"
        },
        "id": "VxDueLWA3qmv"
      },
      "outputs": [],
      "source": [
        "# Initialize the Logistic Regression model\n",
        "model = LogisticRegression()"
      ]
    },
    {
      "cell_type": "code",
      "execution_count": 92,
      "metadata": {
        "ExecuteTime": {
          "start_time": "2024-05-01T18:14:48.461Z"
        },
        "id": "3daJ4rBZ3w4V"
      },
      "outputs": [],
      "source": [
        "# Assuming 'Neutral' is a category in the 'Market_Cycle' column\n",
        "df = pd.get_dummies(df, columns=['Market_Cycle'])\n"
      ]
    },
    {
      "cell_type": "code",
      "execution_count": 93,
      "metadata": {
        "ExecuteTime": {
          "start_time": "2024-05-01T18:14:48.461Z"
        },
        "colab": {
          "base_uri": "https://localhost:8080/"
        },
        "id": "4b4yEINy2uQX",
        "outputId": "aea411e1-8391-43b4-f380-ee980d086ba2"
      },
      "outputs": [
        {
          "output_type": "stream",
          "name": "stdout",
          "text": [
            "Index(['Date', 'Open', 'High', 'Low', 'Close', 'Adj Close', 'Volume',\n",
            "       'Price_Change', 'Daily Return', 'Close_Lag1', 'Moving_Average',\n",
            "       'Market_Cycle_Bear', 'Market_Cycle_Bull', 'Market_Cycle_Neutral'],\n",
            "      dtype='object')\n"
          ]
        }
      ],
      "source": [
        "print(df.columns)\n"
      ]
    },
    {
      "cell_type": "code",
      "execution_count": 94,
      "metadata": {
        "ExecuteTime": {
          "start_time": "2024-05-01T18:14:48.462Z"
        },
        "id": "DcVQK_wh_a6E"
      },
      "outputs": [],
      "source": [
        "# Assuming 'Price_Change' is your target variable\n",
        "target_column_name = 'Price_Change'\n",
        "\n",
        "# Features selection (excluding the target column and the 'Date' column)\n",
        "features_columns = ['Open', 'High', 'Low', 'Close', 'Adj Close', 'Volume',\n",
        "                    'Daily Return', 'Close_Lag1', 'Moving_Average',\n",
        "                    'Market_Cycle_Bear', 'Market_Cycle_Bull', 'Market_Cycle_Neutral']\n",
        "\n",
        "# Split data into features (X) and target (y)\n",
        "X = df[features_columns]\n",
        "y = df[target_column_name]\n",
        "\n",
        "# Split the data into training and testing sets\n",
        "from sklearn.model_selection import train_test_split\n",
        "\n",
        "X_train, X_test, y_train, y_test = train_test_split(X, y, test_size=0.2, random_state=42)\n",
        "\n"
      ]
    },
    {
      "cell_type": "code",
      "source": [
        "import numpy as np\n",
        "\n",
        "# Check for NaN or infinite values in y_test and y_pred\n",
        "print(\"NaN in y_test:\", np.isnan(y_test).any())\n",
        "print(\"Inf in y_test:\", np.isinf(y_test).any())\n",
        "\n",
        "print(\"NaN in y_pred:\", np.isnan(y_pred).any())\n",
        "print(\"Inf in y_pred:\", np.isinf(y_pred).any())\n"
      ],
      "metadata": {
        "colab": {
          "base_uri": "https://localhost:8080/"
        },
        "id": "HpOoC0FTxwbP",
        "outputId": "38b45340-a7c2-45b3-d4c4-8d4a9a6c7d34"
      },
      "execution_count": 97,
      "outputs": [
        {
          "output_type": "stream",
          "name": "stdout",
          "text": [
            "NaN in y_test: True\n",
            "Inf in y_test: False\n",
            "NaN in y_pred: False\n",
            "Inf in y_pred: False\n"
          ]
        }
      ]
    },
    {
      "cell_type": "code",
      "source": [
        "# Assuming replacement is appropriate\n",
        "y_test = np.nan_to_num(y_test, nan=np.nanmean(y_test), posinf=np.max(y_test[np.isfinite(y_test)]), neginf=np.min(y_test[np.isfinite(y_test)]))\n",
        "y_pred = np.nan_to_num(y_pred, nan=np.nanmean(y_pred), posinf=np.max(y_pred[np.isfinite(y_pred)]), neginf=np.min(y_pred[np.isfinite(y_pred)]))\n"
      ],
      "metadata": {
        "id": "Vi5KzOvzyE2R"
      },
      "execution_count": 98,
      "outputs": []
    },
    {
      "cell_type": "code",
      "execution_count": 99,
      "metadata": {
        "ExecuteTime": {
          "start_time": "2024-05-01T18:14:48.462Z"
        },
        "colab": {
          "base_uri": "https://localhost:8080/"
        },
        "id": "w54Y1HJS_bEz",
        "outputId": "25eef1ea-5631-4ced-c36a-4c825aa92608"
      },
      "outputs": [
        {
          "output_type": "stream",
          "name": "stdout",
          "text": [
            "Mean Squared Error: 2.7907882541485532e-05\n",
            "R-squared: 0.978839715611334\n"
          ]
        }
      ],
      "source": [
        "# Impute missing values with median\n",
        "imputer = SimpleImputer(strategy='median')\n",
        "\n",
        "# Create a pipeline that first imputes the data then fits the model\n",
        "pipeline = make_pipeline(imputer, RandomForestRegressor(random_state=42))\n",
        "\n",
        "# Fit the pipeline to the training data\n",
        "pipeline.fit(X_train, y_train)\n",
        "\n",
        "# Predict on the test data\n",
        "y_pred = pipeline.predict(X_test)\n",
        "\n",
        "# Evaluate the model\n",
        "mse = mean_squared_error(y_test, y_pred)\n",
        "r2 = r2_score(y_test, y_pred)\n",
        "\n",
        "# Print the results\n",
        "print(f\"Mean Squared Error: {mse}\")\n",
        "print(f\"R-squared: {r2}\")"
      ]
    }
  ],
  "metadata": {
    "colab": {
      "provenance": [],
      "include_colab_link": true
    },
    "kernelspec": {
      "display_name": "Python 3 (ipykernel)",
      "language": "python",
      "name": "python3"
    },
    "language_info": {
      "codemirror_mode": {
        "name": "ipython",
        "version": 3
      },
      "file_extension": ".py",
      "mimetype": "text/x-python",
      "name": "python",
      "nbconvert_exporter": "python",
      "pygments_lexer": "ipython3",
      "version": "3.8.18"
    },
    "toc": {
      "base_numbering": 1,
      "nav_menu": {},
      "number_sections": true,
      "sideBar": true,
      "skip_h1_title": false,
      "title_cell": "Table of Contents",
      "title_sidebar": "Contents",
      "toc_cell": false,
      "toc_position": {},
      "toc_section_display": true,
      "toc_window_display": false
    },
    "varInspector": {
      "cols": {
        "lenName": 16,
        "lenType": 16,
        "lenVar": 40
      },
      "kernels_config": {
        "python": {
          "delete_cmd_postfix": "",
          "delete_cmd_prefix": "del ",
          "library": "var_list.py",
          "varRefreshCmd": "print(var_dic_list())"
        },
        "r": {
          "delete_cmd_postfix": ") ",
          "delete_cmd_prefix": "rm(",
          "library": "var_list.r",
          "varRefreshCmd": "cat(var_dic_list()) "
        }
      },
      "types_to_exclude": [
        "module",
        "function",
        "builtin_function_or_method",
        "instance",
        "_Feature"
      ],
      "window_display": false
    }
  },
  "nbformat": 4,
  "nbformat_minor": 0
}